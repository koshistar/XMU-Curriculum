{
 "cells": [
  {
   "cell_type": "markdown",
   "metadata": {},
   "source": [
    "## 字符串（String类型）\n",
    "* 字符串默认是以utf-8方式编码的常量。\n",
    "* 字符串可以通过单引号(')或者双引号(\")来定义。\n",
    "* 内置函数len()可返回字符串的长度，即字符的个数。这与获得列表，元组，集合或者字典的长度的函数是同一个。Python中，字符串可以想像成由字符组成的元组。\n",
    "* 可以使用+操作符来连接(concatenate)字符串。 "
   ]
  },
  {
   "cell_type": "code",
   "execution_count": null,
   "metadata": {},
   "outputs": [],
   "source": [
    "s='厦门'\n",
    "t=\"大学\"\n",
    "print(len(s),len(t))"
   ]
  },
  {
   "cell_type": "markdown",
   "metadata": {},
   "source": [
    "* 转义符：以 **\\\\** 开头的若干个字符组成，用来替代一些特殊字符，例如，\\n 换行，\\t tab键，\\'单双引号，\\\" 双引号。\n",
    "* **如果在字符串前面加上r或者R，则转义符失效**。"
   ]
  },
  {
   "cell_type": "code",
   "execution_count": null,
   "metadata": {},
   "outputs": [],
   "source": [
    "print('a\\tb\\nc')\n",
    "print(r'a\\tb\\nc')"
   ]
  },
  {
   "cell_type": "markdown",
   "metadata": {},
   "source": [
    "### 字符串索引与分片\n",
    "(1) 索引：s[i]\n",
    "    * 取s中的编号为i的字符。\n",
    "    * 从左到右进行编号，最左边字符编号为0，最右边字符的编号为字符串的长度减1。\n",
    "    * Python还支持在字符串中使用负数从右向左进行编号，最右边的字符（即倒数第1个字符）的编号为-1，最左边的字符的编号为负的字符串长度。\n",
    "\n",
    "(2) 分片：s[i:j:k]\n",
    "    * 截取s中的任意部分形成新串。\n",
    "    * 其中i是索引起始位置，j是索引结束位置但不包括j位置上的字符，索引编号每次增加的步长为k。"
   ]
  },
  {
   "cell_type": "code",
   "execution_count": null,
   "metadata": {},
   "outputs": [
    {
     "name": "stdout",
     "output_type": "stream",
     "text": [
      "t e i\n",
      "e quick b\n",
      "the\n",
      "brown fox jumps over the lazy dog\n",
      "teqikb\n",
      "Error 'str' object does not support item assignment\n"
     ]
    }
   ],
   "source": [
    "s='the quick brown fox jumps over the lazy dog'\n",
    "print(s[0],s[2],s[6])\n",
    "\n",
    "# 截取从第2到第10的字符\n",
    "print(s[2:11])\n",
    "\n",
    "# 截取从第0到第2的字符\n",
    "print(s[:3])\n",
    "\n",
    "# 截取从第10到结束所有的字符\n",
    "print(s[10:])\n",
    "\n",
    "# 从第0到第11，每次增加2，即第0,2,4,6,8,10的字符\n",
    "print(s[0:12:2]) \n",
    "\n",
    "# 字符串是常量，所以不能通过赋值的方法直接修改其中的元素\n",
    "try:\n",
    "    s[0]=1                            #错误的赋值语句\n",
    "except Exception as e:\n",
    "    print(\"Error\",e)                   #出错时，程序的异常处理\n"
   ]
  },
  {
   "cell_type": "code",
   "execution_count": null,
   "metadata": {},
   "outputs": [],
   "source": [
    "# 例题 ：输入一个字符串，输出其中最后一个字符\n",
    "x=input()\n",
    "print(x[-1])"
   ]
  },
  {
   "cell_type": "code",
   "execution_count": 1,
   "metadata": {},
   "outputs": [
    {
     "name": "stdout",
     "output_type": "stream",
     "text": [
      "是回文数\n"
     ]
    }
   ],
   "source": [
    "# 例题：输入一个数字，判断是否回文数\n",
    "x=input()\n",
    "y=x[::-1]\n",
    "if x==y:\n",
    "    print(\"是回文数\")\n",
    "else:\n",
    "    print(\"不是回文数\")"
   ]
  },
  {
   "cell_type": "markdown",
   "metadata": {},
   "source": [
    "#### 练习1：川师的学号的某些位有特殊的含义，如从2016110101中可以看出该学生为2016级，就读于11系，班级为1班。\n",
    "#### 输入的学号，编程输出年级(第1-4位)、系号(第5-6位)、班级号(最后2位)。"
   ]
  },
  {
   "cell_type": "code",
   "execution_count": null,
   "metadata": {},
   "outputs": [
    {
     "name": "stdout",
     "output_type": "stream",
     "text": [
      "该学生为2016级，就读于11系，班级为1班。\n"
     ]
    }
   ],
   "source": [
    "str=input(\"输入学号\")\n",
    "print(\"该学生为\"+str[:4]+\"级，就读于\"+str[4:6]+f\"系，班级为15555151544sdsdadasdasdadasdaasdadsa"
   ]
  },
  {
   "cell_type": "code",
   "execution_count": null,
   "metadata": {},
   "outputs": [],
   "source": []
  }
 ],
 "metadata": {
  "kernelspec": {
   "display_name": "Python 3",
   "language": "python",
   "name": "python3"
  },
  "language_info": {
   "codemirror_mode": {
    "name": "ipython",
    "version": 3
   },
   "file_extension": ".py",
   "mimetype": "text/x-python",
   "name": "python",
   "nbconvert_exporter": "python",
   "pygments_lexer": "ipython3",
   "version": "3.12.8"
  }
 },
 "nbformat": 4,
 "nbformat_minor": 1
}
