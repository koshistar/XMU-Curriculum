{
 "cells": [
  {
   "cell_type": "markdown",
   "metadata": {},
   "source": [
    "### split: 字符串分割\n",
    "#### s.split()：\n",
    "    以空白字符(空格,换行,tab)作为分隔符，把字符串s从左往右分隔成多个字符串，并返回包含分隔结果的列表；\n",
    "#### s.split( sep )：\n",
    "    以sep指定字符为分隔符，把字符串s从左往右分隔成多个字符串，并返回包含分隔结果的列表；"
   ]
  },
  {
   "cell_type": "code",
   "execution_count": 1,
   "metadata": {},
   "outputs": [
    {
     "name": "stdout",
     "output_type": "stream",
     "text": [
      "['1', '2', '3', 'a', 'bcd', '56']\n"
     ]
    }
   ],
   "source": [
    "s=\"1 2 3 a bcd 56\"\n",
    "s1=s.split()\n",
    "print(s1)"
   ]
  },
  {
   "cell_type": "code",
   "execution_count": 2,
   "metadata": {},
   "outputs": [
    {
     "name": "stdout",
     "output_type": "stream",
     "text": [
      "['10', '20', '30', 'a', 'bcd', '256']\n"
     ]
    }
   ],
   "source": [
    "s=\"10,20,30,a,bcd,256\"\n",
    "s2=s.split(',')\n",
    "print(s2)"
   ]
  },
  {
   "cell_type": "markdown",
   "metadata": {},
   "source": [
    "### split 常用于分割输入的一组数据"
   ]
  },
  {
   "cell_type": "code",
   "execution_count": 4,
   "metadata": {},
   "outputs": [
    {
     "name": "stdout",
     "output_type": "stream",
     "text": [
      "请输入：1 2 3 4 9 89\n",
      "['1', '2', '3', '4', '9', '89']\n"
     ]
    }
   ],
   "source": [
    "#输入  1 2 3 4 9 89，将字符串按空格分隔，存入列表s3\n",
    "s=input(\"请输入：\")\n",
    "s3=s.split()\n",
    "print(s3)"
   ]
  },
  {
   "cell_type": "markdown",
   "metadata": {},
   "source": [
    "#### 练习1 在同一行里输入几个数字，用逗号分隔，求这些数字之和。\n",
    "```\n",
    "输入样例：10,8.5,9.5,12,783,6,8.5,100\n",
    "输出样例：937.5\n",
    "```"
   ]
  },
  {
   "cell_type": "code",
   "execution_count": 6,
   "metadata": {},
   "outputs": [
    {
     "name": "stdout",
     "output_type": "stream",
     "text": [
      "937.5\n"
     ]
    }
   ],
   "source": [
    "s=input(\"请输入:\")\n",
    "s4=s.split(',')\n",
    "sum=0.0\n",
    "for val in s4:\n",
    "    sum+=float(val)\n",
    "print(sum)"
   ]
  },
  {
   "cell_type": "code",
   "execution_count": null,
   "metadata": {},
   "outputs": [],
   "source": []
  }
 ],
 "metadata": {
  "kernelspec": {
   "display_name": "Python 3",
   "language": "python",
   "name": "python3"
  },
  "language_info": {
   "codemirror_mode": {
    "name": "ipython",
    "version": 3
   },
   "file_extension": ".py",
   "mimetype": "text/x-python",
   "name": "python",
   "nbconvert_exporter": "python",
   "pygments_lexer": "ipython3",
   "version": "3.12.8"
  }
 },
 "nbformat": 4,
 "nbformat_minor": 2
}
