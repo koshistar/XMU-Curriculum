{
 "cells": [
  {
   "cell_type": "markdown",
   "metadata": {},
   "source": [
    "# 一. Series对象\n",
    "## 1.1  创建Series对象"
   ]
  },
  {
   "cell_type": "code",
   "execution_count": 2,
   "metadata": {},
   "outputs": [],
   "source": [
    "import pandas as pd"
   ]
  },
  {
   "cell_type": "code",
   "execution_count": 2,
   "metadata": {},
   "outputs": [
    {
     "name": "stdout",
     "output_type": "stream",
     "text": [
      "0         123456\n",
      "1    hello world\n",
      "2          False\n",
      "dtype: object\n"
     ]
    }
   ],
   "source": [
    "#例1-1 将一维列表  转为  系列\n",
    "a = [123456, 'hello world', False]\n",
    "s1 = pd.Series(a)                                 #没有指定索引，索引值就从 0 开始\n",
    "print(s1)"
   ]
  },
  {
   "cell_type": "code",
   "execution_count": 3,
   "metadata": {},
   "outputs": [
    {
     "data": {
      "text/plain": [
       "a         123456\n",
       "b    Hello World\n",
       "c          False\n",
       "dtype: object"
      ]
     },
     "execution_count": 3,
     "metadata": {},
     "output_type": "execute_result"
    }
   ],
   "source": [
    "#例1-2\n",
    "data=[123456,'Hello World',False]\n",
    "index=['a','b','c']                        #指定索引\n",
    "pd.Series(  data ,  index) "
   ]
  },
  {
   "cell_type": "code",
   "execution_count": 3,
   "metadata": {},
   "outputs": [
    {
     "data": {
      "text/plain": [
       "a    4\n",
       "b    6\n",
       "c    8\n",
       "dtype: int32"
      ]
     },
     "execution_count": 3,
     "metadata": {},
     "output_type": "execute_result"
    }
   ],
   "source": [
    "#例1-3 由numpy数组创建series\n",
    "\n",
    "import numpy as np\n",
    "data=np.random.randint(1,10,size=(3,))     #注意：此处size是一维的。因为，系列是一维的，源数据也只能是一维的，\n",
    "s3=pd.Series( data ,index=['a','b','c'])   \n",
    "s3"
   ]
  },
  {
   "cell_type": "code",
   "execution_count": 5,
   "metadata": {},
   "outputs": [
    {
     "data": {
      "text/plain": [
       "A    1.0\n",
       "B    2.0\n",
       "C    3.0\n",
       "D    2.0\n",
       "dtype: float64"
      ]
     },
     "execution_count": 5,
     "metadata": {},
     "output_type": "execute_result"
    }
   ],
   "source": [
    "#例1-4用字典创建series，元素类型为float\n",
    "dic = {\"A\":1,\"B\":2,\"C\":3,\"D\":2}                        \n",
    "s4 = pd.Series(dic,dtype=\"float\")\n",
    "s4                                          #从结果可见，字典的key为系列的索引"
   ]
  },
  {
   "cell_type": "markdown",
   "metadata": {},
   "source": [
    "#### 练习1：创建系列对象s_1，值是0-1之间的随机数\n",
    "```\n",
    "0    0.975001\n",
    "1    0.085359\n",
    "2    0.773137\n",
    "3    0.002775\n",
    "4    0.553343\n",
    "```"
   ]
  },
  {
   "cell_type": "code",
   "execution_count": 7,
   "metadata": {},
   "outputs": [
    {
     "data": {
      "text/plain": [
       "0    0.426863\n",
       "1    0.939106\n",
       "2    0.756277\n",
       "3    0.949685\n",
       "4    0.980967\n",
       "dtype: float64"
      ]
     },
     "execution_count": 7,
     "metadata": {},
     "output_type": "execute_result"
    }
   ],
   "source": [
    "data=np.random.rand(5)\n",
    "s_1=pd.Series(data,index=range(5))\n",
    "s_1"
   ]
  },
  {
   "cell_type": "markdown",
   "metadata": {},
   "source": [
    "#### 练习2：创建系列对象s_2，值是1-10之间的随机整数\n",
    "```\n",
    "a    7\n",
    "b    1\n",
    "c    1\n",
    "o    1\n",
    "w    3\n",
    "```"
   ]
  },
  {
   "cell_type": "code",
   "execution_count": 9,
   "metadata": {},
   "outputs": [
    {
     "data": {
      "text/plain": [
       "a    4\n",
       "b    3\n",
       "c    6\n",
       "o    1\n",
       "w    5\n",
       "dtype: int32"
      ]
     },
     "execution_count": 9,
     "metadata": {},
     "output_type": "execute_result"
    }
   ],
   "source": [
    "data=np.random.randint(1,10,size=5)\n",
    "s_2=pd.Series(data,index=['a','b','c','o','w'])\n",
    "s_2"
   ]
  },
  {
   "cell_type": "markdown",
   "metadata": {},
   "source": [
    "#### 练习3：创建城市人口系列s_3\n",
    "```\n",
    "福州     710.1\n",
    "南昌     536.0\n",
    "厦门     261.1\n",
    "成都    1500.1\n",
    "```"
   ]
  },
  {
   "cell_type": "code",
   "execution_count": 12,
   "metadata": {},
   "outputs": [
    {
     "data": {
      "text/plain": [
       "福州     710.1\n",
       "南昌     536.0\n",
       "厦门     261.1\n",
       "成都    1500.0\n",
       "dtype: float64"
      ]
     },
     "execution_count": 12,
     "metadata": {},
     "output_type": "execute_result"
    }
   ],
   "source": [
    "data={\"福州\":710.1,\"南昌\":536.0,\"厦门\":261.1,\"成都\":1500.0}\n",
    "s_3=pd.Series(data)\n",
    "s_3"
   ]
  },
  {
   "cell_type": "markdown",
   "metadata": {},
   "source": [
    "## 1.2 系列属性 与 索引"
   ]
  },
  {
   "cell_type": "code",
   "execution_count": 13,
   "metadata": {},
   "outputs": [
    {
     "name": "stdout",
     "output_type": "stream",
     "text": [
      "系列的索引是： Index(['福州', '南昌', '厦门', '成都'], dtype='object')\n",
      "\n",
      "系列的值是： [ 710.1  536.   261.1 1500. ]\n"
     ]
    }
   ],
   "source": [
    "print(\"系列的索引是：\",s_3.index)\n",
    "print(\"\\n系列的值是：\",s_3.values)"
   ]
  },
  {
   "cell_type": "code",
   "execution_count": 14,
   "metadata": {},
   "outputs": [
    {
     "name": "stdout",
     "output_type": "stream",
     "text": [
      "系列的第0行是：\n",
      " 710.1\n",
      "\n",
      "系列的第1-2行是：\n",
      " 南昌    536.0\n",
      "厦门    261.1\n",
      "dtype: float64\n",
      "\n",
      "系列的第0,2行是：\n",
      " 福州    710.1\n",
      "厦门    261.1\n",
      "dtype: float64\n",
      "\n",
      "人口大于600万的城市有：\n",
      " 福州     710.1\n",
      "成都    1500.0\n",
      "dtype: float64\n",
      "\n",
      "福州、厦门的人口是：\n",
      " 福州    710.1\n",
      "厦门    261.1\n",
      "dtype: float64\n"
     ]
    },
    {
     "name": "stderr",
     "output_type": "stream",
     "text": [
      "C:\\Users\\lenovo\\AppData\\Local\\Temp\\ipykernel_12860\\1182641068.py:2: FutureWarning: Series.__getitem__ treating keys as positions is deprecated. In a future version, integer keys will always be treated as labels (consistent with DataFrame behavior). To access a value by position, use `ser.iloc[pos]`\n",
      "  print(\"系列的第0行是：\\n\",s_3[0])\n",
      "C:\\Users\\lenovo\\AppData\\Local\\Temp\\ipykernel_12860\\1182641068.py:4: FutureWarning: Series.__getitem__ treating keys as positions is deprecated. In a future version, integer keys will always be treated as labels (consistent with DataFrame behavior). To access a value by position, use `ser.iloc[pos]`\n",
      "  print(\"\\n系列的第0,2行是：\\n\",s_3[[0,2]])                 #列表下标\n"
     ]
    }
   ],
   "source": [
    "#与numpy一维数组的访问方法相同\n",
    "print(\"系列的第0行是：\\n\",s_3[0])                       \n",
    "print(\"\\n系列的第1-2行是：\\n\",s_3[1:3])                   #切片下标\n",
    "print(\"\\n系列的第0,2行是：\\n\",s_3[[0,2]])                 #列表下标\n",
    "print(\"\\n人口大于600万的城市有：\\n\",s_3[s_3>600])                 #布尔下标\n",
    "\n",
    "#支持索引访问\n",
    "print(\"\\n福州、厦门的人口是：\\n\",s_3[[\"福州\",\"厦门\"]])    #索引下标"
   ]
  },
  {
   "cell_type": "code",
   "execution_count": null,
   "metadata": {},
   "outputs": [],
   "source": []
  }
 ],
 "metadata": {
  "kernelspec": {
   "display_name": "Python 3",
   "language": "python",
   "name": "python3"
  },
  "language_info": {
   "codemirror_mode": {
    "name": "ipython",
    "version": 3
   },
   "file_extension": ".py",
   "mimetype": "text/x-python",
   "name": "python",
   "nbconvert_exporter": "python",
   "pygments_lexer": "ipython3",
   "version": "3.12.8"
  }
 },
 "nbformat": 4,
 "nbformat_minor": 4
}
