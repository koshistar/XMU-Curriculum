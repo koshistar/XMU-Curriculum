{
 "cells": [
  {
   "cell_type": "markdown",
   "metadata": {},
   "source": [
    "### 练习\n",
    "1. 读入stock0.txt中的数据，每列数据之间以制表符分隔。其中，一行一只股票，第一列是前一天的收盘价，第二列是当天的收盘价\n",
    "2. 计算每只股票的涨跌值与涨跌幅，涨跌幅=涨跌值/前一天的收盘价\n",
    "3. 合并数据，组成(6000,4)数组，每列分别是 前一天的收盘价、当天的收盘价、涨跌值、涨跌幅\n",
    "4. 设置以定点法print数据，只精确到2位小数。查询前10只股票的情况\n",
    "5. 查询涨幅高于10%的股票\n",
    "6. 查询前20只股票的当天收盘价与涨跌幅\n",
    "7. 已知A购买了前20只股票，各股票的数量按顺序为：\n",
    "    100,200,300,150,500,600,700,550,900,1000,100,100,100,200,300,800,550,150,900,1000\n",
    "    \n",
    "    请计算A当天的所购股票的总市值、总收益\n",
    "    \n",
    "    (正确结果是：总市值 182955.5 总收益 480.50000000000284）\n",
    "8. 求购买股票的数量总和、最小数量\n",
    "\n",
    "    （正确结果是：股票总数量 9200 最小数量 100）\n",
    "9. 将股票按涨跌幅降序排序，排序结果如下：\n",
    "\n",
    "~~~\n",
    " [[ 29.5   33.99   4.49   0.15]\n",
    " [139.82 155.36  15.54   0.11]\n",
    " [ 85.5   95.     9.5    0.11]\n",
    " ...\n",
    " [ 56.72  47.27  -9.45  -0.17]\n",
    " [ 50.83  42.36  -8.47  -0.17]\n",
    " [ 46.48  38.73  -7.75  -0.17]]\n",
    " ~~~"
   ]
  },
  {
   "cell_type": "code",
   "execution_count": 2,
   "metadata": {},
   "outputs": [
    {
     "name": "stdout",
     "output_type": "stream",
     "text": [
      "[[12.72 12.17]\n",
      " [ 4.8   4.36]\n",
      " [22.4  22.6 ]\n",
      " ...\n",
      " [ 6.13  6.12]\n",
      " [ 4.68  4.6 ]\n",
      " [ 4.95  4.94]]\n"
     ]
    }
   ],
   "source": [
    "import numpy as np\n",
    "#读取文件\n",
    "stock=np.loadtxt(\".//stock0.txt\", delimiter='\\t',encoding='utf-16') \n",
    "print(stock)  "
   ]
  },
  {
   "cell_type": "code",
   "execution_count": 3,
   "metadata": {},
   "outputs": [
    {
     "name": "stdout",
     "output_type": "stream",
     "text": [
      "[-0.55 -0.44  0.2  ... -0.01 -0.08 -0.01]\n"
     ]
    }
   ],
   "source": [
    "#跌涨值\n",
    "udvalue=stock[:,1]-stock[:,0]\n",
    "print(udvalue)"
   ]
  },
  {
   "cell_type": "code",
   "execution_count": 4,
   "metadata": {},
   "outputs": [
    {
     "name": "stdout",
     "output_type": "stream",
     "text": [
      "[-0.04323899 -0.09166667  0.00892857 ... -0.00163132 -0.01709402\n",
      " -0.0020202 ]\n"
     ]
    }
   ],
   "source": [
    "#跌涨幅\n",
    "udfrequency=udvalue/stock[:,0]\n",
    "print(udfrequency)"
   ]
  },
  {
   "cell_type": "code",
   "execution_count": 21,
   "metadata": {},
   "outputs": [
    {
     "name": "stdout",
     "output_type": "stream",
     "text": [
      "[[ 1.27200000e+01  1.21700000e+01 -5.50000000e-01 -4.32389937e-02]\n",
      " [ 4.80000000e+00  4.36000000e+00 -4.40000000e-01 -9.16666667e-02]\n",
      " [ 2.24000000e+01  2.26000000e+01  2.00000000e-01  8.92857143e-03]\n",
      " ...\n",
      " [ 6.13000000e+00  6.12000000e+00 -1.00000000e-02 -1.63132137e-03]\n",
      " [ 4.68000000e+00  4.60000000e+00 -8.00000000e-02 -1.70940171e-02]\n",
      " [ 4.95000000e+00  4.94000000e+00 -1.00000000e-02 -2.02020202e-03]]\n"
     ]
    }
   ],
   "source": [
    "#合并\n",
    "udvalue=udvalue.reshape(6000,1)\n",
    "udfrequency=udfrequency.reshape(6000,1)\n",
    "alData=np.hstack((stock,udvalue,udfrequency))\n",
    "# alData=np.concatenate((stock,udvalue,udfrequency),axis=1)\n",
    "print(alData)"
   ]
  },
  {
   "cell_type": "code",
   "execution_count": 25,
   "metadata": {},
   "outputs": [
    {
     "name": "stdout",
     "output_type": "stream",
     "text": [
      "[[12.72 12.17 -0.55 -0.04]\n",
      " [ 4.80  4.36 -0.44 -0.09]\n",
      " [22.40 22.60  0.20  0.01]\n",
      " [38.35 40.40  2.05  0.05]\n",
      " [24.88 25.05  0.17  0.01]\n",
      " [ 1.79  1.80  0.01  0.01]\n",
      " [24.58 24.31 -0.27 -0.01]\n",
      " [62.15 62.76  0.61  0.01]\n",
      " [ 2.76  2.73 -0.03 -0.01]\n",
      " [11.33 11.40  0.07  0.01]]\n"
     ]
    }
   ],
   "source": [
    "#格式化输出前10个元素\n",
    "np.set_printoptions(precision=2,floatmode=\"fixed\",suppress=True)\n",
    "print(alData[:10])"
   ]
  },
  {
   "cell_type": "code",
   "execution_count": 22,
   "metadata": {},
   "outputs": [
    {
     "name": "stdout",
     "output_type": "stream",
     "text": [
      "[[7.80000000e+00 8.66000000e+00 8.60000000e-01 1.10256410e-01]\n",
      " [5.23000000e+00 5.81000000e+00 5.80000000e-01 1.10898662e-01]\n",
      " [1.40600000e+01 1.56100000e+01 1.55000000e+00 1.10241821e-01]\n",
      " [8.06000000e+00 8.91000000e+00 8.50000000e-01 1.05459057e-01]\n",
      " [6.30000000e+00 6.99000000e+00 6.90000000e-01 1.09523810e-01]\n",
      " [1.39820000e+02 1.55360000e+02 1.55400000e+01 1.11142898e-01]\n",
      " [2.95000000e+01 3.39900000e+01 4.49000000e+00 1.52203390e-01]\n",
      " [3.79000000e+00 4.21000000e+00 4.20000000e-01 1.10817942e-01]\n",
      " [8.66000000e+00 9.62000000e+00 9.60000000e-01 1.10854503e-01]\n",
      " [8.55000000e+01 9.50000000e+01 9.50000000e+00 1.11111111e-01]]\n"
     ]
    }
   ],
   "source": [
    "#取涨幅>10%的元素\n",
    "print(alData[alData[:,3]>0.1])"
   ]
  },
  {
   "cell_type": "code",
   "execution_count": null,
   "metadata": {},
   "outputs": [
    {
     "name": "stdout",
     "output_type": "stream",
     "text": [
      "[[ 1.21700000e+01 -4.32389937e-02]\n",
      " [ 4.36000000e+00 -9.16666667e-02]\n",
      " [ 2.26000000e+01  8.92857143e-03]\n",
      " [ 4.04000000e+01  5.34550196e-02]\n",
      " [ 2.50500000e+01  6.83279743e-03]\n",
      " [ 1.80000000e+00  5.58659218e-03]\n",
      " [ 2.43100000e+01 -1.09845403e-02]\n",
      " [ 6.27600000e+01  9.81496380e-03]\n",
      " [ 2.73000000e+00 -1.08695652e-02]\n",
      " [ 1.14000000e+01  6.17828773e-03]\n",
      " [ 4.12000000e+00  9.80392157e-03]\n",
      " [ 1.78300000e+01 -5.81088220e-02]\n",
      " [ 1.04300000e+01 -1.91387560e-03]\n",
      " [ 8.23000000e+00 -2.48815166e-02]\n",
      " [ 1.74800000e+01 -3.31858407e-02]\n",
      " [ 5.31000000e+00 -1.87969925e-03]\n",
      " [ 3.28300000e+01  1.23342584e-02]\n",
      " [ 1.44600000e+01 -1.83299389e-02]\n",
      " [ 3.90200000e+01  4.11734431e-03]\n",
      " [ 1.93100000e+01 -5.17598344e-04]]\n"
     ]
    }
   ],
   "source": [
    "#取前20天股票的收盘价与涨跌幅\n",
    "print(alData[:20,[1,3]])"
   ]
  },
  {
   "cell_type": "code",
   "execution_count": 28,
   "metadata": {},
   "outputs": [
    {
     "name": "stdout",
     "output_type": "stream",
     "text": [
      "总市值:182955.5 总收益:480.50000000000284\n"
     ]
    }
   ],
   "source": [
    "#计算A当天的所购股票的总市值、总收益\n",
    "quantities=np.array([100,200,300,150,500,600,700,550,900,1000,100,100,100,200,300,800,550,150,900,1000])\n",
    "tvalue=np.sum(alData[:20,1]*quantities)\n",
    "tprofit=np.sum(alData[:20,2]*quantities)\n",
    "print(f\"总市值:{tvalue} 总收益:{tprofit}\")"
   ]
  },
  {
   "cell_type": "code",
   "execution_count": 29,
   "metadata": {},
   "outputs": [
    {
     "name": "stdout",
     "output_type": "stream",
     "text": [
      "数量总和:9200 最小数量:100\n"
     ]
    }
   ],
   "source": [
    "#求购买股票的数量总和、最小数量\n",
    "print(f\"数量总和:{np.sum(quantities)} 最小数量:{np.min(quantities)}\")"
   ]
  },
  {
   "cell_type": "code",
   "execution_count": 30,
   "metadata": {},
   "outputs": [
    {
     "name": "stdout",
     "output_type": "stream",
     "text": [
      "[[ 29.50  33.99   4.49   0.15]\n",
      " [139.82 155.36  15.54   0.11]\n",
      " [ 85.50  95.00   9.50   0.11]\n",
      " ...\n",
      " [ 56.72  47.27  -9.45  -0.17]\n",
      " [ 50.83  42.36  -8.47  -0.17]\n",
      " [ 46.48  38.73  -7.75  -0.17]]\n"
     ]
    }
   ],
   "source": [
    "#按跌涨幅降序排序\n",
    "sorted_by=np.argsort(-alData[:,3])\n",
    "sortedData=alData[sorted_by]\n",
    "print(sortedData)"
   ]
  },
  {
   "cell_type": "code",
   "execution_count": null,
   "metadata": {},
   "outputs": [],
   "source": []
  }
 ],
 "metadata": {
  "kernelspec": {
   "display_name": "Python 3",
   "language": "python",
   "name": "python3"
  },
  "language_info": {
   "codemirror_mode": {
    "name": "ipython",
    "version": 3
   },
   "file_extension": ".py",
   "mimetype": "text/x-python",
   "name": "python",
   "nbconvert_exporter": "python",
   "pygments_lexer": "ipython3",
   "version": "3.12.8"
  }
 },
 "nbformat": 4,
 "nbformat_minor": 4
}
