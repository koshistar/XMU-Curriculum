{
 "cells": [
  {
   "cell_type": "code",
   "execution_count": 1,
   "metadata": {},
   "outputs": [],
   "source": [
    "import numpy as np "
   ]
  },
  {
   "cell_type": "code",
   "execution_count": 2,
   "metadata": {},
   "outputs": [
    {
     "name": "stdout",
     "output_type": "stream",
     "text": [
      "第一个数组：\n",
      "[[0. 1. 2.]\n",
      " [3. 4. 5.]\n",
      " [6. 7. 8.]]\n",
      "\n",
      "数组与标量相加：\n",
      "[[100. 101. 102.]\n",
      " [103. 104. 105.]\n",
      " [106. 107. 108.]]\n",
      "\n",
      "第二个数组：\n",
      "[10 10 10]\n",
      "\n",
      "两个数组相加：\n",
      "[[10. 11. 12.]\n",
      " [13. 14. 15.]\n",
      " [16. 17. 18.]]\n",
      "\n",
      "两个数组相减：\n",
      "[[10.  9.  8.]\n",
      " [ 7.  6.  5.]\n",
      " [ 4.  3.  2.]]\n",
      "\n",
      "两个数组相乘：\n",
      "[[ 0. 10. 20.]\n",
      " [30. 40. 50.]\n",
      " [60. 70. 80.]]\n",
      "\n",
      "两个数组相除：\n",
      "[[0.  0.1 0.2]\n",
      " [0.3 0.4 0.5]\n",
      " [0.6 0.7 0.8]]\n",
      "\n",
      "两个数组整除：\n",
      "[[0. 0. 0.]\n",
      " [0. 0. 0.]\n",
      " [0. 0. 0.]]\n"
     ]
    }
   ],
   "source": [
    "a = np.arange(9, dtype = np.float_).reshape(3,3)  \n",
    "print ('第一个数组：')\n",
    "print (a)\n",
    "\n",
    "print ('\\n数组与标量相加：')\n",
    "print (a+100)\n",
    "\n",
    "print ('\\n第二个数组：')\n",
    "b = np.array([10,10,10])  \n",
    "print (b)\n",
    "\n",
    "print ('\\n两个数组相加：')\n",
    "print (a+b)\n",
    "\n",
    "print ('\\n两个数组相减：')\n",
    "print (b-a)\n",
    "\n",
    "print ('\\n两个数组相乘：')\n",
    "print (a*b)\n",
    "\n",
    "print ('\\n两个数组相除：')\n",
    "print (a/b)\n",
    "\n",
    "print ('\\n两个数组整除：')              \n",
    "print (a//b)"
   ]
  },
  {
   "cell_type": "code",
   "execution_count": 3,
   "metadata": {},
   "outputs": [
    {
     "name": "stdout",
     "output_type": "stream",
     "text": [
      "a数组： [1 2 3 4 5 6 7 8 9]\n",
      "a>5:\t\t [False False False False False  True  True  True  True]\n",
      "a!=7:\t\t [ True  True  True  True  True  True False  True  True]\n",
      "a!=7:\t\t [ True  True  True  True  True  True False  True  True]\n",
      "a>5 并且 a!=7：\t [False False False False False  True False  True  True]\n",
      "a>5 并且 a!=7：\t [False False False False False  True False  True  True]\n"
     ]
    }
   ],
   "source": [
    "#数组与标量比较\n",
    "a=np.arange(1,10)\n",
    "print ('a数组：',a)\n",
    "print(\"a>5:\\t\\t\",a>5)\n",
    "print(\"a!=7:\\t\\t\",a!=7)\n",
    "\n",
    "print(\"a!=7:\\t\\t\",~(a==7))                               # ~逻辑非运算\n",
    "print(\"a>5 并且 a!=7：\\t\",(a>5) & (a!=7) )               # &逻辑且运算\n",
    "print(\"a>5 并且 a!=7：\\t\",np.logical_and(a>5,a!=7))      #用函数实现并且关系"
   ]
  },
  {
   "cell_type": "code",
   "execution_count": null,
   "metadata": {},
   "outputs": [],
   "source": []
  },
  {
   "cell_type": "markdown",
   "metadata": {},
   "source": [
    "#### **布尔索引**：比较运算为索引，实现条件选择\n",
    "- 数组支持用包含True、False的数组为下标来访问其中的元素，返回True对应位置上元素组成的数组。\n",
    "- 提示：更多数组的索引知识，见**访问数组**"
   ]
  },
  {
   "cell_type": "code",
   "execution_count": 4,
   "metadata": {},
   "outputs": [
    {
     "name": "stdout",
     "output_type": "stream",
     "text": [
      "[6 7 8 9]\n",
      "[6 8 9]\n"
     ]
    }
   ],
   "source": [
    "print(a[a>5])\n",
    "print(a[np.logical_and(a>5,a!=7)])"
   ]
  },
  {
   "cell_type": "code",
   "execution_count": 5,
   "metadata": {},
   "outputs": [
    {
     "name": "stdout",
     "output_type": "stream",
     "text": [
      "a数组： [[16 29 40]\n",
      " [39 39 40]]\n",
      "b数组： [[36 18 38]\n",
      " [25 23 23]]\n",
      "a>b:   [[False  True  True]\n",
      " [ True  True  True]]\n",
      "输出a>b的元素:   [29 40 39 39 40]\n"
     ]
    }
   ],
   "source": [
    "#数组与数组比较\n",
    "a=np.random.randint(1,50,6).reshape(2,3)\n",
    "print ('a数组：',a)\n",
    "b=np.random.randint(1,50,6).reshape(2,3)\n",
    "print ('b数组：',b)\n",
    "print(\"a>b:  \",a>b)\n",
    "\n",
    "\n",
    "#比较运算为索引，实现条件选择\n",
    "#数组支持用包含True、False的数组为下标来访问其中的元素，返回True对应位置上元素组成的数组。\n",
    "print(\"输出a>b的元素:  \",a[a>b])"
   ]
  },
  {
   "cell_type": "code",
   "execution_count": 6,
   "metadata": {},
   "outputs": [
    {
     "name": "stdout",
     "output_type": "stream",
     "text": [
      "\n",
      " 一维a与b的点积是： 4321\n",
      "\n",
      " 二维a与b的点积是： [[ 30 300]\n",
      " [ 70 700]]\n",
      "\n",
      " a与b的矩阵乘积是： [[ 30 300]\n",
      " [ 70 700]]\n"
     ]
    }
   ],
   "source": [
    "# 点积运算\n",
    "a = np.array([1,2,3,4])\n",
    "b = np.array([1,10,100,1000])\n",
    "print(\"\\n 一维a与b的点积是：\",np.dot(a,b))\n",
    " \n",
    "a = np.array([[1,2],[3,4]])\n",
    "b = np.array([[10,100],[10,100]])\n",
    "print(\"\\n 二维a与b的点积是：\",np.dot(a,b))\n",
    "\n",
    "print(\"\\n a与b的矩阵乘积是：\",np.matmul(a,b))               #matmul是数组的矩阵乘函数\n"
   ]
  },
  {
   "cell_type": "markdown",
   "metadata": {},
   "source": [
    "### 练习：+-*/与点积运算各举一例"
   ]
  },
  {
   "cell_type": "code",
   "execution_count": 10,
   "metadata": {},
   "outputs": [
    {
     "name": "stdout",
     "output_type": "stream",
     "text": [
      "[[87 58  4]\n",
      " [79  9 97]]\n",
      "[[44 22 99]\n",
      " [56 61  9]]\n",
      "[[131  80 103]\n",
      " [135  70 106]]\n",
      "[[ 43  36 -95]\n",
      " [ 23 -52  88]]\n",
      "[[3828 1276  396]\n",
      " [4424  549  873]]\n",
      "[[ 1.97727273  2.63636364  0.04040404]\n",
      " [ 1.41071429  0.14754098 10.77777778]]\n",
      "[[ 1  2  0]\n",
      " [ 1  0 10]]\n",
      "[[44 22]\n",
      " [99 56]\n",
      " [61  9]]\n",
      "[[ 9814  5198]\n",
      " [10284  3115]]\n",
      "[[ 9814  5198]\n",
      " [10284  3115]]\n"
     ]
    }
   ],
   "source": [
    "a=np.random.randint(1,100,size=(2,3))\n",
    "b=np.random.randint(1,100,size=(2,3))\n",
    "print(a)\n",
    "print(b)\n",
    "print(a+b)\n",
    "print(a-b)\n",
    "print(a*b)\n",
    "print(a/b)\n",
    "print(a//b)\n",
    "b.resize((3,2))\n",
    "print(b)\n",
    "print(np.dot(a,b))\n",
    "print(np.matmul(a,b))"
   ]
  },
  {
   "cell_type": "code",
   "execution_count": null,
   "metadata": {},
   "outputs": [],
   "source": []
  }
 ],
 "metadata": {
  "kernelspec": {
   "display_name": "Python 3",
   "language": "python",
   "name": "python3"
  },
  "language_info": {
   "codemirror_mode": {
    "name": "ipython",
    "version": 3
   },
   "file_extension": ".py",
   "mimetype": "text/x-python",
   "name": "python",
   "nbconvert_exporter": "python",
   "pygments_lexer": "ipython3",
   "version": "3.12.8"
  }
 },
 "nbformat": 4,
 "nbformat_minor": 4
}
