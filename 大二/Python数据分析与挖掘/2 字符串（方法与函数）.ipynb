{
 "cells": [
  {
   "cell_type": "markdown",
   "metadata": {},
   "source": [
    "### 查找和替换\n",
    "* str.find(sub[, start[, end]])：查找\n",
    "\n",
    "        在str字符串中查找字符串sub，如果找到返回sub字符串最先出现的位置，否则返回 -1；\n",
    "        start, end参数可指定在区间[start,end)查找，默认查找整个字符串\n",
    "* str.replace(old, new)：替换\n",
    "\n",
    "        用new参数指定的字符串替换str字符串中old参数指定的字符串，返回一个新的字符串\n"
   ]
  },
  {
   "cell_type": "code",
   "execution_count": 3,
   "metadata": {},
   "outputs": [
    {
     "name": "stdout",
     "output_type": "stream",
     "text": [
      "0 -1\n",
      "6\n",
      "hello hellboy!\n",
      "hello hellgirl!\n"
     ]
    }
   ],
   "source": [
    "s=\"hello hellboy!\"\n",
    "print(s.find('hell'),s.find('me'))\n",
    "print(s.find('hell', 3))\n",
    "\n",
    "t=s.replace('boy','girl')     #注意：s并没有改变，替换结果产生一个新字符串，须用新变量t保存\n",
    "print(s)                      #显示s，未发生改变\n",
    "print(t)                      #显示替换结果"
   ]
  },
  {
   "cell_type": "markdown",
   "metadata": {},
   "source": [
    "### 字符串的大小写转换\n",
    "* str.upper()：返回str中字符串的大写版本\n",
    "* str.lower()：返回str中字符串的小写版本"
   ]
  },
  {
   "cell_type": "code",
   "execution_count": null,
   "metadata": {},
   "outputs": [],
   "source": [
    "#例题2：输入一个字符串 str，再输入要删除字符 c，大小写不区分，将字符串 str 中出现的所有字符 c 删除。\n",
    "str=input()\n",
    "c=input()\n",
    "s=str.replace( c.lower(),'')     #提示，用空串替换输入的c的小写，则删除小写字符c，注意用变量保存替换结果\n",
    "s=s.replace( c.upper(), '')      #提示，用空串替换输入的c的大写，则删除大写字符c\n",
    "print(s)\n"
   ]
  },
  {
   "cell_type": "markdown",
   "metadata": {},
   "source": [
    "#### 练习2 求A−B。 即从字符串A中把字符串B所包含的字符全删掉，剩下的字符组成的就是字符串A−B。\n",
    "    输入样例1：\n",
    "      请输入A：hello hellboy!\n",
    "      请输入B：low\n",
    "    输出样例1：\n",
    "      he heby!"
   ]
  },
  {
   "cell_type": "code",
   "execution_count": 1,
   "metadata": {},
   "outputs": [
    {
     "name": "stdout",
     "output_type": "stream",
     "text": [
      "he heby\n"
     ]
    }
   ],
   "source": [
    "A=input(\"请输入A：\")\n",
    "B=input(\"请输入B：\")\n",
    "for b in B:\n",
    "    A=A.replace(b,\"\")\n",
    "print(A)\n",
    "\n",
    "\n"
   ]
  },
  {
   "cell_type": "markdown",
   "metadata": {
    "collapsed": true
   },
   "source": [
    "#### 练习3：测试用户输入中是否有敏感词 ('测试', '非法', '暴力', '话')，如果有的话就把敏感词替换为3个星号***。\n",
    "    输入样例1：这部电影有些非法的话语及暴力镜头，少儿的话，不宜观看。\n",
    "    输出样例1：这部电影有些***的***语及***镜头，少儿的***，不宜观看。"
   ]
  },
  {
   "cell_type": "code",
   "execution_count": 2,
   "metadata": {},
   "outputs": [
    {
     "name": "stdout",
     "output_type": "stream",
     "text": [
      "这部电影有些***的***语及***镜头，少儿的***，不宜观看\n"
     ]
    }
   ],
   "source": [
    "#提示，可以将要遍历的敏感词放在元组或列表等序列对象中\n",
    "sensi=('测试','非法','暴力','话')\n",
    "s=input(\"请输入字符串:\")\n",
    "for i in sensi:\n",
    "    if i in s:\n",
    "        s=s.replace(i,'***')\n",
    "print(s)"
   ]
  },
  {
   "cell_type": "markdown",
   "metadata": {},
   "source": [
    "### 字符串处理函数\n",
    "* max(字符串)、min(字符串)：分别用于计算串中所有字符最大值、最小值。\n",
    "* sorted(字符串)：将串中每个字符按升序排序，并将结果保存在新列表中"
   ]
  },
  {
   "cell_type": "code",
   "execution_count": 7,
   "metadata": {},
   "outputs": [
    {
     "name": "stdout",
     "output_type": "stream",
     "text": [
      "9\n",
      "['0', '2', '4', 'a', 'b', 'c']\n"
     ]
    }
   ],
   "source": [
    "#例题：输出数字串中最大数\n",
    "print(max(\"896\"))\n",
    "\n",
    "#例题：将字符按升序排序\n",
    "y= sorted(\"2a4c0b\")                       #注意，排序结果是列表\n",
    "print(y)"
   ]
  },
  {
   "cell_type": "code",
   "execution_count": 1,
   "metadata": {},
   "outputs": [
    {
     "name": "stdout",
     "output_type": "stream",
     "text": [
      "396\n",
      "369\n"
     ]
    }
   ],
   "source": [
    "#例题，输入三位数，输出由这三位数组成的最小数\n",
    "x=input()\n",
    "y=sorted(x)\n",
    "z=int(y[0])*100+int(y[1])*10+int(y[2])*1\n",
    "print(z)\n"
   ]
  },
  {
   "cell_type": "markdown",
   "metadata": {},
   "source": [
    "#### 练习4：判断两个字符串是否为变位词\n",
    "* 如果一个字符串是 另一个字符串的重新排列组合，那么这两个字符串互为变位词。比如，”heart”与”earth”互为变位 词，”Mary”与”arMy”也互为变位词。\n",
    "\n",
    "        输入样例1：             输入样例2：\n",
    "        heart                    heart\n",
    "        earth                    hear\n",
    "        输出样例1：             输出样例2：\n",
    "        YES                      NO\n",
    "  \n",
    "\n"
   ]
  },
  {
   "cell_type": "code",
   "execution_count": 4,
   "metadata": {},
   "outputs": [
    {
     "name": "stdout",
     "output_type": "stream",
     "text": [
      "NO\n"
     ]
    }
   ],
   "source": [
    "#提示：两个字符串的排序结果相同，则为变位词\n",
    "input1=input(\"请输入第一个字符串:\")\n",
    "input2=input(\"请输入第二个字符串:\")\n",
    "if sorted(input1)==sorted(input2):\n",
    "    print(\"YES\")\n",
    "else:\n",
    "    print(\"NO\")"
   ]
  },
  {
   "cell_type": "code",
   "execution_count": null,
   "metadata": {},
   "outputs": [],
   "source": []
  }
 ],
 "metadata": {
  "kernelspec": {
   "display_name": "Python 3",
   "language": "python",
   "name": "python3"
  },
  "language_info": {
   "codemirror_mode": {
    "name": "ipython",
    "version": 3
   },
   "file_extension": ".py",
   "mimetype": "text/x-python",
   "name": "python",
   "nbconvert_exporter": "python",
   "pygments_lexer": "ipython3",
   "version": "3.12.8"
  }
 },
 "nbformat": 4,
 "nbformat_minor": 1
}
