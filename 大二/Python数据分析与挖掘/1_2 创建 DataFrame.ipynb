{
 "cells": [
  {
   "cell_type": "markdown",
   "metadata": {},
   "source": [
    "# 二、DataFrame对象\n",
    "## 2.1  创建DataFrame对象"
   ]
  },
  {
   "cell_type": "code",
   "execution_count": 1,
   "metadata": {},
   "outputs": [],
   "source": [
    "import pandas as pd"
   ]
  },
  {
   "cell_type": "code",
   "execution_count": 18,
   "metadata": {},
   "outputs": [
    {
     "data": {
      "text/html": [
       "<div>\n",
       "<style scoped>\n",
       "    .dataframe tbody tr th:only-of-type {\n",
       "        vertical-align: middle;\n",
       "    }\n",
       "\n",
       "    .dataframe tbody tr th {\n",
       "        vertical-align: top;\n",
       "    }\n",
       "\n",
       "    .dataframe thead th {\n",
       "        text-align: right;\n",
       "    }\n",
       "</style>\n",
       "<table border=\"1\" class=\"dataframe\">\n",
       "  <thead>\n",
       "    <tr style=\"text-align: right;\">\n",
       "      <th></th>\n",
       "      <th>apples</th>\n",
       "      <th>oranges</th>\n",
       "    </tr>\n",
       "  </thead>\n",
       "  <tbody>\n",
       "    <tr>\n",
       "      <th>a</th>\n",
       "      <td>3</td>\n",
       "      <td>0</td>\n",
       "    </tr>\n",
       "    <tr>\n",
       "      <th>b</th>\n",
       "      <td>2</td>\n",
       "      <td>3</td>\n",
       "    </tr>\n",
       "    <tr>\n",
       "      <th>c</th>\n",
       "      <td>0</td>\n",
       "      <td>7</td>\n",
       "    </tr>\n",
       "    <tr>\n",
       "      <th>d</th>\n",
       "      <td>1</td>\n",
       "      <td>2</td>\n",
       "    </tr>\n",
       "  </tbody>\n",
       "</table>\n",
       "</div>"
      ],
      "text/plain": [
       "   apples  oranges\n",
       "a       3        0\n",
       "b       2        3\n",
       "c       0        7\n",
       "d       1        2"
      ]
     },
     "execution_count": 18,
     "metadata": {},
     "output_type": "execute_result"
    }
   ],
   "source": [
    "#例2-1 将 嵌套的列表（二维） 转为  数据框\n",
    "data=[[3,0],[2,3],[0,7],[1,2]]\n",
    "index=['a','b','c', 'd']\n",
    "pd.DataFrame( data, index, columns=['apples','oranges'])"
   ]
  },
  {
   "cell_type": "code",
   "execution_count": 3,
   "metadata": {},
   "outputs": [
    {
     "data": {
      "text/html": [
       "<div>\n",
       "<style scoped>\n",
       "    .dataframe tbody tr th:only-of-type {\n",
       "        vertical-align: middle;\n",
       "    }\n",
       "\n",
       "    .dataframe tbody tr th {\n",
       "        vertical-align: top;\n",
       "    }\n",
       "\n",
       "    .dataframe thead th {\n",
       "        text-align: right;\n",
       "    }\n",
       "</style>\n",
       "<table border=\"1\" class=\"dataframe\">\n",
       "  <thead>\n",
       "    <tr style=\"text-align: right;\">\n",
       "      <th></th>\n",
       "      <th>人口</th>\n",
       "      <th>GDP增速</th>\n",
       "    </tr>\n",
       "  </thead>\n",
       "  <tbody>\n",
       "    <tr>\n",
       "      <th>福州</th>\n",
       "      <td>710.1</td>\n",
       "      <td>8.4</td>\n",
       "    </tr>\n",
       "    <tr>\n",
       "      <th>南昌</th>\n",
       "      <td>536.0</td>\n",
       "      <td>8.7</td>\n",
       "    </tr>\n",
       "    <tr>\n",
       "      <th>厦门</th>\n",
       "      <td>261.1</td>\n",
       "      <td>8.1</td>\n",
       "    </tr>\n",
       "    <tr>\n",
       "      <th>成都</th>\n",
       "      <td>1500.1</td>\n",
       "      <td>8.6</td>\n",
       "    </tr>\n",
       "  </tbody>\n",
       "</table>\n",
       "</div>"
      ],
      "text/plain": [
       "        人口  GDP增速\n",
       "福州   710.1    8.4\n",
       "南昌   536.0    8.7\n",
       "厦门   261.1    8.1\n",
       "成都  1500.1    8.6"
      ]
     },
     "execution_count": 3,
     "metadata": {},
     "output_type": "execute_result"
    }
   ],
   "source": [
    "#例2-1 创建各城市的人口、GDP增速数据框。\n",
    "#方法一：\n",
    "data=[ [710.1,8.4],[536,8.7],[261.1,8.1],[1500.1,8.6] ]\n",
    "index=['福州','南昌','厦门', '成都']\n",
    "pd.DataFrame( data, index, columns=['人口','GDP增速']) "
   ]
  },
  {
   "cell_type": "code",
   "execution_count": 13,
   "metadata": {},
   "outputs": [
    {
     "name": "stdout",
     "output_type": "stream",
     "text": [
      "系列s1是：\n",
      " 福州     710.1\n",
      "南昌     536.0\n",
      "厦门     261.1\n",
      "成都    1500.1\n",
      "dtype: float64\n",
      "\n",
      "数据框是：\n",
      "         人口  GDP增速  白天平均气温\n",
      "福州   710.1    8.4      26\n",
      "南昌   536.0    8.7      23\n",
      "厦门   261.1    8.1      27\n",
      "成都  1500.1    8.6      22\n"
     ]
    }
   ],
   "source": [
    "#例2-2 创建各城市的人口、GDP增速数据框。\n",
    "#方法二：\n",
    "#步骤1：先创建3列的Series\n",
    "s1=pd.Series({\"福州\":710.1,\"南昌\":536,\"厦门\":261.1,\"成都\":1500.1})    #人口\n",
    "s2=pd.Series({\"福州\":8.4,\"南昌\":8.7,\"厦门\":8.1,\"成都\":8.6})           #2021年GDP增速，百分比\n",
    "s3=pd.Series({\"福州\":26,\"南昌\":23,\"厦门\":27,\"成都\":22})               #白天平均气温\n",
    "print(\"系列s1是：\\n\",s1)\n",
    "#步骤2：将3个Series列合并，字典键值设置列标签\n",
    "df7=pd.DataFrame({\"人口\":s1,\"GDP增速\":s2,\"白天平均气温\":s3})\n",
    "print(\"\\n数据框是：\\n\",df7)"
   ]
  },
  {
   "cell_type": "code",
   "execution_count": 14,
   "metadata": {},
   "outputs": [
    {
     "data": {
      "text/html": [
       "<div>\n",
       "<style scoped>\n",
       "    .dataframe tbody tr th:only-of-type {\n",
       "        vertical-align: middle;\n",
       "    }\n",
       "\n",
       "    .dataframe tbody tr th {\n",
       "        vertical-align: top;\n",
       "    }\n",
       "\n",
       "    .dataframe thead th {\n",
       "        text-align: right;\n",
       "    }\n",
       "</style>\n",
       "<table border=\"1\" class=\"dataframe\">\n",
       "  <thead>\n",
       "    <tr style=\"text-align: right;\">\n",
       "      <th></th>\n",
       "      <th>福州</th>\n",
       "      <th>南昌</th>\n",
       "      <th>厦门</th>\n",
       "      <th>成都</th>\n",
       "    </tr>\n",
       "  </thead>\n",
       "  <tbody>\n",
       "    <tr>\n",
       "      <th>GDP增速</th>\n",
       "      <td>8.4</td>\n",
       "      <td>8.7</td>\n",
       "      <td>8.1</td>\n",
       "      <td>8.6</td>\n",
       "    </tr>\n",
       "    <tr>\n",
       "      <th>人口</th>\n",
       "      <td>710.1</td>\n",
       "      <td>536.0</td>\n",
       "      <td>261.1</td>\n",
       "      <td>1500.1</td>\n",
       "    </tr>\n",
       "    <tr>\n",
       "      <th>白天平均气温</th>\n",
       "      <td>26.0</td>\n",
       "      <td>23.0</td>\n",
       "      <td>27.0</td>\n",
       "      <td>22.0</td>\n",
       "    </tr>\n",
       "  </tbody>\n",
       "</table>\n",
       "</div>"
      ],
      "text/plain": [
       "           福州     南昌     厦门      成都\n",
       "GDP增速     8.4    8.7    8.1     8.6\n",
       "人口      710.1  536.0  261.1  1500.1\n",
       "白天平均气温   26.0   23.0   27.0    22.0"
      ]
     },
     "execution_count": 14,
     "metadata": {},
     "output_type": "execute_result"
    }
   ],
   "source": [
    "#方法三：index设置行标签\n",
    "df8=pd.DataFrame( [s2,s1,s3] ,index=[\"GDP增速\",\"人口\",\"白天平均气温\"])   #注意，第一个列表中的元素即第一行，与行标签位置、个数一一对应\n",
    "#解析：嵌套列表的格式中，内部的一个列表视为二维的一行，例如，[ [710.1,8.4],[536,8.7],[261.1,8.1],[1500.1,8.6] ]中的[710.1,8.4]是二维的第一行。\n",
    "#同理，[s2,s1,s3]中的系列s2会被视为二维数据框的一行\n",
    "df8"
   ]
  },
  {
   "cell_type": "code",
   "execution_count": 17,
   "metadata": {},
   "outputs": [
    {
     "data": {
      "text/html": [
       "<div>\n",
       "<style scoped>\n",
       "    .dataframe tbody tr th:only-of-type {\n",
       "        vertical-align: middle;\n",
       "    }\n",
       "\n",
       "    .dataframe tbody tr th {\n",
       "        vertical-align: top;\n",
       "    }\n",
       "\n",
       "    .dataframe thead th {\n",
       "        text-align: right;\n",
       "    }\n",
       "</style>\n",
       "<table border=\"1\" class=\"dataframe\">\n",
       "  <thead>\n",
       "    <tr style=\"text-align: right;\">\n",
       "      <th></th>\n",
       "      <th>1路</th>\n",
       "      <th>759路</th>\n",
       "      <th>30路</th>\n",
       "      <th>3路</th>\n",
       "      <th>100路</th>\n",
       "    </tr>\n",
       "  </thead>\n",
       "  <tbody>\n",
       "    <tr>\n",
       "      <th>0</th>\n",
       "      <td>火车站</td>\n",
       "      <td>厦大西村</td>\n",
       "      <td>会展中心</td>\n",
       "      <td>文化宫</td>\n",
       "      <td>轮渡</td>\n",
       "    </tr>\n",
       "    <tr>\n",
       "      <th>1</th>\n",
       "      <td>金榜公园</td>\n",
       "      <td>软件园</td>\n",
       "      <td>瑞景商业广场</td>\n",
       "      <td>火车站</td>\n",
       "      <td>东渡</td>\n",
       "    </tr>\n",
       "    <tr>\n",
       "      <th>2</th>\n",
       "      <td>文灶</td>\n",
       "      <td>高林</td>\n",
       "      <td>火车站</td>\n",
       "      <td>文灶</td>\n",
       "      <td>海沧</td>\n",
       "    </tr>\n",
       "    <tr>\n",
       "      <th>3</th>\n",
       "      <td>将军祠</td>\n",
       "      <td>厦大翔安校区</td>\n",
       "      <td>NaN</td>\n",
       "      <td>中山公园</td>\n",
       "      <td></td>\n",
       "    </tr>\n",
       "    <tr>\n",
       "      <th>4</th>\n",
       "      <td>文化宫</td>\n",
       "      <td>NaN</td>\n",
       "      <td>NaN</td>\n",
       "      <td>轮渡</td>\n",
       "      <td>NaN</td>\n",
       "    </tr>\n",
       "    <tr>\n",
       "      <th>5</th>\n",
       "      <td>中山公园</td>\n",
       "      <td>NaN</td>\n",
       "      <td>NaN</td>\n",
       "      <td>NaN</td>\n",
       "      <td>NaN</td>\n",
       "    </tr>\n",
       "    <tr>\n",
       "      <th>6</th>\n",
       "      <td>镇海路</td>\n",
       "      <td>NaN</td>\n",
       "      <td>NaN</td>\n",
       "      <td>NaN</td>\n",
       "      <td>NaN</td>\n",
       "    </tr>\n",
       "    <tr>\n",
       "      <th>7</th>\n",
       "      <td>博物馆</td>\n",
       "      <td>NaN</td>\n",
       "      <td>NaN</td>\n",
       "      <td>NaN</td>\n",
       "      <td>NaN</td>\n",
       "    </tr>\n",
       "    <tr>\n",
       "      <th>8</th>\n",
       "      <td>厦大</td>\n",
       "      <td>NaN</td>\n",
       "      <td>NaN</td>\n",
       "      <td>NaN</td>\n",
       "      <td>NaN</td>\n",
       "    </tr>\n",
       "  </tbody>\n",
       "</table>\n",
       "</div>"
      ],
      "text/plain": [
       "     1路    759路     30路    3路 100路\n",
       "0   火车站    厦大西村    会展中心   文化宫   轮渡\n",
       "1  金榜公园     软件园  瑞景商业广场   火车站   东渡\n",
       "2    文灶      高林     火车站    文灶   海沧\n",
       "3   将军祠  厦大翔安校区     NaN  中山公园     \n",
       "4   文化宫     NaN     NaN    轮渡  NaN\n",
       "5  中山公园     NaN     NaN   NaN  NaN\n",
       "6   镇海路     NaN     NaN   NaN  NaN\n",
       "7   博物馆     NaN     NaN   NaN  NaN\n",
       "8    厦大     NaN     NaN   NaN  NaN"
      ]
     },
     "execution_count": 17,
     "metadata": {},
     "output_type": "execute_result"
    }
   ],
   "source": [
    "#例2-3 将各路车站点Series 合并 为line数据框\n",
    "\n",
    "#pd.set_option(\"display.unicode.ambiguous_as_wide\",True)           #使列名对齐\n",
    "#pd.set_option(\"display.unicode.east_asian_width\",True)  \n",
    "\n",
    "#多个系列“横向”合并为数据框，注意，字典的值必须为系列型，才能正确合并，不可以是列表。\n",
    "\n",
    "line=pd.DataFrame({'1路': pd.Series(['火车站', '金榜公园', '文灶', '将军祠', '文化宫', '中山公园', '镇海路', '博物馆', '厦大']),\\\n",
    "      '759路': pd.Series(['厦大西村', '软件园', '高林', '厦大翔安校区']), \\\n",
    "      '30路': pd.Series(['会展中心', '瑞景商业广场', '火车站']), \\\n",
    "      '3路': pd.Series(['文化宫', '火车站', '文灶', '中山公园', '轮渡']), \\\n",
    "      '100路': pd.Series(['轮渡', '东渡', '海沧', ''])})\n",
    "line"
   ]
  },
  {
   "cell_type": "markdown",
   "metadata": {},
   "source": [
    "#### 其它创建方法"
   ]
  },
  {
   "cell_type": "code",
   "execution_count": 2,
   "metadata": {},
   "outputs": [
    {
     "name": "stdout",
     "output_type": "stream",
     "text": [
      "由多维数组创建\n",
      "     0   1   2   3\n",
      "0  10  11  12  13\n",
      "1  14  15  16  17\n",
      "2  18  19  20  21 \n",
      "\n",
      "由多维数组创建，加列标签\n",
      "    y1  y2  y3  y4\n",
      "0  10  11  12  13\n",
      "1  14  15  16  17\n",
      "2  18  19  20  21 \n",
      "\n",
      "由多个字典合并\n",
      "    a   b     c\n",
      "0  1   2   NaN\n",
      "1  5  10  20.0 \n",
      "\n",
      "由字典创建\n",
      "    one  two\n",
      "a  1.0  1.0\n",
      "b  2.0  2.0\n",
      "c  3.0  3.0\n",
      "d  NaN  4.0 \n",
      "\n"
     ]
    }
   ],
   "source": [
    "#例 其他创建方式\n",
    "#由多维数组创建\n",
    "import numpy as np\n",
    "\n",
    "d1=np.arange(10,22).reshape(3,4)\n",
    "df1=pd.DataFrame(d1)\n",
    "print(\"由多维数组创建\\n\",df1,\"\\n\")\n",
    "\n",
    "df2=pd.DataFrame(d1,columns=['y1','y2','y3','y4'])        #添加列标签\n",
    "print(\"由多维数组创建，加列标签\\n\",df2,\"\\n\")\n",
    "\n",
    "\n",
    "#多个字典沿0軕（“纵向”）合并\n",
    "d3= [{'a': 1, 'b': 2},{'a': 5, 'b': 10, 'c': 20}]\n",
    "df3 = pd.DataFrame(d3)                                  #没有对应的部分数据为 NaN\n",
    "print(\"由多个字典合并\\n\",df3,\"\\n\")\n",
    "\n",
    "#key为列索引，series数据创建\n",
    "d4 = {\n",
    "    \"one\": pd.Series([1.0, 2.0, 3.0], index=[\"a\", \"b\", \"c\"]),                #字典key是列索引\n",
    "    \"two\": pd.Series([1.0, 2.0, 3.0, 4.0], index=[\"a\", \"b\", \"c\", \"d\"]),\n",
    "}\n",
    "df4 = pd.DataFrame(d4)                                                         #没有对应的部分数据为 NaN\n",
    "print(\"由字典创建\\n\",df4,\"\\n\")"
   ]
  },
  {
   "cell_type": "code",
   "execution_count": 10,
   "metadata": {},
   "outputs": [
    {
     "name": "stdout",
     "output_type": "stream",
     "text": [
      "由嵌套的列表创建\n",
      "      Site  Age\n",
      "0  Google   10\n",
      "1  Runoob   12\n",
      "2    Wiki   13 \n",
      "\n"
     ]
    }
   ],
   "source": [
    "#由嵌套的列表创建，与numpy的区别之一：允许各列的数据类型不一样\n",
    "d5 = [['Google',10],['Runoob',12],['Wiki',13]]\n",
    "df5 = pd.DataFrame(d5,columns=['Site','Age'])\n",
    "print(\"由嵌套的列表创建\\n\",df5,\"\\n\")"
   ]
  },
  {
   "cell_type": "markdown",
   "metadata": {},
   "source": [
    "#### 练习4 创建df_1数据框如下，值为随机数：\n",
    "```\n",
    "       k1      k2\n",
    "s1  0.343305  0.439486\n",
    "s2  0.854493  0.686528\n",
    "s3  0.028732  0.241264\n",
    "\n",
    "```"
   ]
  },
  {
   "cell_type": "code",
   "execution_count": 8,
   "metadata": {},
   "outputs": [
    {
     "name": "stdout",
     "output_type": "stream",
     "text": [
      "          k1        k2\n",
      "s1  0.335318  0.640232\n",
      "s2  0.961787  0.910760\n",
      "s3  0.893336  0.450803\n"
     ]
    }
   ],
   "source": [
    "d_1 = {\n",
    "    \"k1\": pd.Series([np.random.random(),np.random.random(),np.random.random()],index=[\"s1\",\"s2\",\"s3\"]),\n",
    "    \"k2\": pd.Series([np.random.random(),np.random.random(),np.random.random()],index=[\"s1\",\"s2\",\"s3\"]),\n",
    "}\n",
    "df_1=pd.DataFrame(d_1)\n",
    "print(df_1)"
   ]
  },
  {
   "cell_type": "markdown",
   "metadata": {},
   "source": [
    "### 2.2.1  查看DataFrame的常用属性"
   ]
  },
  {
   "cell_type": "code",
   "execution_count": null,
   "metadata": {},
   "outputs": [],
   "source": [
    "#例3-1 显示line的标签、数据类型、非空等信息\n",
    "line.info()"
   ]
  },
  {
   "cell_type": "code",
   "execution_count": null,
   "metadata": {},
   "outputs": [],
   "source": [
    "##例3-2 显示line的值及类型，注意，是numpy二维数组\n",
    "print(\"line的值是：\\n\",line.values)\n",
    "print(\"数据框值的类型是\\n\",type(line.values))\n",
    "print(\"数据框值的类型是\\n\",type(line.values.dtype))\n",
    "#解析：可以使用  DateFrame.to_numpy() 或 DateFrame.values 将DateFrame转换为 NumPy 数组\n",
    "#DateFrame可以含不同数据类型，numpy只能同一种数据类型，为什么都能转为numpy呢？（可以问问KIMI或豆包等AI）"
   ]
  },
  {
   "cell_type": "code",
   "execution_count": 30,
   "metadata": {},
   "outputs": [
    {
     "data": {
      "text/html": [
       "<div>\n",
       "<style scoped>\n",
       "    .dataframe tbody tr th:only-of-type {\n",
       "        vertical-align: middle;\n",
       "    }\n",
       "\n",
       "    .dataframe tbody tr th {\n",
       "        vertical-align: top;\n",
       "    }\n",
       "\n",
       "    .dataframe thead th {\n",
       "        text-align: right;\n",
       "    }\n",
       "</style>\n",
       "<table border=\"1\" class=\"dataframe\">\n",
       "  <thead>\n",
       "    <tr style=\"text-align: right;\">\n",
       "      <th></th>\n",
       "      <th>0</th>\n",
       "      <th>1</th>\n",
       "      <th>2</th>\n",
       "      <th>3</th>\n",
       "      <th>4</th>\n",
       "      <th>5</th>\n",
       "      <th>6</th>\n",
       "      <th>7</th>\n",
       "      <th>8</th>\n",
       "    </tr>\n",
       "  </thead>\n",
       "  <tbody>\n",
       "    <tr>\n",
       "      <th>1路</th>\n",
       "      <td>火车站</td>\n",
       "      <td>金榜公园</td>\n",
       "      <td>文灶</td>\n",
       "      <td>将军祠</td>\n",
       "      <td>文化宫</td>\n",
       "      <td>中山公园</td>\n",
       "      <td>镇海路</td>\n",
       "      <td>博物馆</td>\n",
       "      <td>厦大</td>\n",
       "    </tr>\n",
       "    <tr>\n",
       "      <th>759路</th>\n",
       "      <td>厦大西村</td>\n",
       "      <td>软件园</td>\n",
       "      <td>高林</td>\n",
       "      <td>厦大翔安校区</td>\n",
       "      <td>NaN</td>\n",
       "      <td>NaN</td>\n",
       "      <td>NaN</td>\n",
       "      <td>NaN</td>\n",
       "      <td>NaN</td>\n",
       "    </tr>\n",
       "    <tr>\n",
       "      <th>30路</th>\n",
       "      <td>会展中心</td>\n",
       "      <td>瑞景商业广场</td>\n",
       "      <td>火车站</td>\n",
       "      <td>NaN</td>\n",
       "      <td>NaN</td>\n",
       "      <td>NaN</td>\n",
       "      <td>NaN</td>\n",
       "      <td>NaN</td>\n",
       "      <td>NaN</td>\n",
       "    </tr>\n",
       "    <tr>\n",
       "      <th>3路</th>\n",
       "      <td>文化宫</td>\n",
       "      <td>火车站</td>\n",
       "      <td>文灶</td>\n",
       "      <td>中山公园</td>\n",
       "      <td>轮渡</td>\n",
       "      <td>NaN</td>\n",
       "      <td>NaN</td>\n",
       "      <td>NaN</td>\n",
       "      <td>NaN</td>\n",
       "    </tr>\n",
       "    <tr>\n",
       "      <th>100路</th>\n",
       "      <td>轮渡</td>\n",
       "      <td>东渡</td>\n",
       "      <td>海沧</td>\n",
       "      <td></td>\n",
       "      <td>NaN</td>\n",
       "      <td>NaN</td>\n",
       "      <td>NaN</td>\n",
       "      <td>NaN</td>\n",
       "      <td>NaN</td>\n",
       "    </tr>\n",
       "  </tbody>\n",
       "</table>\n",
       "</div>"
      ],
      "text/plain": [
       "         0       1    2       3    4     5    6    7    8\n",
       "1路     火车站    金榜公园   文灶     将军祠  文化宫  中山公园  镇海路  博物馆   厦大\n",
       "759路  厦大西村     软件园   高林  厦大翔安校区  NaN   NaN  NaN  NaN  NaN\n",
       "30路   会展中心  瑞景商业广场  火车站     NaN  NaN   NaN  NaN  NaN  NaN\n",
       "3路     文化宫     火车站   文灶    中山公园   轮渡   NaN  NaN  NaN  NaN\n",
       "100路    轮渡      东渡   海沧          NaN   NaN  NaN  NaN  NaN"
      ]
     },
     "execution_count": 30,
     "metadata": {},
     "output_type": "execute_result"
    }
   ],
   "source": [
    "##例3-3 将line转置\n",
    "line.T"
   ]
  },
  {
   "cell_type": "markdown",
   "metadata": {},
   "source": [
    "#### 练习5：\n",
    "1. 生成df_2数据框，数据是[1,100]间的随机数，30行3列，列标签为k1,k2,k3\n",
    "```\n",
    "      k1  k2   k3\n",
    "0  92  51   38\n",
    "1  19  62   91\n",
    "2  15  62    3\n",
    "3  42  10   17\n",
    "4  55  42   82\n",
    "  ..........\n",
    "  ...........\n",
    "```\n",
    "2. 查看df_2的信息"
   ]
  },
  {
   "cell_type": "code",
   "execution_count": 14,
   "metadata": {},
   "outputs": [
    {
     "name": "stdout",
     "output_type": "stream",
     "text": [
      "    k1  k2  k3\n",
      "0    5  96   7\n",
      "1   20  54  62\n",
      "2    6  93  88\n",
      "3   92  62  65\n",
      "4   59  99  31\n",
      "5   90  95  89\n",
      "6    6  30  28\n",
      "7   92  54   9\n",
      "8   96  86  13\n",
      "9   47  75  87\n",
      "10  29  49  82\n",
      "11   1  48  36\n",
      "12  34  75   4\n",
      "13  43  74  54\n",
      "14  12  45  99\n",
      "15  53  63  12\n",
      "16  67  65  83\n",
      "17  89  46  34\n",
      "18  73  96  76\n",
      "19  40  55   3\n",
      "20  25  14  66\n",
      "21  68  69   1\n",
      "22  41   1  13\n",
      "23   5  71  60\n",
      "24  79  33  19\n",
      "25  99  59  57\n",
      "26  34  92  92\n",
      "27  14  34  97\n",
      "28  29  11  84\n",
      "29  74  14  77\n"
     ]
    }
   ],
   "source": [
    "d_2={\n",
    "    \"k1\": pd.Series(np.random.randint(1,100,size=30)),\n",
    "    \"k2\": pd.Series(np.random.randint(1,100,size=30)),\n",
    "    \"k3\": pd.Series(np.random.randint(1,100,size=30))\n",
    "}\n",
    "df_2=pd.DataFrame(d_2)\n",
    "print(df_2)"
   ]
  },
  {
   "cell_type": "code",
   "execution_count": 15,
   "metadata": {},
   "outputs": [
    {
     "name": "stdout",
     "output_type": "stream",
     "text": [
      "<class 'pandas.core.frame.DataFrame'>\n",
      "RangeIndex: 30 entries, 0 to 29\n",
      "Data columns (total 3 columns):\n",
      " #   Column  Non-Null Count  Dtype\n",
      "---  ------  --------------  -----\n",
      " 0   k1      30 non-null     int32\n",
      " 1   k2      30 non-null     int32\n",
      " 2   k3      30 non-null     int32\n",
      "dtypes: int32(3)\n",
      "memory usage: 492.0 bytes\n"
     ]
    }
   ],
   "source": [
    "df_2.info()"
   ]
  },
  {
   "cell_type": "code",
   "execution_count": 16,
   "metadata": {},
   "outputs": [
    {
     "name": "stdout",
     "output_type": "stream",
     "text": [
      "df_2的值是：\n",
      " [[ 5 96  7]\n",
      " [20 54 62]\n",
      " [ 6 93 88]\n",
      " [92 62 65]\n",
      " [59 99 31]\n",
      " [90 95 89]\n",
      " [ 6 30 28]\n",
      " [92 54  9]\n",
      " [96 86 13]\n",
      " [47 75 87]\n",
      " [29 49 82]\n",
      " [ 1 48 36]\n",
      " [34 75  4]\n",
      " [43 74 54]\n",
      " [12 45 99]\n",
      " [53 63 12]\n",
      " [67 65 83]\n",
      " [89 46 34]\n",
      " [73 96 76]\n",
      " [40 55  3]\n",
      " [25 14 66]\n",
      " [68 69  1]\n",
      " [41  1 13]\n",
      " [ 5 71 60]\n",
      " [79 33 19]\n",
      " [99 59 57]\n",
      " [34 92 92]\n",
      " [14 34 97]\n",
      " [29 11 84]\n",
      " [74 14 77]]\n"
     ]
    }
   ],
   "source": [
    "print(\"df_2的值是：\\n\",df_2.values)"
   ]
  },
  {
   "cell_type": "code",
   "execution_count": 17,
   "metadata": {},
   "outputs": [
    {
     "name": "stdout",
     "output_type": "stream",
     "text": [
      "数据框值的类型是\n",
      " <class 'numpy.ndarray'>\n",
      "数据框值的类型是\n",
      " <class 'numpy.dtypes.Int32DType'>\n"
     ]
    }
   ],
   "source": [
    "print(\"数据框值的类型是\\n\",type(df_2.values))\n",
    "print(\"数据框值的类型是\\n\",type(df_2.values.dtype))"
   ]
  },
  {
   "cell_type": "code",
   "execution_count": 18,
   "metadata": {},
   "outputs": [
    {
     "name": "stdout",
     "output_type": "stream",
     "text": [
      "转置：     0   1   2   3   4   5   6   7   8   9   ...  20  21  22  23  24  25  26  \\\n",
      "k1   5  20   6  92  59  90   6  92  96  47  ...  25  68  41   5  79  99  34   \n",
      "k2  96  54  93  62  99  95  30  54  86  75  ...  14  69   1  71  33  59  92   \n",
      "k3   7  62  88  65  31  89  28   9  13  87  ...  66   1  13  60  19  57  92   \n",
      "\n",
      "    27  28  29  \n",
      "k1  14  29  74  \n",
      "k2  34  11  14  \n",
      "k3  97  84  77  \n",
      "\n",
      "[3 rows x 30 columns]\n"
     ]
    }
   ],
   "source": [
    "print(\"转置：\",df_2.T)"
   ]
  },
  {
   "cell_type": "code",
   "execution_count": null,
   "metadata": {},
   "outputs": [],
   "source": []
  }
 ],
 "metadata": {
  "kernelspec": {
   "display_name": "Python 3",
   "language": "python",
   "name": "python3"
  },
  "language_info": {
   "codemirror_mode": {
    "name": "ipython",
    "version": 3
   },
   "file_extension": ".py",
   "mimetype": "text/x-python",
   "name": "python",
   "nbconvert_exporter": "python",
   "pygments_lexer": "ipython3",
   "version": "3.12.8"
  }
 },
 "nbformat": 4,
 "nbformat_minor": 4
}
