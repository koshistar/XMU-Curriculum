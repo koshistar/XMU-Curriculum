{
 "cells": [
  {
   "cell_type": "markdown",
   "metadata": {},
   "source": [
    "# 三 时间序列对象\n",
    "## 3.1  创建时间序列对象\n",
    "    date_range(start=None，end=None,periods=None,freq='D')\n",
    "    \n",
    "* freq的常用值：\n",
    "```\n",
    "    W：一周\n",
    "    D：每日历日\n",
    "    B：每工作日\n",
    "    H：每小时\n",
    "    T：每分\n",
    "    S：每秒\n",
    "    L：每毫秒（千分之一秒）；U：每微秒（百万分之一秒）\n",
    "    M：每月最后一个日历日\n",
    "    Q-月：指定月为季度末，每个季度末最后一月的最后一个日历日\n",
    "    A-月：每年指定月份的最后一个日历日\n",
    "```"
   ]
  },
  {
   "cell_type": "code",
   "execution_count": 1,
   "metadata": {},
   "outputs": [],
   "source": [
    "import pandas as pd\n",
    "import numpy as np"
   ]
  },
  {
   "cell_type": "code",
   "execution_count": 2,
   "metadata": {},
   "outputs": [
    {
     "name": "stdout",
     "output_type": "stream",
     "text": [
      "DatetimeIndex(['2017-01-01', '2017-01-02', '2017-01-03', '2017-01-04'], dtype='datetime64[ns]', freq='D')\n",
      "DatetimeIndex(['2017-01-02', '2017-01-03', '2017-01-04'], dtype='datetime64[ns]', freq='B')\n",
      "DatetimeIndex(['2017-01-01 00:00:00', '2017-01-01 01:00:00',\n",
      "               '2017-01-01 02:00:00', '2017-01-01 03:00:00',\n",
      "               '2017-01-01 04:00:00', '2017-01-01 05:00:00',\n",
      "               '2017-01-01 06:00:00', '2017-01-01 07:00:00',\n",
      "               '2017-01-01 08:00:00', '2017-01-01 09:00:00',\n",
      "               '2017-01-01 10:00:00', '2017-01-01 11:00:00',\n",
      "               '2017-01-01 12:00:00', '2017-01-01 13:00:00',\n",
      "               '2017-01-01 14:00:00', '2017-01-01 15:00:00',\n",
      "               '2017-01-01 16:00:00', '2017-01-01 17:00:00',\n",
      "               '2017-01-01 18:00:00', '2017-01-01 19:00:00',\n",
      "               '2017-01-01 20:00:00', '2017-01-01 21:00:00',\n",
      "               '2017-01-01 22:00:00', '2017-01-01 23:00:00',\n",
      "               '2017-01-02 00:00:00'],\n",
      "              dtype='datetime64[ns]', freq='h')\n",
      "DatetimeIndex(['2017-01-01 12:00:00', '2017-01-01 12:01:00',\n",
      "               '2017-01-01 12:02:00', '2017-01-01 12:03:00',\n",
      "               '2017-01-01 12:04:00', '2017-01-01 12:05:00',\n",
      "               '2017-01-01 12:06:00', '2017-01-01 12:07:00',\n",
      "               '2017-01-01 12:08:00', '2017-01-01 12:09:00',\n",
      "               '2017-01-01 12:10:00'],\n",
      "              dtype='datetime64[ns]', freq='min')\n"
     ]
    },
    {
     "name": "stderr",
     "output_type": "stream",
     "text": [
      "C:\\Users\\lenovo\\AppData\\Local\\Temp\\ipykernel_19724\\1680009476.py:3: FutureWarning: 'H' is deprecated and will be removed in a future version, please use 'h' instead.\n",
      "  print(pd.date_range('2017/1/1','2017/1/2', freq = 'H'))    # H：每小时\n",
      "C:\\Users\\lenovo\\AppData\\Local\\Temp\\ipykernel_19724\\1680009476.py:4: FutureWarning: 'T' is deprecated and will be removed in a future version, please use 'min' instead.\n",
      "  print(pd.date_range('2017/1/1 12:00','2017/1/1 12:10', freq = 'T'))  # T/MIN：每分\n",
      "C:\\Users\\lenovo\\AppData\\Local\\Temp\\ipykernel_19724\\1680009476.py:5: FutureWarning: 'S' is deprecated and will be removed in a future version, please use 's' instead.\n",
      "  pd.date_range('2017/1/1 12:00:00','2017/1/1 12:00:10', freq = 'S')   # S：每秒\n"
     ]
    },
    {
     "data": {
      "text/plain": [
       "DatetimeIndex(['2017-01-01 12:00:00', '2017-01-01 12:00:01',\n",
       "               '2017-01-01 12:00:02', '2017-01-01 12:00:03',\n",
       "               '2017-01-01 12:00:04', '2017-01-01 12:00:05',\n",
       "               '2017-01-01 12:00:06', '2017-01-01 12:00:07',\n",
       "               '2017-01-01 12:00:08', '2017-01-01 12:00:09',\n",
       "               '2017-01-01 12:00:10'],\n",
       "              dtype='datetime64[ns]', freq='s')"
      ]
     },
     "execution_count": 2,
     "metadata": {},
     "output_type": "execute_result"
    }
   ],
   "source": [
    "print(pd.date_range('2017/1/1','2017/1/4'))               # 默认freq = 'D'：每日历日\n",
    "print(pd.date_range('2017/1/1','2017/1/4', freq = 'B'))    # B：每工作日\n",
    "print(pd.date_range('2017/1/1','2017/1/2', freq = 'H'))    # H：每小时\n",
    "print(pd.date_range('2017/1/1 12:00','2017/1/1 12:10', freq = 'T'))  # T/MIN：每分\n",
    "pd.date_range('2017/1/1 12:00:00','2017/1/1 12:00:10', freq = 'S')   # S：每秒"
   ]
  },
  {
   "cell_type": "code",
   "execution_count": 3,
   "metadata": {},
   "outputs": [
    {
     "data": {
      "text/plain": [
       "2022-01-02    46\n",
       "2022-01-16    32\n",
       "2022-01-30     4\n",
       "2022-02-13     2\n",
       "2022-02-27    41\n",
       "2022-03-13    87\n",
       "2022-03-27    88\n",
       "2022-04-10    60\n",
       "2022-04-24    44\n",
       "2022-05-08    88\n",
       "2022-05-22    54\n",
       "2022-06-05    24\n",
       "2022-06-19    90\n",
       "2022-07-03    39\n",
       "2022-07-17    30\n",
       "2022-07-31    30\n",
       "2022-08-14     5\n",
       "2022-08-28    69\n",
       "2022-09-11    94\n",
       "2022-09-25    53\n",
       "2022-10-09    32\n",
       "2022-10-23    48\n",
       "2022-11-06    75\n",
       "2022-11-20    55\n",
       "2022-12-04    40\n",
       "2022-12-18     1\n",
       "2023-01-01    21\n",
       "Freq: 2W-SUN, dtype: int32"
      ]
     },
     "execution_count": 3,
     "metadata": {},
     "output_type": "execute_result"
    }
   ],
   "source": [
    "#创建系列，以时间序列为索引\n",
    "dt1=pd.date_range(\"2022-1-1\",\"2023/1/1\",freq=\"2W\")   #时间序列，相隔2周\n",
    "data1=np.random.randint(1,100,27)                    #27个随机整数\n",
    "s10=pd.Series(data1,index=dt1)                       #以时间序列为索引，生成系列\n",
    "s10"
   ]
  },
  {
   "cell_type": "markdown",
   "metadata": {},
   "source": [
    "#### 练习6：创建时间系列dt_1，从2018/1/1至2020/10/1，相邻时间相隔15天"
   ]
  },
  {
   "cell_type": "code",
   "execution_count": 4,
   "metadata": {},
   "outputs": [
    {
     "data": {
      "text/plain": [
       "DatetimeIndex(['2018-01-01', '2018-01-16', '2018-01-31', '2018-02-15',\n",
       "               '2018-03-02', '2018-03-17', '2018-04-01', '2018-04-16',\n",
       "               '2018-05-01', '2018-05-16', '2018-05-31', '2018-06-15',\n",
       "               '2018-06-30', '2018-07-15', '2018-07-30', '2018-08-14',\n",
       "               '2018-08-29', '2018-09-13', '2018-09-28', '2018-10-13',\n",
       "               '2018-10-28', '2018-11-12', '2018-11-27', '2018-12-12',\n",
       "               '2018-12-27', '2019-01-11', '2019-01-26', '2019-02-10',\n",
       "               '2019-02-25', '2019-03-12', '2019-03-27', '2019-04-11',\n",
       "               '2019-04-26', '2019-05-11', '2019-05-26', '2019-06-10',\n",
       "               '2019-06-25', '2019-07-10', '2019-07-25', '2019-08-09',\n",
       "               '2019-08-24', '2019-09-08', '2019-09-23', '2019-10-08',\n",
       "               '2019-10-23', '2019-11-07', '2019-11-22', '2019-12-07',\n",
       "               '2019-12-22', '2020-01-06', '2020-01-21', '2020-02-05',\n",
       "               '2020-02-20', '2020-03-06', '2020-03-21', '2020-04-05',\n",
       "               '2020-04-20', '2020-05-05', '2020-05-20', '2020-06-04',\n",
       "               '2020-06-19', '2020-07-04', '2020-07-19', '2020-08-03',\n",
       "               '2020-08-18', '2020-09-02', '2020-09-17'],\n",
       "              dtype='datetime64[ns]', freq='15D')"
      ]
     },
     "execution_count": 4,
     "metadata": {},
     "output_type": "execute_result"
    }
   ],
   "source": [
    "dt_1=pd.date_range(\"2018/1/1\",\"2020/10/1\",freq=\"15D\")\n",
    "dt_1"
   ]
  },
  {
   "cell_type": "markdown",
   "metadata": {},
   "source": [
    "#### 练习7：以dt_1为索引，值为随机整数，创建带时间索引的系列s_3\n",
    "**提示**：dt_1.size 可以查看元素总个数"
   ]
  },
  {
   "cell_type": "code",
   "execution_count": 8,
   "metadata": {},
   "outputs": [
    {
     "data": {
      "text/plain": [
       "2018-01-01    15\n",
       "2018-01-16    60\n",
       "2018-01-31    18\n",
       "2018-02-15    55\n",
       "2018-03-02     1\n",
       "              ..\n",
       "2020-07-19    36\n",
       "2020-08-03    13\n",
       "2020-08-18    88\n",
       "2020-09-02    85\n",
       "2020-09-17    68\n",
       "Freq: 15D, Length: 67, dtype: int32"
      ]
     },
     "execution_count": 8,
     "metadata": {},
     "output_type": "execute_result"
    }
   ],
   "source": [
    "data_1=np.random.randint(1,100,dt_1.size)\n",
    "s_3=pd.Series(data_1,index=dt_1)\n",
    "s_3"
   ]
  },
  {
   "cell_type": "code",
   "execution_count": null,
   "metadata": {},
   "outputs": [],
   "source": []
  },
  {
   "cell_type": "code",
   "execution_count": null,
   "metadata": {},
   "outputs": [],
   "source": []
  }
 ],
 "metadata": {
  "kernelspec": {
   "display_name": "Python 3",
   "language": "python",
   "name": "python3"
  },
  "language_info": {
   "codemirror_mode": {
    "name": "ipython",
    "version": 3
   },
   "file_extension": ".py",
   "mimetype": "text/x-python",
   "name": "python",
   "nbconvert_exporter": "python",
   "pygments_lexer": "ipython3",
   "version": "3.12.8"
  }
 },
 "nbformat": 4,
 "nbformat_minor": 4
}
