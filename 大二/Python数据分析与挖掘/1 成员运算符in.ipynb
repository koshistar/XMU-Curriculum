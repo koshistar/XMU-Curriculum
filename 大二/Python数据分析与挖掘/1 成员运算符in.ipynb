{
 "cells": [
  {
   "cell_type": "markdown",
   "metadata": {},
   "source": [
    "### 成员运算符：in\n",
    "* 字符串1 [not] in 字符串2\n",
    "判断字符串1是否属于字符串2，其返回值为True或False"
   ]
  },
  {
   "cell_type": "code",
   "execution_count": 1,
   "metadata": {},
   "outputs": [
    {
     "name": "stdout",
     "output_type": "stream",
     "text": [
      "True\n",
      "False\n"
     ]
    }
   ],
   "source": [
    "print(\"ab\" in \"abcde\")\n",
    "print(\"ac\" in \"abcde\")"
   ]
  },
  {
   "cell_type": "code",
   "execution_count": 2,
   "metadata": {},
   "outputs": [
    {
     "name": "stdout",
     "output_type": "stream",
     "text": [
      "amazing\n"
     ]
    }
   ],
   "source": [
    "# 例题1：从键盘输入5个英文单词，输出其中以元音字母开头的单词。\n",
    "\n",
    "vowels='AEIOUaeiou'\n",
    "for i in range(0,5):\n",
    "    s=input(\"Please enter a word:\")\n",
    "    if s[0] in vowels:\n",
    "        print(s)\n"
   ]
  },
  {
   "cell_type": "markdown",
   "metadata": {},
   "source": [
    "#### 练习1：测试用户输入中是否有敏感词 ('测试', '非法', '暴力', '话')，如果有的话，则输出“有敏感词”。\n",
    "\n",
    "    输入样例1：这部电影有些暴力镜头，少儿不宜。\n",
    "    输出样例1：有敏感词\n",
    "\n",
    "* 请将程序填写完整"
   ]
  },
  {
   "cell_type": "code",
   "execution_count": 6,
   "metadata": {},
   "outputs": [],
   "source": [
    "sensi= ('测试', '非法', '暴力', '话')             #提示，可以将要遍历的敏感词放在元组或列表等序列对象中\n",
    "user_input=input(\"请输入一句话：\\n\")\n",
    "#将下面2行语句填写完整\n",
    "for s in sensi:\n",
    "    if s in user_input:\n",
    "        print(\"有敏感词\")\n",
    "        break"
   ]
  },
  {
   "cell_type": "code",
   "execution_count": null,
   "metadata": {},
   "outputs": [],
   "source": []
  }
 ],
 "metadata": {
  "kernelspec": {
   "display_name": "Python 3",
   "language": "python",
   "name": "python3"
  },
  "language_info": {
   "codemirror_mode": {
    "name": "ipython",
    "version": 3
   },
   "file_extension": ".py",
   "mimetype": "text/x-python",
   "name": "python",
   "nbconvert_exporter": "python",
   "pygments_lexer": "ipython3",
   "version": "3.12.8"
  }
 },
 "nbformat": 4,
 "nbformat_minor": 1
}
