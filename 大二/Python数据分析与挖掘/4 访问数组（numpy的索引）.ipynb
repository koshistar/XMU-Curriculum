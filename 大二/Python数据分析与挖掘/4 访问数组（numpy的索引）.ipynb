{
 "cells": [
  {
   "cell_type": "markdown",
   "id": "6f1167a4",
   "metadata": {},
   "source": [
    "### 一、一维数组的索引与切片\n",
    "    与python的列表索引与切片相同"
   ]
  },
  {
   "cell_type": "markdown",
   "id": "ecd9dba7",
   "metadata": {},
   "source": [
    "### 二、二维数组的索引与切片\n",
    "    数组名[行下标]            :行下标可以是索引、切片，指定要访问的行\n",
    "    数组名[行下标,列下标]      :行、列下标可以是索引、切片，通过行、列两个维度确定访问位置\n",
    "    数组名[(行下标,列下标)]    ：同上\n",
    "* 注意索引与切片的区别，若是索引，则结果是一维数组。"
   ]
  },
  {
   "cell_type": "code",
   "execution_count": 1,
   "id": "a83d2bda",
   "metadata": {},
   "outputs": [],
   "source": [
    "import numpy as np"
   ]
  },
  {
   "cell_type": "code",
   "execution_count": 5,
   "id": "f45d9b22-0a80-4b50-b132-94a60c6838d9",
   "metadata": {},
   "outputs": [
    {
     "name": "stdout",
     "output_type": "stream",
     "text": [
      "[[ 0  1  2  3  4]\n",
      " [ 5  6  7  8  9]\n",
      " [10 11 12 13 14]\n",
      " [15 16 17 18 19]\n",
      " [20 21 22 23 24]]\n"
     ]
    }
   ],
   "source": [
    "data2=np.arange(25).reshape(5,5)\n",
    "print(data2)"
   ]
  },
  {
   "cell_type": "code",
   "execution_count": 4,
   "id": "158478a8",
   "metadata": {},
   "outputs": [
    {
     "name": "stdout",
     "output_type": "stream",
     "text": [
      "data2[2,2]访问的元素是：\n",
      "12\n"
     ]
    }
   ],
   "source": [
    "print(\"data2[2,2]访问的元素是：\")\n",
    "print(data2[2,2])"
   ]
  },
  {
   "cell_type": "code",
   "execution_count": 6,
   "id": "f5a386c5",
   "metadata": {},
   "outputs": [
    {
     "name": "stdout",
     "output_type": "stream",
     "text": [
      "data2[1:3,2]访问的元素是：\n",
      "[ 7 12]\n"
     ]
    }
   ],
   "source": [
    "print(\"data2[1:3,2]访问的元素是：\")\n",
    "print(data2[1:3,2])                          #采用索引，则是行、列索引确定的元素  组成的   一维数组"
   ]
  },
  {
   "cell_type": "code",
   "execution_count": 7,
   "id": "d42a01cc",
   "metadata": {},
   "outputs": [
    {
     "name": "stdout",
     "output_type": "stream",
     "text": [
      "data2[1:3,2:3]访问的元素是：\n",
      "[[ 7]\n",
      " [12]]\n"
     ]
    }
   ],
   "source": [
    "print(\"data2[1:3,2:3]访问的元素是：\")\n",
    "print(data2[1:3,2:3])                         #注意与上一例的区别，采用切片，原矩阵中切出小矩阵"
   ]
  },
  {
   "cell_type": "code",
   "execution_count": 9,
   "id": "e0f17a4e",
   "metadata": {},
   "outputs": [
    {
     "name": "stdout",
     "output_type": "stream",
     "text": [
      "data2[-3:-1,1:2]访问的元素是：\n",
      "[[11]\n",
      " [16]]\n"
     ]
    }
   ],
   "source": [
    "print(\"data2[-3:-1,1:2]访问的元素是：\")\n",
    "print( data2[-3:-1,1:2])"
   ]
  },
  {
   "cell_type": "code",
   "execution_count": 10,
   "id": "3e45037a",
   "metadata": {},
   "outputs": [
    {
     "name": "stdout",
     "output_type": "stream",
     "text": [
      " data2[:7:2,2:8:3]访问的元素是：\n",
      "[[ 2]\n",
      " [12]\n",
      " [22]]\n"
     ]
    }
   ],
   "source": [
    "print(\" data2[:7:2,2:8:3]访问的元素是：\")\n",
    "print(  data2[:7:2,2:8:3])"
   ]
  },
  {
   "cell_type": "markdown",
   "id": "0eb10e7b",
   "metadata": {},
   "source": [
    "### 练习1：\n",
    "    data=np.array([[0,1,2,3,4],[5,6,7,8,9],[10,11,12,13,14],[15,16,17,18,19],  [20,21,22,23,24]])\n",
    "    访问其中第5行第2-3列的元素\n",
    "    输出样例:\n",
    "    [21 22]"
   ]
  },
  {
   "cell_type": "code",
   "execution_count": null,
   "id": "05aea859",
   "metadata": {},
   "outputs": [
    {
     "name": "stdout",
     "output_type": "stream",
     "text": [
      "[21 22]\n"
     ]
    }
   ],
   "source": [
    "data=np.array([[0,1,2,3,4],[5,6,7,8,9],[10,11,12,13,14],[15,16,17,18,19],[20,21,22,23,24]])\n",
    "# print(data)\n",
    "# print(data[4,1],data[4,2])\n",
    "# print(data[4:5,1:3])\n",
    "# print(data[-1:,1:3])\n",
    "print(data[-1,1:3])"
   ]
  },
  {
   "cell_type": "markdown",
   "id": "18b0275b",
   "metadata": {},
   "source": [
    "### 三、花式索引\n",
    "    数组名[行下标]\n",
    "    数组名[行下标,列下标]\n",
    "* 注意：花式索引的行、列下标是整数数组，整数数组可以是NumPy数组，也可以是Python中列表、元组等可迭代类型\n",
    "* 花式索引、布尔数组是将数据复制到新数组中，因此改变新数组的值不会影响原数组。\n"
   ]
  },
  {
   "cell_type": "code",
   "execution_count": 11,
   "id": "45ab9fa6",
   "metadata": {},
   "outputs": [
    {
     "name": "stdout",
     "output_type": "stream",
     "text": [
      "[ 1  7 13 19]\n",
      "\n",
      " a的数据是否来源于其它对象：\n",
      " None\n"
     ]
    }
   ],
   "source": [
    "data2=np.array([[0,1,2,3,4],[5,6,7,8,9],\n",
    "                [10,11,12,13,14],[15,16,17,18,19],  [20,21,22,23,24]])\n",
    "print( data2[[0,1,2,3],[1,2,3,4]] )              #等价于：data[0,1]、data[1,2]、data[2,3]、data[3,4]\n",
    "\n",
    "#判断a的数据是否来源于其它对象\n",
    "a=data2[[0,1,2,3],[1,2,3,4]]\n",
    "print(\"\\n a的数据是否来源于其它对象：\\n\",a.base)"
   ]
  },
  {
   "cell_type": "code",
   "execution_count": 14,
   "id": "68465f48",
   "metadata": {},
   "outputs": [
    {
     "name": "stdout",
     "output_type": "stream",
     "text": [
      "[[5 6]\n",
      " [8 9]]\n",
      "\n",
      " b的数据是否来源于data1：\n",
      " [[5 8]\n",
      " [6 9]]\n"
     ]
    }
   ],
   "source": [
    "data1 = np.array([[1,2,3], [4,5,6],[7,8,9]]) \n",
    "b = data1[1:3,[1,2]] \n",
    "print(b)\n",
    "print(\"\\n b的数据是否来源于data1：\\n\",b.base)          #有切片索引，b与data1共享数据"
   ]
  },
  {
   "cell_type": "markdown",
   "id": "9e1a93ff",
   "metadata": {},
   "source": [
    "### 练习2：\n",
    "    data=np.array([[0,1,2,3,4],[5,6,7,8,9],[10,11,12,13,14],[15,16,17,18,19],  [20,21,22,23,24]])\n",
    "    访问其中前3行第2、4、5列的元素\n",
    "    输出样例:\n",
    "    [[ 1  3  4]\n",
    "      [ 6  8  9]\n",
    "     [11 13 14]]"
   ]
  },
  {
   "cell_type": "code",
   "execution_count": 13,
   "id": "5e10ff41",
   "metadata": {},
   "outputs": [
    {
     "name": "stdout",
     "output_type": "stream",
     "text": [
      "[[ 1  3  4]\n",
      " [ 6  8  9]\n",
      " [11 13 14]]\n"
     ]
    }
   ],
   "source": [
    "data=np.array([[0,1,2,3,4],[5,6,7,8,9],[10,11,12,13,14],[15,16,17,18,19],  [20,21,22,23,24]])\n",
    "# print(data)\n",
    "print(data[0:3,[1,3,4]])"
   ]
  },
  {
   "cell_type": "markdown",
   "id": "aa2e8587",
   "metadata": {},
   "source": [
    "### 四、布尔索引\n",
    "    索引是布尔数组，例如，np.array([1,0,1,1],dtype=bool)"
   ]
  },
  {
   "cell_type": "code",
   "execution_count": 22,
   "id": "0e261ebd",
   "metadata": {},
   "outputs": [
    {
     "name": "stdout",
     "output_type": "stream",
     "text": [
      "data：\n",
      " [[ 0  1  2]\n",
      " [ 3  4  5]\n",
      " [ 6  7  8]\n",
      " [ 9 10 11]]\n",
      "布尔数组是：\n",
      " [ True False  True  True]\n",
      "查找结果是：\n",
      " [[ 0  1]\n",
      " [ 6  7]\n",
      " [ 9 10]]\n"
     ]
    }
   ],
   "source": [
    "data=np.arange(12).reshape(4,3)\n",
    "bl=np.array([1,0,1,1],dtype=bool)              #1表示True，0表示False\n",
    "\n",
    "print(\"data：\\n\",data)\n",
    "print(\"布尔数组是：\\n\",bl)\n",
    "\n",
    "data=data[bl,0:2]                              #行下标是布尔值，取下标为1（True）对应的行\n",
    "print(\"查找结果是：\\n\",data)"
   ]
  },
  {
   "cell_type": "code",
   "execution_count": 25,
   "id": "c646c195",
   "metadata": {},
   "outputs": [
    {
     "name": "stdout",
     "output_type": "stream",
     "text": [
      "数组比较运算，判断大于5的元素：\n",
      "[[False False False]\n",
      " [False False False]\n",
      " [ True  True  True]\n",
      " [ True  True  True]]\n",
      "输出大于5的元素：\n",
      "[ 6  7  8  9 10 11]\n"
     ]
    }
   ],
   "source": [
    "#例题：查找data数组中>5的元素\n",
    "data=np.arange(12).reshape(4,3)\n",
    "print ('数组比较运算，判断大于5的元素：') \n",
    "print (    data > 5   )                      #得到布尔数组\n",
    "\n",
    "\n",
    "print ('输出大于5的元素：') \n",
    "print (   data[ data > 5 ]   )                #用布尔索引来获取符合指定条件的元素"
   ]
  },
  {
   "cell_type": "markdown",
   "id": "1cb64e97",
   "metadata": {},
   "source": [
    "### 练习3：\n",
    "    data=np.random.randint(0,100,24).reshape(8,3)\n",
    "    输出其中>85或<60的元素\n",
    "    输出样例:\n",
    "    [95 29 27 25 87 50 16 93 89 54 40 91 15 19 53 44 27 95 90]"
   ]
  },
  {
   "cell_type": "code",
   "execution_count": 21,
   "id": "aa5b87c6",
   "metadata": {},
   "outputs": [
    {
     "name": "stdout",
     "output_type": "stream",
     "text": [
      "[ 3  9 86 89 15 95 13 53 10 26 91 27 59 38 26 55 86]\n"
     ]
    }
   ],
   "source": [
    "data=np.random.randint(0,100,24).reshape(8,3)\n",
    "# print(data)\n",
    "print(data[(data>85) | (data<60)])"
   ]
  },
  {
   "cell_type": "code",
   "execution_count": null,
   "id": "bc3557bb-531c-43de-be7c-570fd1c931b3",
   "metadata": {},
   "outputs": [],
   "source": []
  }
 ],
 "metadata": {
  "kernelspec": {
   "display_name": "Python 3",
   "language": "python",
   "name": "python3"
  },
  "language_info": {
   "codemirror_mode": {
    "name": "ipython",
    "version": 3
   },
   "file_extension": ".py",
   "mimetype": "text/x-python",
   "name": "python",
   "nbconvert_exporter": "python",
   "pygments_lexer": "ipython3",
   "version": "3.12.8"
  }
 },
 "nbformat": 4,
 "nbformat_minor": 5
}
