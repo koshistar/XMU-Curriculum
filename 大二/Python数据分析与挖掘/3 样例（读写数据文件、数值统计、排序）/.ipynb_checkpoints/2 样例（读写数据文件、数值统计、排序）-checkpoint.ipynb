{
 "cells": [
  {
   "cell_type": "markdown",
   "metadata": {},
   "source": [
    "# 一、从文件中读入数据至数据框\n",
    "### (1) 导入 excel文件中的数据\n",
    "    pandas.read_excel( filepath )\n",
    "### (2) 导入 txt     文件中的数据\n",
    "    pandas.read_table( filepath, sep=’\\t’, encoding=None)\n",
    "\n",
    "### (3) 导入 csv   文件中的数据\n",
    "    pandas.read_csv( filepath, engine=None , encoding=None, sep=‘,’)"
   ]
  },
  {
   "cell_type": "markdown",
   "metadata": {},
   "source": [
    "#### 例1-1 读入excel文件“产品订购表.xlsx”的数据，设置\"产品名称\"为行索引"
   ]
  },
  {
   "cell_type": "code",
   "execution_count": null,
   "metadata": {},
   "outputs": [],
   "source": [
    "import pandas as pd"
   ]
  },
  {
   "cell_type": "code",
   "execution_count": null,
   "metadata": {
    "scrolled": true
   },
   "outputs": [],
   "source": [
    "#df1=pd.read_excel(r\".\\产品订购表.xlsx\",index_col=1)            #第1列(\"产品名称\")作为行索引\n",
    "df1=pd.read_excel(r\".\\产品订购表.xlsx\",index_col=\"产品名称\")    #\"产品名称\"列作为行索引\n",
    "df1.head()                                                #head()查看前5条记录\n",
    "#df1.tail()                            #tail()查看最后5条记录，tail(n)最后n条"
   ]
  },
  {
   "cell_type": "markdown",
   "metadata": {},
   "source": [
    "#### 例1-2 读入excel文件“产品订购表.xlsx”的数据，不设置行索引"
   ]
  },
  {
   "cell_type": "code",
   "execution_count": null,
   "metadata": {
    "scrolled": true
   },
   "outputs": [],
   "source": [
    "df2=pd.read_excel(r\".\\产品订购表.xlsx\")      #默认的行位置索引，0开始\n",
    "df2.head()"
   ]
  },
  {
   "cell_type": "markdown",
   "metadata": {},
   "source": [
    "#### 例1-3 只读取产品名称、生产日期、单价字段"
   ]
  },
  {
   "cell_type": "code",
   "execution_count": null,
   "metadata": {
    "scrolled": true
   },
   "outputs": [],
   "source": [
    "#df3=pd.read_excel(r\".\\产品订购表.xlsx\",usecols=[1,4,6])   #列序号从0开始计算\n",
    "df3=pd.read_excel(r\".\\产品订购表.xlsx\",usecols=[\"产品名称\",\"生产日期\",\"单价\"])\n",
    "df3.head()"
   ]
  },
  {
   "cell_type": "markdown",
   "metadata": {},
   "source": [
    "#### 例1-4  读取 “产品订购表.txt” 的数据，注意文件的编码"
   ]
  },
  {
   "cell_type": "code",
   "execution_count": null,
   "metadata": {
    "scrolled": true
   },
   "outputs": [],
   "source": [
    "df4=pd.read_table(r\".\\产品订购表.txt\",encoding='utf-16')      #文件是'utf-16'编码\n",
    "df4.head()"
   ]
  },
  {
   "cell_type": "markdown",
   "metadata": {},
   "source": [
    "#### 例1-5  读取 “buy_record.csv” 的数据"
   ]
  },
  {
   "cell_type": "code",
   "execution_count": null,
   "metadata": {
    "scrolled": true
   },
   "outputs": [],
   "source": [
    "df5=pd.read_csv(r\".\\buy_record.csv\",encoding='ANSI')      #该函数要求filepath是英文，注意该文件的编码方式\n",
    "df5.head()   "
   ]
  },
  {
   "cell_type": "markdown",
   "metadata": {},
   "source": [
    "#### 例1-6  读取 “产品订购表.csv” 的数据，注意中文文件名与编码的处理"
   ]
  },
  {
   "cell_type": "code",
   "execution_count": null,
   "metadata": {
    "scrolled": true
   },
   "outputs": [],
   "source": [
    "#调用pandas的read_csv()方法时，engine的值为\" c\"(默认)引擎或\" python\"引擎，表示解析器的编写语言。\n",
    "#某些情况下，'c'更快，而'python'功能更完备，例如，'python'支持灵活的sep，而'c'不支持；\n",
    "\n",
    "df6=pd.read_csv(r\".\\产品订购表.csv\",engine=\"python\",encoding='ANSI')    #可以用记事本查看文件的encoding及分隔符\n",
    "df6.head()"
   ]
  },
  {
   "cell_type": "code",
   "execution_count": null,
   "metadata": {
    "scrolled": true
   },
   "outputs": [],
   "source": [
    "#例6-2 读取 “产品订购表2.csv” 的数据，注意：各列以#分隔\n",
    "df6=pd.read_csv(r\".\\产品订购表2.csv\",engine=\"c\",encoding='ANSI',sep='#')    #可以用记事本查看文件的encoding及分隔符\n",
    "df6.head()"
   ]
  },
  {
   "cell_type": "markdown",
   "metadata": {},
   "source": [
    "## 练习1-1 \n",
    "    读入city_temperature.csv文件，只要第0,4,6,5,7列，保存在data中"
   ]
  },
  {
   "cell_type": "code",
   "execution_count": null,
   "metadata": {
    "scrolled": true
   },
   "outputs": [],
   "source": []
  },
  {
   "cell_type": "markdown",
   "metadata": {},
   "source": [
    "#### 例1-6  将df6中的产品名称、单价、订购款，存入out_1.csv文件"
   ]
  },
  {
   "cell_type": "code",
   "execution_count": null,
   "metadata": {
    "scrolled": true
   },
   "outputs": [],
   "source": [
    "df6.to_csv(r'.\\out_1.csv',columns=[\"产品名称\",\"单价\",\"订购款\"],encoding='gbk',index=False)"
   ]
  },
  {
   "cell_type": "markdown",
   "metadata": {},
   "source": [
    "## 练习1-2  \n",
    "    将练习1-1获得的data中的City、Month、Day、\tAvgTemperature存入lx_2.csv"
   ]
  },
  {
   "cell_type": "code",
   "execution_count": null,
   "metadata": {
    "scrolled": true
   },
   "outputs": [],
   "source": []
  },
  {
   "cell_type": "markdown",
   "metadata": {},
   "source": [
    "# 二、数值统计\n",
    "### (1) df.describe()方法：获得所有数值型字段的特征值\n",
    "    非空值个数、均值、标准差、最小值、四分位数、最大值\n",
    "### (2) df.min()、df.max()、df.median()、df.mode()众数等\n",
    "### (3) 使用numpy的统计函数"
   ]
  },
  {
   "cell_type": "code",
   "execution_count": null,
   "metadata": {
    "scrolled": true
   },
   "outputs": [],
   "source": [
    "# 显示df6的各数值型字段非空值个数、均值、标准差、最小值、四分位数、最大值\n",
    "df6.describe()"
   ]
  },
  {
   "cell_type": "code",
   "execution_count": null,
   "metadata": {
    "scrolled": true
   },
   "outputs": [],
   "source": [
    "#使用pandas的方法求出现频次最大的\"生产日期\"\n",
    "df6.loc[:,\"生产日期\"].mode()                             #众数是在一组数据中,出现次数最多的数据"
   ]
  },
  {
   "cell_type": "code",
   "execution_count": null,
   "metadata": {
    "scrolled": true
   },
   "outputs": [],
   "source": [
    "#使用pandas的方法求\"库存量\",\"单价\"的中位数\n",
    "df6[ [\"库存量\",\"单价\"]  ].median()                          #中位数是按顺序排列的一组数据中居于中间位置的数"
   ]
  },
  {
   "cell_type": "code",
   "execution_count": null,
   "metadata": {
    "scrolled": true
   },
   "outputs": [],
   "source": [
    "#可以使用numpy的统计函数\n",
    "import numpy as np\n",
    "np.min(df6.单价)"
   ]
  },
  {
   "cell_type": "markdown",
   "metadata": {},
   "source": [
    "## 练习2-1：\n",
    "    查看练习1-1读入的data的数值统计信息，各函数举一例"
   ]
  },
  {
   "cell_type": "code",
   "execution_count": null,
   "metadata": {
    "scrolled": true
   },
   "outputs": [],
   "source": [
    "pd.set_option('display.float_format', lambda x: '%d' % x)  #设置全局显示选项，避免科学记数法，显示为整数\n",
    "\n",
    "\n",
    "\n"
   ]
  },
  {
   "cell_type": "markdown",
   "metadata": {},
   "source": [
    "# 三、排序\n",
    "1. 按行或列索引排序：\n",
    "\n",
    "    sort_index(axis=0, ascending=True, inplace=False) \n",
    "2. 按值排序：\n",
    "\n",
    "    DataFrame.sort_values(by, axis=0,ascending=True, inplace=False, na_position='last')"
   ]
  },
  {
   "cell_type": "code",
   "execution_count": null,
   "metadata": {
    "scrolled": true
   },
   "outputs": [],
   "source": [
    "#将df6中的数据按列标签升序排序\n",
    "df=pd.read_csv(r'.\\buy_record.csv',encoding=\"ANSI\")\n",
    "df.sort_index(axis=1)"
   ]
  },
  {
   "cell_type": "code",
   "execution_count": null,
   "metadata": {
    "scrolled": true
   },
   "outputs": [],
   "source": [
    "#将df中的数据按行标签降序排序\n",
    "df.sort_index(axis=0,ascending=False).head()"
   ]
  },
  {
   "cell_type": "code",
   "execution_count": null,
   "metadata": {
    "scrolled": true
   },
   "outputs": [],
   "source": [
    "#按库存量storage的降序排序,只显示最多的8个\n",
    "df.sort_values(by=\"storage\",ascending=False).head(8)"
   ]
  },
  {
   "cell_type": "code",
   "execution_count": null,
   "metadata": {},
   "outputs": [],
   "source": [
    "#category的升序,price的降序排序，原地排序\n",
    "df.sort_values(by=[\"category\",\"price\"],ascending=[True,False],inplace=True)   #多重排序，原地修改\n",
    "df.head(20)"
   ]
  },
  {
   "cell_type": "code",
   "execution_count": null,
   "metadata": {
    "scrolled": true
   },
   "outputs": [],
   "source": [
    "#将产品名称name设置为行索引，按牛奶行的值排序\n",
    "df1=df.copy()\n",
    "df1.set_index(\"name\",inplace=True)                #原地修改df1，设置产品名称为行索引标签\n",
    "df2=df1[[\"no\",\"storage\",\"price\",\"order\",\"amount\"]]    #只取订购表的数值字段，保存在df2中\n",
    "df2.sort_values(by='牛奶',axis=1)                     #按“牛奶”行的数据值升序排序"
   ]
  },
  {
   "cell_type": "code",
   "execution_count": null,
   "metadata": {},
   "outputs": [],
   "source": []
  }
 ],
 "metadata": {
  "kernelspec": {
   "display_name": "Python 3 (ipykernel)",
   "language": "python",
   "name": "python3"
  },
  "language_info": {
   "codemirror_mode": {
    "name": "ipython",
    "version": 3
   },
   "file_extension": ".py",
   "mimetype": "text/x-python",
   "name": "python",
   "nbconvert_exporter": "python",
   "pygments_lexer": "ipython3",
   "version": "3.11.7"
  }
 },
 "nbformat": 4,
 "nbformat_minor": 4
}
