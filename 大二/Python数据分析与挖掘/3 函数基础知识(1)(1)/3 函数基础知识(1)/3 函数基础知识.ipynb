{
 "cells": [
  {
   "cell_type": "markdown",
   "metadata": {},
   "source": [
    "## 函数\n",
    "\n",
    "一个函数就是将一些语句集合在一起的部件，可以通过调用的方式在程序里多次运行\n",
    "\n",
    "### 函数定义\n",
    "\n",
    "    def <函数名>(<形参列表>):\n",
    "        <函数体>\n",
    "\n",
    "* 形参列表由变量组成，之间用逗号分隔\n",
    "* 函数体为普通的python语句，但比def增加一层缩进\n",
    "\n",
    "### 函数调用\n",
    "    <函数名>(<实参列表>)\n",
    "\n",
    "### 调用过程\n",
    "    1. 调用处的代码暂停运行,转而运行函数内的代码\n",
    "    2. 函数形参被赋值为实参(按位置对应)\n",
    "    3. 跳转到函数定义处， 执行函数体\n",
    "    3. 控制返回调用点的下一条语句"
   ]
  },
  {
   "cell_type": "markdown",
   "metadata": {},
   "source": [
    "### 返回值\n",
    "* 函数调用完成后，返回数据\n",
    "* return语句终止当前函数的执行\n",
    "* return后的语句将被忽略 \t\n"
   ]
  },
  {
   "cell_type": "code",
   "execution_count": null,
   "metadata": {},
   "outputs": [],
   "source": [
    "def sum_num(start, end):\n",
    "    s=0\n",
    "    for i in range(start,end+1):\n",
    "        s+=i\n",
    "    return s\n",
    "\n",
    "print(sum_num(1,100))      # 调用函数sum_num，把1传递给start, 100传递给end，然后输出函数的返回值"
   ]
  },
  {
   "cell_type": "markdown",
   "metadata": {},
   "source": [
    "### 练习1：编写函数my_max(a,b)，返回值是a,b的最大值。输入2个数，输出最大数。\n"
   ]
  },
  {
   "cell_type": "code",
   "execution_count": 2,
   "metadata": {},
   "outputs": [
    {
     "name": "stdout",
     "output_type": "stream",
     "text": [
      "2.34\n"
     ]
    }
   ],
   "source": [
    "def my_max(a,b):\n",
    "    if a>b:\n",
    "        return a\n",
    "    else:\n",
    "        return b\n",
    "x=eval(input(\"输入值a:\"))\n",
    "y=eval(input(\"输入值b:\"))\n",
    "print(my_max(x,y))"
   ]
  },
  {
   "cell_type": "markdown",
   "metadata": {},
   "source": [
    "### 练习2： 编写函数fn(a,n) 求a+aa+aaa++⋯+aa⋯aa(n个a）之和，fn须返回的是数列和。 \n",
    "### 输入两个不超过9的正整数a和n，调用fn函数，输出和。\n",
    "\n",
    "~~~\n",
    "输入样例：1,3\n",
    "输出样例：123\n",
    "~~~"
   ]
  },
  {
   "cell_type": "code",
   "execution_count": 5,
   "metadata": {},
   "outputs": [
    {
     "name": "stdout",
     "output_type": "stream",
     "text": [
      "123\n"
     ]
    }
   ],
   "source": [
    "def fn(a,n):\n",
    "    sum=0\n",
    "    #val=0\n",
    "    for i in range(1,n+1):\n",
    "        #val=int(a*(i+1))\n",
    "        #val=val*10+a\n",
    "        #val+=a*10**i\n",
    "        sum+=int(a*i)\n",
    "    return sum\n",
    "a=input(\"输入a:\")\n",
    "n=int(input(\"输入n:\"))\n",
    "print(fn(a,n))"
   ]
  },
  {
   "cell_type": "code",
   "execution_count": null,
   "metadata": {},
   "outputs": [],
   "source": []
  }
 ],
 "metadata": {
  "kernelspec": {
   "display_name": "Python 3",
   "language": "python",
   "name": "python3"
  },
  "language_info": {
   "codemirror_mode": {
    "name": "ipython",
    "version": 3
   },
   "file_extension": ".py",
   "mimetype": "text/x-python",
   "name": "python",
   "nbconvert_exporter": "python",
   "pygments_lexer": "ipython3",
   "version": "3.12.8"
  }
 },
 "nbformat": 4,
 "nbformat_minor": 4
}
