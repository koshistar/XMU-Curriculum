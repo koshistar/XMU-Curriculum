{
 "cells": [
  {
   "cell_type": "markdown",
   "metadata": {},
   "source": [
    "#### 例1-1 读入excel文件“WPP2022_人口统计学数据.xlsx”的数据，\n",
    "    （1）只显示LocTypeName、Local、Time、To1July、PopDensity、PopSexRatio、PopGrowthRate、DoublingTime、TFR\n",
    "    （2）设置\"LocTypeName\"为行索引"
   ]
  },
  {
   "cell_type": "code",
   "execution_count": null,
   "metadata": {
    "scrolled": true
   },
   "outputs": [],
   "source": [
    "import pandas as pd\n",
    "pd.set_option('display.float_format', lambda x: '%.1f' % x)  #设置显示格式\n",
    "\n",
    "df1=pd.read_excel(r\".\\WPP2022_人口统计学数据.xlsx\",index_col=0,usecols=[4,6,9,11,14,15,20,21,25])    #index_col的值是usecols中的索引号\n",
    "#df1.head()                                                #head()查看前5条记录\n",
    "df1.tail()                            #tail()查看最后5条记录，tail(n)最后n条"
   ]
  },
  {
   "cell_type": "markdown",
   "metadata": {},
   "source": [
    "## 一、数据查询"
   ]
  },
  {
   "cell_type": "code",
   "execution_count": null,
   "metadata": {},
   "outputs": [],
   "source": [
    "#练习1，查询第150-160条记录的情况\n"
   ]
  },
  {
   "cell_type": "code",
   "execution_count": null,
   "metadata": {},
   "outputs": [],
   "source": [
    "#练习2，查询第150-160条记录前3列的情况\n"
   ]
  },
  {
   "cell_type": "code",
   "execution_count": null,
   "metadata": {},
   "outputs": [],
   "source": [
    "#练习3，查询中国各年的人口密度PopDensity、总生育率TFR。(Local是China)\n",
    "\n"
   ]
  },
  {
   "cell_type": "code",
   "execution_count": null,
   "metadata": {},
   "outputs": [],
   "source": [
    "#练习4，查询中国各年的人口密度PopDensity、总生育率TFR的统计数据。(Local是China)\n"
   ]
  },
  {
   "cell_type": "code",
   "execution_count": null,
   "metadata": {},
   "outputs": [],
   "source": [
    "#练习5，查询中国各年的人口密度PopDensity在[114.6,119.2]之间的年份及总生育率\n"
   ]
  },
  {
   "cell_type": "code",
   "execution_count": null,
   "metadata": {},
   "outputs": [],
   "source": [
    "#练习6，查询中国人口密度PopDensity>139 并且 总生育率TFR<1.3的年份\n"
   ]
  },
  {
   "cell_type": "code",
   "execution_count": null,
   "metadata": {},
   "outputs": [],
   "source": [
    "#练习7，查询China与Africa的2024年的数据\n"
   ]
  },
  {
   "cell_type": "markdown",
   "metadata": {},
   "source": [
    "# 二、排序\n",
    "1. 按行或列索引排序：\n",
    "\n",
    "    sort_index(axis=0, ascending=True, inplace=False) \n",
    "2. 按值排序：\n",
    "\n",
    "    DataFrame.sort_values(by, axis=0,ascending=True, inplace=False, na_position='last)"
   ]
  },
  {
   "cell_type": "code",
   "execution_count": null,
   "metadata": {
    "scrolled": true
   },
   "outputs": [],
   "source": [
    "#练习1，将df1中的数据按列标签升序排序\n"
   ]
  },
  {
   "cell_type": "code",
   "execution_count": null,
   "metadata": {
    "scrolled": true
   },
   "outputs": [],
   "source": [
    "#练习2 将df中的数据按行标签降序排序\n"
   ]
  },
  {
   "cell_type": "code",
   "execution_count": null,
   "metadata": {
    "scrolled": true
   },
   "outputs": [],
   "source": [
    "#练习3 按人口增长率PopGrowthRate的降序排序,只显示最多的8个\n"
   ]
  },
  {
   "cell_type": "code",
   "execution_count": null,
   "metadata": {
    "scrolled": false
   },
   "outputs": [],
   "source": [
    "df2=df1.copy()\n",
    "#练习4，先按“地区名”Local的升序,地区名相同的则按人口增长率PopGrowthRate的降序排序，原地排序\n"
   ]
  }
 ],
 "metadata": {
  "kernelspec": {
   "display_name": "Python 3",
   "language": "python",
   "name": "python3"
  },
  "language_info": {
   "codemirror_mode": {
    "name": "ipython",
    "version": 3
   },
   "file_extension": ".py",
   "mimetype": "text/x-python",
   "name": "python",
   "nbconvert_exporter": "python",
   "pygments_lexer": "ipython3",
   "version": "3.7.0"
  }
 },
 "nbformat": 4,
 "nbformat_minor": 2
}
