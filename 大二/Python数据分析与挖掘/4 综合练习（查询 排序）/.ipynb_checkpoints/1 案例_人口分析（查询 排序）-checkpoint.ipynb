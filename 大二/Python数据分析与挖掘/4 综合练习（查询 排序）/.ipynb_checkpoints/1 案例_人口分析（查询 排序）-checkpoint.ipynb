{
 "cells": [
  {
   "cell_type": "markdown",
   "metadata": {},
   "source": [
    "#### 例1-1 读入excel文件“WPP2022_人口统计学数据.xlsx”的数据，\n",
    "    （1）只显示LocTypeName、Local、Time、To1July、PopDensity、PopSexRatio、PopGrowthRate、DoublingTime、TFR\n",
    "    （2）设置\"LocTypeName\"为行索引"
   ]
  },
  {
   "cell_type": "code",
   "execution_count": null,
   "metadata": {
    "scrolled": true
   },
   "outputs": [],
   "source": [
    "import pandas as pd\n",
    "pd.set_option('display.float_format', lambda x: '%.1f' % x)  #设置显示格式\n",
    "\n",
    "df1=pd.read_excel(r\".\\WPP2022_人口统计学数据.xlsx\",index_col=0,usecols=[4,6,9,11,14,15,20,21,25])    #index_col的值是usecols中的索引号\n",
    "#df1.head()                                                #head()查看前5条记录\n",
    "df1.tail()                            #tail()查看最后5条记录，tail(n)最后n条"
   ]
  },
  {
   "cell_type": "markdown",
   "metadata": {},
   "source": [
    "#### 例1-2 将上题的查询结果（df1中的数据）存入“人口变化情况.xlsx”"
   ]
  },
  {
   "cell_type": "code",
   "execution_count": null,
   "metadata": {
    "scrolled": true
   },
   "outputs": [],
   "source": [
    "df1.to_excel(\".//人口变化情况.xlsx\")"
   ]
  },
  {
   "cell_type": "markdown",
   "metadata": {},
   "source": [
    "# 二、数值统计\n",
    "### (1) df.describe()方法：获得所有数值型字段的特征值\n",
    "    非空值个数、均值、标准差、最小值、四分位数、最大值\n",
    "### (2) df.min()、df.max()、df.median()、df.mode()众数等\n",
    "### (3) 使用numpy的统计函数"
   ]
  },
  {
   "cell_type": "code",
   "execution_count": null,
   "metadata": {
    "scrolled": true
   },
   "outputs": [],
   "source": [
    "# 显示df1的各数值型字段非空值个数、均值、标准差、最小值、四分位数、最大值\n",
    "df1.describe()"
   ]
  },
  {
   "cell_type": "code",
   "execution_count": null,
   "metadata": {
    "scrolled": true
   },
   "outputs": [],
   "source": [
    "#使用pandas的方法求出现频次最大的\"总生育率\"\n",
    "df1.loc[:,\"TFR\"].mode()                             #众数是在一组数据中,出现次数最多的数据"
   ]
  },
  {
   "cell_type": "code",
   "execution_count": null,
   "metadata": {
    "scrolled": true
   },
   "outputs": [],
   "source": [
    "#使用pandas的方法求中位数\n",
    "df1.median()                          #中位数是按顺序排列的一组数据中居于中间位置的数"
   ]
  },
  {
   "cell_type": "code",
   "execution_count": null,
   "metadata": {
    "scrolled": true
   },
   "outputs": [],
   "source": [
    "#可以使用numpy的统计函数,统计“截至7月1日的人口性别比”的最低值\n",
    "import numpy as np\n",
    "np.min(df1.PopSexRatio)"
   ]
  },
  {
   "cell_type": "markdown",
   "metadata": {},
   "source": [
    "## 二、数据查询"
   ]
  },
  {
   "cell_type": "code",
   "execution_count": null,
   "metadata": {},
   "outputs": [],
   "source": [
    "#例1，查询第150-160条记录的情况\n",
    "cx1=df1[150:161]\n",
    "cx1"
   ]
  },
  {
   "cell_type": "code",
   "execution_count": null,
   "metadata": {},
   "outputs": [],
   "source": [
    "#例2，查询第150-160条记录前3列的情况\n",
    "cx2=df1[150:161][:3]\n",
    "cx2"
   ]
  },
  {
   "cell_type": "code",
   "execution_count": null,
   "metadata": {},
   "outputs": [],
   "source": [
    "#例4，查询中国各年的人口密度PopDensity、总生育率TFR。(Local是China)\n",
    "cx4=df1.loc[df1.Local=='China',['Local','Time','PopDensity','TFR']]\n",
    "#cx4.reset_index()         #取消索引\n",
    "cx4.set_index(\"Time\",inplace=True)     #设置Time为索引"
   ]
  },
  {
   "cell_type": "code",
   "execution_count": null,
   "metadata": {},
   "outputs": [],
   "source": [
    "#例5，查询中国各年的人口密度PopDensity、总生育率TFR的统计数据。(Local是China)\n",
    "cx4.describe()"
   ]
  },
  {
   "cell_type": "code",
   "execution_count": null,
   "metadata": {},
   "outputs": [],
   "source": [
    "#例6，查询中国各年的人口密度PopDensity在[114.6,119.2]之间的年份及总生育率\n",
    "cx5=cx4.loc[  cx4['PopDensity'].between(114.6,119.2),['PopDensity','TFR'] ]\n",
    "cx5"
   ]
  },
  {
   "cell_type": "code",
   "execution_count": null,
   "metadata": {},
   "outputs": [],
   "source": [
    "#例6，查询中国人口密度PopDensity>139 并且 总生育率TFR<1.3的年份\n",
    "cx6=cx4.loc[  (cx4['PopDensity']>139)  & (cx4['TFR']<1.3),: ]\n",
    "cx6"
   ]
  },
  {
   "cell_type": "code",
   "execution_count": null,
   "metadata": {},
   "outputs": [],
   "source": [
    "#例7，查询China与Africa的2024年的数据\n",
    "cx7=df1.loc[ df1['Local'].isin(['China','Africa']) & (df1['Time']==2024)]\n",
    "cx7"
   ]
  },
  {
   "cell_type": "markdown",
   "metadata": {},
   "source": [
    "# 三、排序\n",
    "1. 按行或列索引排序：\n",
    "\n",
    "    sort_index(axis=0, ascending=True, inplace=False) \n",
    "2. 按值排序：\n",
    "\n",
    "    DataFrame.sort_values(by, axis=0,ascending=True, inplace=False, na_position='last)"
   ]
  },
  {
   "cell_type": "code",
   "execution_count": null,
   "metadata": {
    "scrolled": true
   },
   "outputs": [],
   "source": [
    "#将df1中的数据按列标签升序排序\n",
    "df1.sort_index(axis=1)"
   ]
  },
  {
   "cell_type": "code",
   "execution_count": null,
   "metadata": {
    "scrolled": true
   },
   "outputs": [],
   "source": [
    "#将df中的数据按行标签降序排序\n",
    "df1.sort_index(axis=0,ascending=False)"
   ]
  },
  {
   "cell_type": "code",
   "execution_count": null,
   "metadata": {
    "scrolled": true
   },
   "outputs": [],
   "source": [
    "#按人口增长率PopGrowthRate的降序排序,只显示最多的8个\n",
    "df1.sort_values(by=\"PopGrowthRate\",ascending=False).head(8)"
   ]
  },
  {
   "cell_type": "code",
   "execution_count": null,
   "metadata": {
    "scrolled": false
   },
   "outputs": [],
   "source": [
    "df2=df1.copy()\n",
    "#先按“地区名”Local的升序,地区名相同的则按人口增长率PopGrowthRate的降序排序，原地排序\n",
    "df2.sort_values(by=[\"Local\",\"PopGrowthRate\"],ascending=[True,False],inplace=True)   #多重排序\n",
    "df2.head(20)"
   ]
  }
 ],
 "metadata": {
  "kernelspec": {
   "display_name": "Python 3",
   "language": "python",
   "name": "python3"
  },
  "language_info": {
   "codemirror_mode": {
    "name": "ipython",
    "version": 3
   },
   "file_extension": ".py",
   "mimetype": "text/x-python",
   "name": "python",
   "nbconvert_exporter": "python",
   "pygments_lexer": "ipython3",
   "version": "3.7.0"
  }
 },
 "nbformat": 4,
 "nbformat_minor": 2
}
