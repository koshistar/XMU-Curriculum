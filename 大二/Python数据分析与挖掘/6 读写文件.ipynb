{
 "cells": [
  {
   "cell_type": "markdown",
   "metadata": {},
   "source": [
    "### 读写文件\n",
    "#### 一、文件中的数据读入数组：\n",
    "* numpy.loadtxt( fname ,  delimiter ,  encoding ,  dtype)\n",
    "\n",
    "        fname：文件路径与文件名\n",
    "        delimiter：分隔数值的分隔符\n",
    "        encoding：文本的编码方式，默认UTF-8\n",
    "        dtype：数据的类型，默认float，按科学记数法显示。\n",
    "        \n",
    "#### 二、设置数组打印格式：        \n",
    "* np.set_printoptions(precision,suppress)   ：设置数据的显示格式\n",
    "\n",
    "        precision设置小数的位数。\n",
    "        suppress设置为True，数据以定点法显示；设置为False，则以科学记数法显示。\n",
    "        其它参数可自行百度。\n",
    "        \n",
    "#### 三、数组写入文件：\n",
    "* numpy.savetxt(fname, X, fmt='%.18e', delimiter=' ', encoding)\n",
    "        \n",
    "        fname：文件路径与文件名\n",
    "        X：需要存入文件的数组数据\n",
    "        fmt：数据的格式，默认采用18位小数的科学记数法\n",
    "        delimiter：用于分隔数值的分隔符\n",
    "        encoding：数据存储的编码方式，默认UTF-8"
   ]
  },
  {
   "cell_type": "code",
   "execution_count": 1,
   "metadata": {},
   "outputs": [],
   "source": [
    "import numpy as np"
   ]
  },
  {
   "cell_type": "code",
   "execution_count": 2,
   "metadata": {},
   "outputs": [
    {
     "name": "stdout",
     "output_type": "stream",
     "text": [
      "a0的内容是：\n",
      " [[13.07 11.97]\n",
      " [ 4.8   4.33]\n",
      " [22.75 22.25]\n",
      " ...\n",
      " [ 6.17  6.04]\n",
      " [ 4.71  4.52]\n",
      " [ 4.98  4.91]]\n"
     ]
    }
   ],
   "source": [
    "#例1-1，读入a0.txt中的数据，每列数据之间以制表符分隔\n",
    "array1=np.loadtxt(\".//a0.txt\", delimiter='\\t')              #a0.txt若不在当前文件夹下，请添加a0.txt的路径\n",
    "print(\"a0的内容是：\\n\",array1)"
   ]
  },
  {
   "cell_type": "code",
   "execution_count": 3,
   "metadata": {},
   "outputs": [
    {
     "name": "stdout",
     "output_type": "stream",
     "text": [
      "\n",
      "a1的内容是：\n",
      " [[13.07 11.97]\n",
      " [ 4.8   4.33]\n",
      " [22.75 22.25]\n",
      " ...\n",
      " [ 6.17  6.04]\n",
      " [ 4.71  4.52]\n",
      " [ 4.98  4.91]]\n"
     ]
    }
   ],
   "source": [
    "#例1-2，读入a1.txt中的数据，每列数据之间以制表符分隔。\n",
    "#注意：a1.txt文件采用utf-16编码\n",
    "#array1=np.loadtxt(\".//a1.txt\", delimiter='\\t')     #文件打开错误，因为文件的编码格式不是utf-8\n",
    "array2=np.loadtxt(\".//a1.txt\", delimiter='\\t',encoding='utf-16')     #a1.txt若不在当前文件夹下，请添加a1.txt的路径\n",
    "print(\"\\na1的内容是：\\n\",array1)"
   ]
  },
  {
   "cell_type": "code",
   "execution_count": null,
   "metadata": {},
   "outputs": [
    {
     "name": "stdout",
     "output_type": "stream",
     "text": [
      "[0.3   0.    0.051]\n"
     ]
    }
   ],
   "source": [
    "#例2，设置print以定点法输出数据，3位小数\n",
    "np.set_printoptions(precision=3,suppress=True)       #precision设置显示3位小数,suppress设置以定点法显示数据\n",
    "print(np.array([3e-1,1e-9,5.1234567e-2]))"
   ]
  },
  {
   "cell_type": "markdown",
   "metadata": {},
   "source": [
    "### 练习1：读入a1.txt中的数据，保存至数组array3中"
   ]
  },
  {
   "cell_type": "code",
   "execution_count": 8,
   "metadata": {
    "scrolled": true
   },
   "outputs": [
    {
     "name": "stdout",
     "output_type": "stream",
     "text": [
      "[[13.07 11.97]\n",
      " [ 4.8   4.33]\n",
      " [22.75 22.25]\n",
      " ...\n",
      " [ 6.17  6.04]\n",
      " [ 4.71  4.52]\n",
      " [ 4.98  4.91]]\n"
     ]
    }
   ],
   "source": [
    "array3=np.loadtxt(\".//a1.txt\",delimiter='\\t',encoding='utf-16',dtype=float)\n",
    "print(array3)"
   ]
  },
  {
   "cell_type": "code",
   "execution_count": 20,
   "metadata": {},
   "outputs": [],
   "source": [
    "#例3，将数组[1.11 , 2.22 , 3.33]存入a.txt文件，采用1位小数的格式\n",
    "import numpy as np\n",
    "np.savetxt( \".//a.txt\",    np.array( [1.11 , 2.22 , 3.33]))"
   ]
  },
  {
   "cell_type": "markdown",
   "metadata": {},
   "source": [
    "###  练习2：\n",
    "1. 将练习1所得的array3中的数据乘2\n",
    "2. 结果存入c.txt文件，用逗号分隔，数据保存2位小数"
   ]
  },
  {
   "cell_type": "code",
   "execution_count": 14,
   "metadata": {},
   "outputs": [
    {
     "name": "stdout",
     "output_type": "stream",
     "text": [
      "[[26.14 23.94]\n",
      " [ 9.6   8.66]\n",
      " [45.5  44.5 ]\n",
      " ...\n",
      " [12.34 12.08]\n",
      " [ 9.42  9.04]\n",
      " [ 9.96  9.82]]\n"
     ]
    }
   ],
   "source": [
    "array4=array3*2\n",
    "print(array4)\n",
    "np.savetxt(\".//c.txt\",array4,fmt='%g',delimiter='\\t',encoding='utf-16')"
   ]
  },
  {
   "cell_type": "code",
   "execution_count": null,
   "metadata": {},
   "outputs": [],
   "source": []
  }
 ],
 "metadata": {
  "kernelspec": {
   "display_name": "Python 3",
   "language": "python",
   "name": "python3"
  },
  "language_info": {
   "codemirror_mode": {
    "name": "ipython",
    "version": 3
   },
   "file_extension": ".py",
   "mimetype": "text/x-python",
   "name": "python",
   "nbconvert_exporter": "python",
   "pygments_lexer": "ipython3",
   "version": "3.12.8"
  }
 },
 "nbformat": 4,
 "nbformat_minor": 4
}
