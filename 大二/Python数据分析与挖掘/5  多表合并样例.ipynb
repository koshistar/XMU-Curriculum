{
 "cells": [
  {
   "cell_type": "markdown",
   "metadata": {},
   "source": [
    "### 例5-1 打开“产品2.csv”\n",
    "1. '产品号'字段类型转为int型\n",
    "2. 筛选前50条记录的'产品号，产品名称','商品类别'，'单价'结果保存到数据框df_l中\n",
    "2. 筛选后50条记录的'产品号，'订购量','订购款'，结果保存到数据框df_2中\n",
    "3. 将df_1与df_2按同“产品号”横向连接在一起，合并出新数据框df_3，包括 两表的所有字段\n",
    "4. 将df_1与df_2以df_1的“产品号”为准，连接在一起\n",
    "5. 将df_1与df_2以df_2的“产品号”为准，连接在一起"
   ]
  },
  {
   "cell_type": "code",
   "execution_count": null,
   "metadata": {},
   "outputs": [],
   "source": [
    "import pandas as pd\n",
    "df=pd.read_csv(r'.\\产品2.csv',encoding='gbk',engine='python')\n",
    "df['产品号']=df['产品号'].astype('int')\n",
    "df.head()"
   ]
  },
  {
   "cell_type": "code",
   "execution_count": null,
   "metadata": {},
   "outputs": [],
   "source": [
    "df_1=df[:50][['产品号','产品名称','商品类别','单价']]\n",
    "df_1.head()"
   ]
  },
  {
   "cell_type": "code",
   "execution_count": null,
   "metadata": {},
   "outputs": [],
   "source": [
    "df_2=df[-50:][['产品号','订购量','订购款']]\n",
    "df_2.head()"
   ]
  },
  {
   "cell_type": "code",
   "execution_count": null,
   "metadata": {},
   "outputs": [],
   "source": [
    "df_meg1=pd.merge(left=df_1,right=df_2,how='inner',on='产品号')\n",
    "df_meg1"
   ]
  },
  {
   "cell_type": "code",
   "execution_count": null,
   "metadata": {},
   "outputs": [],
   "source": [
    "df_meg2=pd.merge(left=df_1,right=df_2,how='left',on='产品号')\n",
    "df_meg2"
   ]
  },
  {
   "cell_type": "code",
   "execution_count": null,
   "metadata": {},
   "outputs": [],
   "source": [
    "df_meg3=pd.merge(left=df_1,right=df_2,how='right',on='产品号')\n",
    "df_meg3"
   ]
  },
  {
   "cell_type": "code",
   "execution_count": null,
   "metadata": {},
   "outputs": [],
   "source": []
  }
 ],
 "metadata": {
  "kernelspec": {
   "display_name": "Python 3 (ipykernel)",
   "language": "python",
   "name": "python3"
  },
  "language_info": {
   "codemirror_mode": {
    "name": "ipython",
    "version": 3
   },
   "file_extension": ".py",
   "mimetype": "text/x-python",
   "name": "python",
   "nbconvert_exporter": "python",
   "pygments_lexer": "ipython3",
   "version": "3.11.7"
  }
 },
 "nbformat": 4,
 "nbformat_minor": 4
}
