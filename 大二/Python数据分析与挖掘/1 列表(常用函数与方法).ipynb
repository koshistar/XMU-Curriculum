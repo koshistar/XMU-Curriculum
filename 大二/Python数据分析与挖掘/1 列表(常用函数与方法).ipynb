{
 "cells": [
  {
   "cell_type": "markdown",
   "metadata": {},
   "source": [
    "### 列表允许的操作\n",
    "#### （1）常用运算\n",
    "<table>\n",
    "    <tr>\n",
    "      <td width=\"20%\"><p align=\"left\">  Operation </td>\n",
    "      <td width=\"80%\"><p align=\"left\">  Result </td>\n",
    "    </tr>\n",
    "    <tr>\n",
    "      <td><p align=\"left\">  x in s </td>\n",
    "      <td><p align=\"left\">如果列表s里有元素等于x,True；否则False </td>\n",
    "    </tr>\n",
    "    <tr>\n",
    "      <td><p align=\"left\">  x not in s </td>\n",
    "      <td><p align=\"left\">如果列表s里有元素等于x,False；否则True </td>\n",
    "    </tr>\n",
    "    <tr>\n",
    "      <td><p align=\"left\">  s + t </td>\n",
    "      <td><p align=\"left\">将 s 和 t 联结成一个列表 </td>\n",
    "    </tr>\n",
    "    <tr>\n",
    "      <td><p align=\"left\">  s * n  </td>\n",
    "      <td><p align=\"left\">n 个 s 联结成一个列表 </td>\n",
    "    </tr>\n",
    "    \n",
    "  <tr>\n",
    "    <td><p align=\"left\">  s[i] = x</td>\n",
    "    <td><p align=\"left\">用x取代s中第i个元素</td>\n",
    "  </tr>\n",
    "  <tr>\n",
    "    <td><p align=\"left\">  s[i:j] = t</td>\n",
    "    <td><p align=\"left\">  s 中从 i 到 j 的切片被t取代，t可以是迭代器或者其他的列表等。</td>\n",
    "  </tr>\n",
    "  <tr>\n",
    "    <td><p align=\"left\">  del s[i:j]</td>\n",
    "    <td><p align=\"left\">  删除s[i:j]，等同于 s[i:j] = []</td>\n",
    "  </tr>\n",
    "  <tr>\n",
    "    <td><p align=\"left\">  s[i:j:k] = t</td>\n",
    "    <td><p align=\"left\">  用列表t取代s[i:j:k]</td>\n",
    "  </tr>\n",
    "  <tr>\n",
    "    <td><p align=\"left\">  del s[i:j:k]</td>\n",
    "    <td><p align=\"left\">  删除s[i:j:k] 指定的素</td>\n",
    "  </tr>\n",
    "</table>\n",
    "\n",
    "#### （2）常用函数\n",
    "<table>\n",
    "    <tr>\n",
    "      <td width=\"20%\"><p align=\"left\">  函数 </td>\n",
    "      <td width=\"80%\"><p align=\"left\">  执行结果 </td>\n",
    "    </tr>\n",
    "    <tr>\n",
    "      <td><p align=\"left\">  len(s) </td>\n",
    "      <td><p align=\"left\"> s的长度（元素的个数） </td>\n",
    "    </tr>\n",
    "    <tr>\n",
    "      <td><p align=\"left\">  sum(s) </td>\n",
    "      <td><p align=\"left\"> s中元素之和，所有元素必须是数值型数据 </td>\n",
    "    </tr>\n",
    "    <tr>\n",
    "      <td><p align=\"left\">  min(s) </td>\n",
    "      <td><p align=\"left\"> s 中最小的元素 </td>\n",
    "    </tr>\n",
    "    <tr>\n",
    "      <td><p align=\"left\">  max(s) </td>\n",
    "      <td><p align=\"left\"> s 中最大的元素 </td>\n",
    "    </tr>\n",
    "    <tr>\n",
    "      <td><p align=\"left\">  list(s) </td>\n",
    "      <td><p align=\"left\"> 产生一新列表，s中的元素是新列表中的元素 </td>\n",
    "    </tr>\n",
    "</table>\n",
    "\n",
    "#### （3）常用方法（原地操作，即在原对象上修改）\n",
    "<table>\n",
    "    <tr>\n",
    "      <td width=\"20%\"><p align=\"left\">  方法 </td>\n",
    "      <td width=\"80%\"><p align=\"left\">  执行结果 </td>\n",
    "    </tr>\n",
    "    <tr>\n",
    "      <td><p align=\"left\">  s.index(x[, i[, j]]) </td>\n",
    "      <td><p align=\"left\">  x 第一次出现在 s 中的位置(i 或 i 之后j之前，如省略i，j则为所有元素) </td>\n",
    "    </tr>\n",
    "   \n",
    "  <tr>\n",
    "    <td><p align=\"left\">  s.append(x)</td>\n",
    "    <td><p align=\"left\">  在列表后端添加x (等同于 s[len(s):len(s)] = [x])</td>\n",
    "  </tr>\n",
    "  <tr>\n",
    "    <td><p align=\"left\">  s.clear()</td>\n",
    "    <td><p align=\"left\">  清空 s (等同于 del s[:])</td>\n",
    "  </tr>\n",
    "  <tr>\n",
    "    <td><p align=\"left\">  s.pop([i])</td>\n",
    "    <td><p align=\"left\">  得到第i 个元素，同时将其从 s 中删除，若无参数则为最后一个元素</td>\n",
    "  </tr>\n",
    "  <tr>\n",
    "    <td><p align=\"left\">  s.reverse()</td>\n",
    "    <td><p align=\"left\">  将s中的元素逆序排列</td>\n",
    "  </tr>\n",
    "  <tr>\n",
    "    <td><p align=\"left\">  s.sort()</td>\n",
    "    <td><p align=\"left\">  对s从小到大排序，s.sort(reverse=True)为从大到小排序。</td>\n",
    "  </tr>\n",
    "</table>\n",
    "\n",
    "#### （4）常用方法（非原地操作，产生一个副本，需赋值保存）\n",
    "\n",
    "<table>\n",
    "    <tr>\n",
    "      <td width=\"30%\"><p align=\"left\">  方法 </td>\n",
    "      <td width=\"70%\"><p align=\"left\">  执行结果 </td>\n",
    "    </tr>\n",
    "    \n",
    "  <tr>\n",
    "    <td><p align=\"left\">  t=s.copy()</td>\n",
    "    <td><p align=\"left\">  复制 s 得到一个新的列表 (等同于t=list(s)或t=s[:])</td>\n",
    "  </tr>\n",
    "  \n",
    "</table>"
   ]
  },
  {
   "cell_type": "code",
   "execution_count": 8,
   "metadata": {},
   "outputs": [
    {
     "name": "stdout",
     "output_type": "stream",
     "text": [
      "运算举例与测试:\n",
      "s= [1, 2, True, 'a', 'a', (3+2j)]\n",
      "t= [10, 9, 8, 15]\n",
      "'a'在s中吗？ True\n",
      "2不在s中吗？ True\n",
      "s+t= [1, 2, True, 'a', 'a', (3+2j), 10, 9, 8, 15]\n",
      "2*s= [10, 9, 8, 15, 10, 9, 8, 15]\n",
      "访问s中的元素： 2 [2, True] [1, True, 'a']\n",
      "\n",
      "函数举例与测试:\n",
      "s的长度： 6\n",
      "t的最大值： 15\n",
      "t的最小值： 8\n",
      "\n",
      "方法举例与测试:\n",
      "3+2j在s的哪个位置？ 5\n",
      "向t中添加一个元素19 [10, 9, 8, 15, 19]\n",
      "将t中元素逆序： [19, 15, 8, 9, 10]\n",
      "将t中元素降序排列： [19, 15, 10, 9, 8]\n"
     ]
    }
   ],
   "source": [
    "#（1）运算举例与测试\n",
    "print('运算举例与测试:')\n",
    "s=[1,2,True,'a','a',3+2j]\n",
    "t=[10,9,8,15]\n",
    "\n",
    "print('s=',s)\n",
    "print('t=',t)\n",
    "\n",
    "print(\"'a'在s中吗？\",'a' in s)\n",
    "\n",
    "print('2不在s中吗？','2' not in s)\n",
    "\n",
    "print('s+t=',s+t)\n",
    "\n",
    "print('2*s=',2*t)\n",
    "\n",
    "print('访问s中的元素：',s[1],s[1:3],s[0:6:2])\n",
    "\n",
    "\n",
    "#（2）函数举例与测试\n",
    "print('\\n函数举例与测试:')\n",
    "\n",
    "print('s的长度：',len(s))\n",
    "\n",
    "print('t的最大值：',max(t))\n",
    "\n",
    "print('t的最小值：',min(t))\n",
    "\n",
    "\n",
    "#（3）方法举例与测试\n",
    "print('\\n方法举例与测试:')\n",
    "print('3+2j在s的哪个位置？',s.index(3+2j))\n",
    "\n",
    "t.append(19)\n",
    "print('向t中添加一个元素19',t)\n",
    "\n",
    "t.reverse()\n",
    "print('将t中元素逆序：',t)\n",
    "\n",
    "t.sort(reverse=True)\n",
    "print('将t中元素降序排列：',t)"
   ]
  },
  {
   "cell_type": "markdown",
   "metadata": {},
   "source": [
    "#### 练习1，请计算数列：1,4,7,10，...，100的和\n",
    "\n",
    "（提示：使用range与sum函数）\n",
    "\n",
    "    输出样例：1717"
   ]
  },
  {
   "cell_type": "code",
   "execution_count": 4,
   "metadata": {},
   "outputs": [
    {
     "name": "stdout",
     "output_type": "stream",
     "text": [
      "1717\n"
     ]
    }
   ],
   "source": [
    "s=range(1,101,3)\n",
    "print(sum(s))"
   ]
  },
  {
   "cell_type": "markdown",
   "metadata": {},
   "source": [
    "#### 练习2，统计单词的个数\n",
    "输入一行字符，以回车结束。统计其中单词的个数。（单词之间以空格分隔）\n",
    "\n",
    "（提示：使用split与len）\n",
    "\n",
    "    输入样例：Let's go to room 209\n",
    "    输出样例：5"
   ]
  },
  {
   "cell_type": "code",
   "execution_count": 5,
   "metadata": {},
   "outputs": [
    {
     "name": "stdout",
     "output_type": "stream",
     "text": [
      "5\n"
     ]
    }
   ],
   "source": [
    "s=input(\"请输入一行字符:\").split()\n",
    "print(len(s))"
   ]
  },
  {
   "cell_type": "markdown",
   "metadata": {},
   "source": [
    "### 列表解析（List comprehension）\n",
    "* 可以利用for循环快速的**生成列表**\n",
    "``` python\n",
    "格式：[ <expression> for <var> in <object> if <test> ]\n",
    "``` \n",
    "* 常用于为一组数据转换数据类型，例如，都转为int型\n",
    "``` python\n",
    "例如：t=[ int(i) for i in s ]  ,可将s对象中的所有元素转为int型\n",
    "``` \n",
    "\n"
   ]
  },
  {
   "cell_type": "code",
   "execution_count": 2,
   "metadata": {},
   "outputs": [
    {
     "name": "stdout",
     "output_type": "stream",
     "text": [
      "[1, 4, 9, 16, 25, 36]\n",
      "[1, 9, 25]\n"
     ]
    }
   ],
   "source": [
    "s=[1,2,3,4,5,6]\n",
    "t=[i**2 for  i in s]               #取s中的各元素，求平方，生成列表t\n",
    "t1=[i**2 for  i in s if i%2==1]    #取s中的奇元素，求平方，生成列表t1\n",
    "print(t,t1,sep='\\n')                 #输出t,t1，用回车分隔（即一行一个）"
   ]
  },
  {
   "cell_type": "code",
   "execution_count": 1,
   "metadata": {},
   "outputs": [
    {
     "name": "stdout",
     "output_type": "stream",
     "text": [
      "[1, 4, 9, 16, 25, 36]\n",
      "[1, 9, 25]\n",
      "[1, 9, 25]\n"
     ]
    }
   ],
   "source": [
    "# 等价的方法\n",
    "t1=[]\n",
    "for i in s:\n",
    "    if i%2==1:                     #i当是奇数时\n",
    "        t1+=[i**2]                #t1列表增加i**2\n",
    "print(t1)"
   ]
  },
  {
   "cell_type": "code",
   "execution_count": 25,
   "metadata": {},
   "outputs": [
    {
     "name": "stdout",
     "output_type": "stream",
     "text": [
      "请输入一串数字：5 6 9 5.8\n",
      "25.8\n"
     ]
    }
   ],
   "source": [
    "## 例题， 输入一串数字，将所有数字转为数值型，求和。\n",
    "score=input(\"请输入一串数字：\").split()                    #输入的数拆分至列表中\n",
    "score_num=[eval(i) for i in score]                         #所有数字转为数值型\n",
    "print(sum(score_num))"
   ]
  },
  {
   "cell_type": "markdown",
   "metadata": {},
   "source": [
    "#### 练习3，求整数的位数及各位数字之和。 \n",
    "输入正整数N，求N的位数及其各位数字之和。(提示：把整数按字符串处理，用sum和len函数)\n",
    "    \n",
    "    输入样例：12345\n",
    "    输出样例：5 位数\n",
    "              和是 15"
   ]
  },
  {
   "cell_type": "code",
   "execution_count": 7,
   "metadata": {},
   "outputs": [
    {
     "name": "stdout",
     "output_type": "stream",
     "text": [
      "5\n",
      "15\n"
     ]
    }
   ],
   "source": [
    "s=input(\"请输入正整数:\")\n",
    "a=[int(i) for i in s]\n",
    "print(len(a))\n",
    "print(sum(a))"
   ]
  },
  {
   "cell_type": "code",
   "execution_count": 11,
   "metadata": {},
   "outputs": [
    {
     "name": "stdout",
     "output_type": "stream",
     "text": [
      "[1, 1, 2, 3, 5, 8, 13, 21, 34, 55, 89, 144, 233, 377, 610, 987, 1597, 2584, 4181, 6765]\n"
     ]
    }
   ],
   "source": [
    "## 应用append方法的例题， 求菲波那切数列的前20项，并输出。\n",
    "fib=[1,1]\n",
    "for i in range(2,20):\n",
    "    fib.append(fib[i-1]+fib[i-2])                #向列表fib尾部添加元素\n",
    "print(fib)"
   ]
  },
  {
   "cell_type": "code",
   "execution_count": 28,
   "metadata": {},
   "outputs": [
    {
     "name": "stdout",
     "output_type": "stream",
     "text": [
      "1 3 7 -9 35 6\n",
      "t= ['1', '3', '7', '-9', '35', '6']\n",
      "t1= [-9, 1, 3, 6, 7, 35]\n",
      "对t1从小到大排序 [-9, 1, 3, 6, 7, 35]\n",
      "对t1从大到小排序 [35, 7, 6, 3, 1, -9]\n",
      "t不变 ['1', '3', '7', '-9', '35', '6']\n"
     ]
    }
   ],
   "source": [
    "#例题：输入一串数字，存入列表t\n",
    "t=input().split()                          #输入 1 5 7 19 8 3 45\n",
    "print('t=',t)\n",
    "\n",
    "#copy方法的例题：复制t，产生副本t1\n",
    "t1=t.copy()\n",
    "\n",
    "\n",
    "#sort方法的例题：将t1中的元素按数字升序排列\n",
    "t1=[int(i) for i in t1]                    #将t1中元素由字符串型转为整型\n",
    "t1.sort()\n",
    "print('t1=',t1)\n",
    "print('对t1从小到大排序', t1)\n",
    "\n",
    "#将t1中的元素按降序排列\n",
    "t1.sort(reverse=True)              #reverse参数的值为True，表示反序，即升序变为降序\n",
    "print('对t1从大到小排序', t1)\n",
    "\n",
    "#t与t1无关\n",
    "print('t不变',t)"
   ]
  },
  {
   "cell_type": "markdown",
   "metadata": {},
   "source": [
    "#### 练习4，求出歌手的得分 \n",
    "歌唱评奖晚会有n(n>4)个评委为歌手打分，去掉2个最高分和2个最低分,余下的分数平均值为歌手的得分.\n",
    "\n",
    "输入n个评委打的分数（分数间用空格分隔），求出歌手的得分。\n",
    "\n",
    "```\n",
    "输入样例: \n",
    "10 10 9 9 9 8 8 8 7 7 \n",
    "输出样例: \n",
    "8.50\n",
    "```"
   ]
  },
  {
   "cell_type": "code",
   "execution_count": 13,
   "metadata": {},
   "outputs": [
    {
     "name": "stdout",
     "output_type": "stream",
     "text": [
      "8.50\n"
     ]
    }
   ],
   "source": [
    "s=input(\"请输入评委的分数:\").split()\n",
    "a=[eval(i) for i in s]\n",
    "a.sort()\n",
    "print(\"%.2f\" %((sum(a)-a[0]-a[1]-a[-1]-a[-2])/(len(a)-4)))"
   ]
  },
  {
   "cell_type": "code",
   "execution_count": null,
   "metadata": {},
   "outputs": [],
   "source": []
  }
 ],
 "metadata": {
  "kernelspec": {
   "display_name": "Python 3",
   "language": "python",
   "name": "python3"
  },
  "language_info": {
   "codemirror_mode": {
    "name": "ipython",
    "version": 3
   },
   "file_extension": ".py",
   "mimetype": "text/x-python",
   "name": "python",
   "nbconvert_exporter": "python",
   "pygments_lexer": "ipython3",
   "version": "3.12.8"
  }
 },
 "nbformat": 4,
 "nbformat_minor": 1
}
