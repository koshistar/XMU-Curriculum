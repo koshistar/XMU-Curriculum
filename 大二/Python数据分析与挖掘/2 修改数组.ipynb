{
 "cells": [
  {
   "cell_type": "code",
   "execution_count": 2,
   "metadata": {},
   "outputs": [],
   "source": [
    "import numpy as np"
   ]
  },
  {
   "cell_type": "code",
   "execution_count": 2,
   "metadata": {},
   "outputs": [
    {
     "name": "stdout",
     "output_type": "stream",
     "text": [
      "原数组：\n",
      "[ 0  1  2  3  4  5  6  7  8  9 10 11]\n",
      "一维转置数组：\n",
      "[ 0  1  2  3  4  5  6  7  8  9 10 11]\n",
      "\n",
      "原数组：\n",
      "[[ 0  1  2  3]\n",
      " [ 4  5  6  7]\n",
      " [ 8  9 10 11]]\n",
      "\n",
      "多维转置数组：\n",
      "[[ 0  4  8]\n",
      " [ 1  5  9]\n",
      " [ 2  6 10]\n",
      " [ 3  7 11]]\n"
     ]
    }
   ],
   "source": [
    "#数组的转置\n",
    "a = np.arange(12)\n",
    "print ('原数组：')\n",
    "print (a)\n",
    "print ('一维转置数组：')\n",
    "print (a.T)                           #一维数组转置后与原来的一样\n",
    "\n",
    "b = np.arange(12).reshape(3,4) \n",
    "print ('\\n原数组：')\n",
    "print (b)\n",
    "\n",
    "print ('\\n多维转置数组：')\n",
    "print (b.T)"
   ]
  },
  {
   "cell_type": "code",
   "execution_count": 3,
   "metadata": {},
   "outputs": [
    {
     "name": "stdout",
     "output_type": "stream",
     "text": [
      "原始数组：\n",
      "[0 1 2 3 4 5 6 7 8 9]\n",
      "\n",
      "修改后的数组：\n",
      "[[0 1]\n",
      " [2 3]\n",
      " [4 5]\n",
      " [6 7]\n",
      " [8 9]]\n"
     ]
    }
   ],
   "source": [
    "#修改数组形状为5行2列\n",
    "a = np.arange(10)\n",
    "print ('原始数组：')\n",
    "print (a)\n",
    " \n",
    "b = a.reshape(5,2)\n",
    "print ('\\n修改后的数组：')\n",
    "print (b)"
   ]
  },
  {
   "cell_type": "code",
   "execution_count": 4,
   "metadata": {},
   "outputs": [
    {
     "name": "stdout",
     "output_type": "stream",
     "text": [
      "原始数组：\n",
      "[[0 1]\n",
      " [2 3]\n",
      " [4 5]\n",
      " [6 7]\n",
      " [8 9]]\n",
      "\n",
      " flatten展开的数组：\n",
      "[0 1 2 3 4 5 6 7 8 9]\n",
      "\n",
      " ravel展开的数组：\n",
      "[0 1 2 3 4 5 6 7 8 9]\n",
      "\n",
      "\n",
      " 以 F (列)风格顺序展开的数组：\n",
      "[0 2 4 6 8 1 3 5 7 9]\n"
     ]
    }
   ],
   "source": [
    "#默认按行，将b展开为一维数组\n",
    "c=b.flatten()                           #产生b的副本，c与b无关\n",
    "d=b.ravel()                             #产生b的视图，d与b相关，同步变化\n",
    "print ('原始数组：')\n",
    "print (b)\n",
    "print ('\\n flatten展开的数组：')\n",
    "print (c)\n",
    "\n",
    "print ('\\n ravel展开的数组：')\n",
    "print (d)\n",
    "print()\n",
    "\n",
    "#按列展开一维数组\n",
    "print ('\\n 以 F (列)风格顺序展开的数组：')\n",
    "print (b.flatten(order = 'F'))"
   ]
  },
  {
   "cell_type": "code",
   "execution_count": 5,
   "metadata": {},
   "outputs": [
    {
     "name": "stdout",
     "output_type": "stream",
     "text": [
      "b数组:\n",
      " [[  0 200]\n",
      " [  2   3]\n",
      " [  4   5]\n",
      " [  6   7]\n",
      " [  8   9]]\n",
      "a数组:\n",
      " [  0 200   2   3   4   5   6   7   8   9]\n",
      "b数组:\n",
      " [[  0 200]\n",
      " [300   3]\n",
      " [  4   5]\n",
      " [  6   7]\n",
      " [  8   9]]\n",
      "c数组:\n",
      " [100   1   2   3   4   5   6   7   8   9]\n"
     ]
    }
   ],
   "source": [
    "#修改c与d，观察a与b的变化。\n",
    "c[0]=100\n",
    "d[1]=200\n",
    "print(\"b数组:\\n\",b)\n",
    "print(\"a数组:\\n\",a)\n",
    "\n",
    "#修改原数据，视图随之而变，副本不变。\n",
    "a[2]=300\n",
    "print(\"b数组:\\n\",b)\n",
    "print(\"c数组:\\n\",c)"
   ]
  },
  {
   "cell_type": "markdown",
   "metadata": {},
   "source": [
    "###  回答：\n",
    "```\n",
    "reshape flatten ravel中哪个函数实现了深拷贝，产生副本？哪些产生视图？（注：修改视图影响原数据。）\n",
    "```"
   ]
  },
  {
   "cell_type": "markdown",
   "metadata": {},
   "source": [
    "flatten实现了深拷贝，产生副本。ravel产生视图。"
   ]
  },
  {
   "cell_type": "code",
   "execution_count": 6,
   "metadata": {},
   "outputs": [
    {
     "name": "stdout",
     "output_type": "stream",
     "text": [
      "第一个数组：\n",
      "[[1 2]\n",
      " [3 4]]\n",
      "\n",
      " 第二个数组：\n",
      "[[5 6]\n",
      " [7 8]]\n",
      "\n",
      " 第三个数组：\n",
      "[[5 6]\n",
      " [7 8]]\n",
      "\n",
      " 水平堆叠3个数组：\n",
      "[[ 1  2  5  6  9 10]\n",
      " [ 3  4  7  8 11 12]]\n",
      "\n",
      " 垂直堆叠3个数组：\n",
      "[[ 1  2]\n",
      " [ 3  4]\n",
      " [ 5  6]\n",
      " [ 7  8]\n",
      " [ 9 10]\n",
      " [11 12]]\n"
     ]
    }
   ],
   "source": [
    "a = np.array([[1,2],[3,4]])\n",
    " \n",
    "print ('第一个数组：')\n",
    "print (a)\n",
    "\n",
    "b = np.array([[5,6],[7,8]])\n",
    "print ('\\n 第二个数组：')\n",
    "print (b)\n",
    "\n",
    "c = np.array([[9,10],[11,12]])\n",
    "print ('\\n 第三个数组：')\n",
    "print (b)\n",
    "\n",
    "print ('\\n 水平堆叠3个数组：')\n",
    "abc_h=np.hstack((a,b,c))\n",
    "print (abc_h)\n",
    "\n",
    "abc_v=np.vstack((a,b,c)) \n",
    "print ('\\n 垂直堆叠3个数组：')\n",
    "print (abc_v)"
   ]
  },
  {
   "cell_type": "code",
   "execution_count": 7,
   "metadata": {},
   "outputs": [
    {
     "name": "stdout",
     "output_type": "stream",
     "text": [
      "沿轴 0 连接两个数组：\n",
      "[[1 2]\n",
      " [3 4]\n",
      " [5 6]\n",
      " [7 8]]\n",
      "\n",
      " 沿轴 1 连接两个数组：\n",
      "[[1 2 5 6]\n",
      " [3 4 7 8]]\n"
     ]
    }
   ],
   "source": [
    "print ('沿轴 0 连接两个数组：')\n",
    "print (np.concatenate((a,b)))\n",
    " \n",
    "print ('\\n 沿轴 1 连接两个数组：')\n",
    "print (np.concatenate((a,b),axis = 1))"
   ]
  },
  {
   "cell_type": "markdown",
   "metadata": {},
   "source": [
    "### 练习1：用随机函数创建3个2行3列的整数数组，练习上面的函数，转置、横向、纵向组合各举一例"
   ]
  },
  {
   "cell_type": "code",
   "execution_count": 8,
   "metadata": {},
   "outputs": [
    {
     "name": "stdout",
     "output_type": "stream",
     "text": [
      "[[32 48 30]\n",
      " [56 41 56]]\n",
      "[[76 24 59]\n",
      " [72 41 25]]\n",
      "[[65 77 56]\n",
      " [32 48 25]]\n",
      "[[32 56]\n",
      " [48 41]\n",
      " [30 56]]\n",
      "[[32 48 30 76 24 59 65 77 56]\n",
      " [56 41 56 72 41 25 32 48 25]]\n",
      "[[32 48 30]\n",
      " [56 41 56]\n",
      " [76 24 59]\n",
      " [72 41 25]\n",
      " [65 77 56]\n",
      " [32 48 25]]\n",
      "[[32 48 30]\n",
      " [56 41 56]\n",
      " [76 24 59]\n",
      " [72 41 25]]\n",
      "[[76 24 59 65 77 56]\n",
      " [72 41 25 32 48 25]]\n"
     ]
    }
   ],
   "source": [
    "a=np.random.randint(1,100,size=(2,3))\n",
    "b=np.random.randint(1,100,size=(2,3))\n",
    "c=np.random.randint(1,100,size=(2,3))\n",
    "print(a)\n",
    "print(b)\n",
    "print(c)\n",
    "print(a.T)\n",
    "abc_h=np.hstack((a,b,c))\n",
    "abc_v=np.vstack((a,b,c))\n",
    "print(abc_h)\n",
    "print(abc_v)\n",
    "print(np.concatenate((a,b),axis=0))\n",
    "print(np.concatenate((b,c),axis=1))"
   ]
  },
  {
   "cell_type": "code",
   "execution_count": 8,
   "metadata": {},
   "outputs": [
    {
     "name": "stdout",
     "output_type": "stream",
     "text": [
      "[[ 1  2  5  6  9 10]\n",
      " [ 3  4  7  8 11 12]]\n",
      "\n",
      " 将数组分为三个大小相等的子数组：\n",
      "[array([[1, 2],\n",
      "       [3, 4]]), array([[5, 6],\n",
      "       [7, 8]]), array([[ 9, 10],\n",
      "       [11, 12]])]\n",
      "\n",
      " 将数组在一维数组中表明的位置分割：\n",
      "[array([[1],\n",
      "       [3]]), array([[2, 5],\n",
      "       [4, 7]]), array([[ 6,  9, 10],\n",
      "       [ 8, 11, 12]])]\n"
     ]
    }
   ],
   "source": [
    "print(abc_h)\n",
    "print ('\\n 将数组分为三个大小相等的子数组：')\n",
    "b = np.split(abc_h,3,axis=1)\n",
    "print (b)\n",
    "\n",
    " \n",
    "print ('\\n 将数组在一维数组中表明的位置分割：')\n",
    "b = np.split(abc_h,[1,3],axis=1)\n",
    "print (b)"
   ]
  },
  {
   "cell_type": "code",
   "execution_count": 9,
   "metadata": {},
   "outputs": [
    {
     "name": "stdout",
     "output_type": "stream",
     "text": [
      "原array：\n",
      "[[ 1  2  5  6  9 10]\n",
      " [ 3  4  7  8 11 12]]\n",
      "\n",
      " 横向（沿1轴）平均拆分后：\n",
      "[array([[1, 2],\n",
      "       [3, 4]]), array([[5, 6],\n",
      "       [7, 8]]), array([[ 9, 10],\n",
      "       [11, 12]])]\n"
     ]
    }
   ],
   "source": [
    "print ('原array：')\n",
    "print(abc_h)\n",
    " \n",
    "print ('\\n 横向（沿1轴）平均拆分后：')\n",
    "print(np.hsplit(abc_h, 3))"
   ]
  },
  {
   "cell_type": "code",
   "execution_count": 10,
   "metadata": {},
   "outputs": [
    {
     "name": "stdout",
     "output_type": "stream",
     "text": [
      "原array：\n",
      "[[ 1  2]\n",
      " [ 3  4]\n",
      " [ 5  6]\n",
      " [ 7  8]\n",
      " [ 9 10]\n",
      " [11 12]]\n",
      "\n",
      " 纵向（沿0轴）平均拆分后：\n",
      "[array([[1, 2],\n",
      "       [3, 4]]), array([[5, 6],\n",
      "       [7, 8]]), array([[ 9, 10],\n",
      "       [11, 12]])]\n"
     ]
    }
   ],
   "source": [
    "print ('原array：')\n",
    "print(abc_v)\n",
    " \n",
    "print ('\\n 纵向（沿0轴）平均拆分后：')\n",
    "print(np.vsplit(abc_v, 3))"
   ]
  },
  {
   "cell_type": "markdown",
   "metadata": {},
   "source": [
    "### 练习2：用随机函数创建1个6行8列的整数数组，练习上面的函数，横向、纵向分割各举一例"
   ]
  },
  {
   "cell_type": "code",
   "execution_count": 11,
   "metadata": {},
   "outputs": [
    {
     "name": "stdout",
     "output_type": "stream",
     "text": [
      "[[33 59 77 31  4 42 70 83]\n",
      " [68 61 65 36 94 92 94 34]\n",
      " [63 71 13  5 90 14 63 87]\n",
      " [81 84 41 77 28 55  6 28]\n",
      " [15 96 69 24 72 14  2  9]\n",
      " [73 79 46 88 10 16 56 79]]\n",
      "[array([[33, 59],\n",
      "       [68, 61],\n",
      "       [63, 71],\n",
      "       [81, 84],\n",
      "       [15, 96],\n",
      "       [73, 79]], dtype=int32), array([[77, 31],\n",
      "       [65, 36],\n",
      "       [13,  5],\n",
      "       [41, 77],\n",
      "       [69, 24],\n",
      "       [46, 88]], dtype=int32), array([[ 4, 42],\n",
      "       [94, 92],\n",
      "       [90, 14],\n",
      "       [28, 55],\n",
      "       [72, 14],\n",
      "       [10, 16]], dtype=int32), array([[70, 83],\n",
      "       [94, 34],\n",
      "       [63, 87],\n",
      "       [ 6, 28],\n",
      "       [ 2,  9],\n",
      "       [56, 79]], dtype=int32)]\n",
      "[array([[33, 59, 77, 31,  4, 42, 70, 83],\n",
      "       [68, 61, 65, 36, 94, 92, 94, 34]], dtype=int32), array([[63, 71, 13,  5, 90, 14, 63, 87],\n",
      "       [81, 84, 41, 77, 28, 55,  6, 28]], dtype=int32), array([[15, 96, 69, 24, 72, 14,  2,  9],\n",
      "       [73, 79, 46, 88, 10, 16, 56, 79]], dtype=int32)]\n"
     ]
    }
   ],
   "source": [
    "arr=np.random.randint(1,100,size=(6,8))\n",
    "print(arr)\n",
    "print(np.hsplit(arr,4))\n",
    "print(np.vsplit(arr,3))"
   ]
  },
  {
   "cell_type": "code",
   "execution_count": null,
   "metadata": {},
   "outputs": [],
   "source": []
  }
 ],
 "metadata": {
  "kernelspec": {
   "display_name": "Python 3",
   "language": "python",
   "name": "python3"
  },
  "language_info": {
   "codemirror_mode": {
    "name": "ipython",
    "version": 3
   },
   "file_extension": ".py",
   "mimetype": "text/x-python",
   "name": "python",
   "nbconvert_exporter": "python",
   "pygments_lexer": "ipython3",
   "version": "3.12.8"
  }
 },
 "nbformat": 4,
 "nbformat_minor": 4
}
