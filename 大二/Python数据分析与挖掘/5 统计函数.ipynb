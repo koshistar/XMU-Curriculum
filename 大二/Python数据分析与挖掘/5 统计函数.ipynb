{
 "cells": [
  {
   "cell_type": "code",
   "execution_count": 1,
   "metadata": {},
   "outputs": [],
   "source": [
    "import numpy as np"
   ]
  },
  {
   "attachments": {},
   "cell_type": "markdown",
   "metadata": {},
   "source": [
    "### 一、统计函数\n",
    "    np.amin(a,axis)      :计算数组中的元素沿指定轴的最小值\n",
    "    np.amax(a,axis)      :计算数组中的元素沿指定轴的最大值\n",
    "    np.sum(a, axis)      :计算数组中的元素沿指定轴的和\n",
    "    np.median(a, axis)   :计算数组中的元素沿指定轴的中位数（中值）\n",
    "    np.std(a, axis)      :计算数组中的元素沿指定轴的标准差\n",
    "    np.var(a, axis)      :计算数组中的元素沿指定轴的方差\n",
    "\n",
    "* 默认情况下，函数并不按照任一轴向计算，而是计算一个总值。\n",
    "* \n",
    "当axis参数为0时，表示沿着纵轴进行计算；当axis为1时，表示沿着横轴进行计算。\n"
   ]
  },
  {
   "cell_type": "code",
   "execution_count": 4,
   "metadata": {},
   "outputs": [
    {
     "name": "stdout",
     "output_type": "stream",
     "text": [
      "我们的数组是：\n",
      "[[3 7 5]\n",
      " [8 4 3]\n",
      " [2 4 9]]\n",
      "\n",
      "调用 amin() 函数沿1轴求最小：\n",
      "[3 3 2]\n",
      "\n",
      "调用 amax() 函数求所有元素最大值：\n",
      "9\n",
      "\n",
      "调用 sum() 函数沿0轴求和：\n",
      "[13 15 17]\n",
      "\n",
      "再次调用 sum() 函数求所有元素之和：\n",
      "45\n",
      "\n",
      "调用 std() 函数沿0轴求标准差：\n",
      "[2.62466929 1.41421356 2.49443826]\n",
      "\n",
      "调用 std() 函数沿0轴求方差：\n",
      "[6.88888889 2.         6.22222222]\n"
     ]
    }
   ],
   "source": [
    "a = np.array([[3,7,5],[8,4,3],[2,4,9]])  \n",
    "print ('我们的数组是：')\n",
    "print (a)\n",
    "\n",
    "print ('\\n调用 amin() 函数沿1轴求最小：')\n",
    "print (np.amin(a,1))\n",
    "\n",
    "print ('\\n调用 amax() 函数求所有元素最大值：')\n",
    "print (np.amax(a))\n",
    "\n",
    "print ('\\n调用 sum() 函数沿0轴求和：')\n",
    "print (np.sum(a, axis =  0))\n",
    "\n",
    "print ('\\n再次调用 sum() 函数求所有元素之和：')\n",
    "print (np.sum(a))\n",
    "\n",
    "print ('\\n调用 std() 函数沿0轴求标准差：')\n",
    "print (np.std(a, axis =  0))\n",
    "\n",
    "print ('\\n调用 std() 函数沿0轴求方差：')\n",
    "print (np.var(a, axis =  0))"
   ]
  },
  {
   "cell_type": "markdown",
   "metadata": {},
   "source": [
    "### 练习1：\n",
    "1. 生成一个二维的随机数组\n",
    "2. 求数组所有元素的最大值\n",
    "3. 按数组各列的和"
   ]
  },
  {
   "cell_type": "code",
   "execution_count": 4,
   "metadata": {},
   "outputs": [
    {
     "name": "stdout",
     "output_type": "stream",
     "text": [
      "[[77 41 45 30]\n",
      " [91 60 70 37]\n",
      " [ 5 75 40 42]]\n",
      "91\n",
      "[173 176 155 109]\n"
     ]
    }
   ],
   "source": [
    "arr=np.random.randint(0,100,(3,4))\n",
    "print(arr)\n",
    "print(np.amax(arr))\n",
    "print(np.sum(arr,axis=0))"
   ]
  },
  {
   "attachments": {},
   "cell_type": "markdown",
   "metadata": {},
   "source": [
    "### 二、排序\n",
    "    np.sort(a, axis, kind)       ：返回输入数组的排序副本\n",
    "    np.argsort(a, axis, kind)    ：返回的是数组元素从小到大排序后所对应的索引值\n",
    "* axis默认值为-1，表示沿最后的轴排序，axis=None表示展开来排序。如果是二维数组，axis可选0、1，axis=0表示按列排序，axis=1表示按行排序。\n",
    "* kind设置排序的算法，包含quicksort（快速排序）、mergesort（归并排序）、heapsort（堆排序），默认为quicksort。\n",
    "\n"
   ]
  },
  {
   "cell_type": "code",
   "execution_count": 10,
   "metadata": {},
   "outputs": [
    {
     "name": "stdout",
     "output_type": "stream",
     "text": [
      "我们的数组是：\n",
      "[[  3  11   2]\n",
      " [ 30   1 200]]\n",
      "调用 sort() 函数，默认按1轴方向（行）升序排：\n",
      "[[  2   3  11]\n",
      " [  1  30 200]]\n",
      "按列排序：\n",
      "[[  3   1   2]\n",
      " [ 30  11 200]]\n"
     ]
    }
   ],
   "source": [
    "a = np.array([[3,11,2],[30,1,200]])  \n",
    "print ('我们的数组是：')\n",
    "print (a)\n",
    "\n",
    "print ('调用 sort() 函数，默认按1轴方向（行）升序排：')\n",
    "print (np.sort(a))                                       #注意：每行单独排序，原同列的数据可能变不同列\n",
    "\n",
    "print ('按列排序：')\n",
    "print (np.sort(a, axis =  0))"
   ]
  },
  {
   "cell_type": "code",
   "execution_count": 12,
   "metadata": {},
   "outputs": [
    {
     "name": "stdout",
     "output_type": "stream",
     "text": [
      "argsort后索引 [1 3 5 0 4 2]\n",
      "利用argsort显示a的排序结果 [ 8  9 10 11 12 13]\n"
     ]
    }
   ],
   "source": [
    "a=np.array([11,8,13,9,12,10])\n",
    "b=np.argsort(a)\n",
    "print(\"argsort后索引\",b)\n",
    "\n",
    "#以排序后的索引重构原数组\n",
    "print(\"利用argsort显示a的排序结果\",a[b])\n"
   ]
  },
  {
   "cell_type": "code",
   "execution_count": 40,
   "metadata": {},
   "outputs": [
    {
     "name": "stdout",
     "output_type": "stream",
     "text": [
      "原数组：\n",
      "[[  3  11   2]\n",
      " [ 30   1 200]]\n",
      "argsort后索引\n",
      " [[0 1 0]\n",
      " [1 0 1]]\n",
      "利用argsort显示a的排序结果\n",
      " [[  3  11   2]\n",
      " [ 30   1 200]]\n"
     ]
    }
   ],
   "source": [
    "#例题：请将a按第2列的降序排序\n",
    "a=np.array([[3,11,2],[30,1,200]]) \n",
    "print(\"原数组：\")\n",
    "print(a)\n",
    "b=np.argsort(a,axis=0)\n",
    "print(\"argsort后索引\\n\",b)\n",
    "\n",
    "sort_by=b[:,1]                                         #取出第2列的升序索引值\n",
    "sort_by=sort_by[::-1]                                   #取反，求降序的索引值\n",
    "print(\"利用argsort显示a的排序结果\\n\",a[sort_by])         #按排序索引值的顺序显示 a"
   ]
  },
  {
   "cell_type": "markdown",
   "metadata": {},
   "source": [
    "### 练习2：\n",
    "1. 生成5行3列的二维随机数组\n",
    "2. 将数组按第3列的降序排列"
   ]
  },
  {
   "cell_type": "code",
   "execution_count": 7,
   "metadata": {},
   "outputs": [
    {
     "name": "stdout",
     "output_type": "stream",
     "text": [
      "[[56 27  7]\n",
      " [66 48 74]\n",
      " [12  2 30]\n",
      " [55 50 70]\n",
      " [27 77 82]]\n",
      "[[27 77 82]\n",
      " [66 48 74]\n",
      " [55 50 70]\n",
      " [12  2 30]\n",
      " [56 27  7]]\n"
     ]
    }
   ],
   "source": [
    "arr=np.random.randint(0,100,size=(5,3))\n",
    "print(arr)\n",
    "b=np.argsort(arr,axis=0)\n",
    "# print(b)\n",
    "sorted_b=b[:,2]\n",
    "sorted_b=sorted_b[::-1]\n",
    "print(arr[sorted_b])"
   ]
  },
  {
   "cell_type": "markdown",
   "metadata": {},
   "source": [
    "### 三、查询\n",
    "    np.where(条件)          ：返回输入数组中满足给定条件的元素的索引\n",
    "    np.extract(条件,数组)   ：返回满足条件的数组元素"
   ]
  },
  {
   "cell_type": "code",
   "execution_count": 36,
   "metadata": {},
   "outputs": [
    {
     "name": "stdout",
     "output_type": "stream",
     "text": [
      "我们的数组是：\n",
      "[[0. 1. 2.]\n",
      " [3. 4. 5.]\n",
      " [6. 7. 8.]]\n",
      "\n",
      "大于 3 的元素的索引：\n",
      "(array([1, 1, 2, 2, 2], dtype=int64), array([1, 2, 0, 1, 2], dtype=int64))\n",
      "\n",
      "使用这些索引来获取满足条件的元素：\n",
      "[4. 5. 6. 7. 8.]\n",
      "\n",
      "extract获取满足条件的元素：\n",
      "[4. 5. 6. 7. 8.]\n"
     ]
    }
   ],
   "source": [
    "x = np.arange(9.).reshape(3,  3)  \n",
    "print ('我们的数组是：')\n",
    "print (x)\n",
    "\n",
    "print ( '\\n大于 3 的元素的索引：')\n",
    "y = np.where(x >  3)  \n",
    "print (y)                   #(y[0],y[1])分别为行索引、列索引\n",
    "\n",
    "print ('\\n使用这些索引来获取满足条件的元素：')\n",
    "print (x[y])               #布尔索引\n",
    "\n",
    "print ('\\nextract获取满足条件的元素：')\n",
    "z = np.extract(x > 3,x)  \n",
    "print (z)"
   ]
  },
  {
   "cell_type": "markdown",
   "metadata": {},
   "source": [
    "### 练习3：\n",
    "1. 生成5行3列的二维随机数组，元素值在0-200之间\n",
    "2. 查询数组中值大于20的元素及其在数组中的位置"
   ]
  },
  {
   "cell_type": "code",
   "execution_count": 11,
   "metadata": {},
   "outputs": [
    {
     "name": "stdout",
     "output_type": "stream",
     "text": [
      "[[ 24 195  67]\n",
      " [ 59  29  34]\n",
      " [ 67 126  37]\n",
      " [ 85 161  10]\n",
      " [ 86 120   4]]\n",
      "(array([0, 0, 0, 1, 1, 1, 2, 2, 2, 3, 3, 4, 4]), array([0, 1, 2, 0, 1, 2, 0, 1, 2, 0, 1, 0, 1]))\n",
      "[ 24 195  67  59  29  34  67 126  37  85 161  86 120]\n"
     ]
    }
   ],
   "source": [
    "arr=np.random.randint(0,200,size=(5,3))\n",
    "print(arr)\n",
    "print(np.where(arr>20))\n",
    "print(np.extract(arr>20,arr))"
   ]
  },
  {
   "cell_type": "code",
   "execution_count": null,
   "metadata": {},
   "outputs": [],
   "source": []
  }
 ],
 "metadata": {
  "kernelspec": {
   "display_name": "Python 3",
   "language": "python",
   "name": "python3"
  },
  "language_info": {
   "codemirror_mode": {
    "name": "ipython",
    "version": 3
   },
   "file_extension": ".py",
   "mimetype": "text/x-python",
   "name": "python",
   "nbconvert_exporter": "python",
   "pygments_lexer": "ipython3",
   "version": "3.12.8"
  }
 },
 "nbformat": 4,
 "nbformat_minor": 4
}
