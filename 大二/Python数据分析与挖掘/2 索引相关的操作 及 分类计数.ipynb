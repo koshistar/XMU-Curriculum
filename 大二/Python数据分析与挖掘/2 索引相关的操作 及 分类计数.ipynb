{
 "cells": [
  {
   "cell_type": "markdown",
   "metadata": {},
   "source": [
    "### (1) 字典索引的相关操作\n",
    "\n",
    "* Python 的字典为通过键获取值进行了优化，而不是简单的搜索，所以通过键 访问值的效率极高。\n",
    "\n",
    "\n",
    "<table align='center'>\n",
    "    <tr>\n",
    "      <td width=\"40%\"><p align=\"left\">  索引相关的操作（d是字典名） </td>\n",
    "      <td width=\"60%\"><p align=\"left\"> 执行结果 </td>\n",
    "    </tr>\n",
    "<tr><td><p align=\"left\"> d[key] </td><td style=\"vertical-align:left; text-align:left;\">返回key对应的value. 如果key不在d中，则抛出异常</td></tr>\n",
    "<tr><td><p align=\"left\">get(key[, default])</td><td style=\"vertical-align:middle; text-align:left;\"> \n",
    "如果有名为key的键，则返回对应的值，否则返回default. <br>\n",
    "如没有写default参数, 默认返回 None</td></tr>\n",
    "<tr><td><p align=\"left\"> d[key] = value    </td><td style=\"vertical-align:left; text-align:left;\">将key的值设为value.                   </td></tr>\n",
    "<tr><td><p align=\"left\"> del d[key]  </td><td style=\"vertical-align:left; text-align:left;\">删除key对应的元素           </td></tr>\n",
    "\n",
    "</table>"
   ]
  },
  {
   "cell_type": "code",
   "execution_count": 8,
   "metadata": {},
   "outputs": [
    {
     "ename": "KeyError",
     "evalue": "'four'",
     "output_type": "error",
     "traceback": [
      "\u001b[1;31m---------------------------------------------------------------------------\u001b[0m",
      "\u001b[1;31mKeyError\u001b[0m                                  Traceback (most recent call last)",
      "\u001b[1;32m<ipython-input-8-08b8b4dd28a6>\u001b[0m in \u001b[0;36m<module>\u001b[1;34m()\u001b[0m\n\u001b[0;32m      1\u001b[0m \u001b[0ma\u001b[0m\u001b[1;33m=\u001b[0m\u001b[1;33m{\u001b[0m\u001b[1;34m'one'\u001b[0m\u001b[1;33m:\u001b[0m \u001b[1;36m1\u001b[0m\u001b[1;33m,\u001b[0m \u001b[1;34m'two'\u001b[0m\u001b[1;33m:\u001b[0m \u001b[1;36m2\u001b[0m\u001b[1;33m,\u001b[0m \u001b[1;34m'three'\u001b[0m\u001b[1;33m:\u001b[0m \u001b[1;36m3\u001b[0m\u001b[1;33m}\u001b[0m\u001b[1;33m\u001b[0m\u001b[0m\n\u001b[1;32m----> 2\u001b[1;33m \u001b[0mprint\u001b[0m\u001b[1;33m(\u001b[0m\u001b[1;34m\"a['four']的值是: \"\u001b[0m\u001b[1;33m,\u001b[0m\u001b[0ma\u001b[0m\u001b[1;33m[\u001b[0m\u001b[1;34m'four'\u001b[0m\u001b[1;33m]\u001b[0m\u001b[1;33m)\u001b[0m           \u001b[1;31m#a中没有four，会报错，中断程序\u001b[0m\u001b[1;33m\u001b[0m\u001b[0m\n\u001b[0m",
      "\u001b[1;31mKeyError\u001b[0m: 'four'"
     ]
    }
   ],
   "source": [
    "a={'one': 1, 'two': 2, 'three': 3}\n",
    "print(\"a['four']的值是: \",a['four'])           #a中没有four，会报错，中断程序"
   ]
  },
  {
   "cell_type": "code",
   "execution_count": 6,
   "metadata": {},
   "outputs": [
    {
     "name": "stdout",
     "output_type": "stream",
     "text": [
      "a.get('two',0)的值是:  2\n",
      "a.get('four',0)的值是:  0\n",
      "a= {'one': 1, 'two': 2, 'three': 3, 'four': 4}\n",
      "删除key=four的元素后： {'one': 1, 'two': 2, 'three': 3}\n"
     ]
    }
   ],
   "source": [
    "a={'one': 1, 'two': 2, 'three': 3}\n",
    "print(\"a.get('two',0)的值是: \",a.get('two',0))     \n",
    "print(\"a.get('four',0)的值是: \",a.get('four',0))               # four  not in a,so a.get('four',0) => 0\n",
    "\n",
    "a['four']=4                               #添加  'four':4\n",
    "print(\"a=\",a)\n",
    "\n",
    "del a['four']\n",
    "print('删除key=four的元素后：',a)"
   ]
  },
  {
   "cell_type": "markdown",
   "metadata": {},
   "source": [
    "### （2）分类统计：利用字典\n",
    "    1、将统计值存入字典，Key为类名，value为该类的统计值\n",
    "    2、为了避免产生KeyError错误，常用get()方法来返回指定关键字对应的值，并且指定第二个参数为0（当该键不存在时返0）作为累加计数的初始值。\n",
    "\n",
    "* 其它详细知识点见PPT"
   ]
  },
  {
   "cell_type": "markdown",
   "metadata": {},
   "source": [
    "#### 例题1，输入一段英文，统计其中字符a,b,c的出现频率：\n",
    "    输入样例：It is a truth universally acknowledged. \n",
    "    输出样例：\n",
    "    {'a': 3, 'b': 0, 'c': 1}"
   ]
  },
  {
   "cell_type": "code",
   "execution_count": 1,
   "metadata": {},
   "outputs": [
    {
     "name": "stdout",
     "output_type": "stream",
     "text": [
      " It is a truth universally acknowledged\n"
     ]
    },
    {
     "name": "stdout",
     "output_type": "stream",
     "text": [
      "{'a': 3, 'b': 0, 'c': 1}\n"
     ]
    }
   ],
   "source": [
    "#方法一：\n",
    "diccount={'a':0 , 'b':0,  'c':0 }           #字符的次数 初始化为0 \n",
    "s=input() \n",
    "\n",
    "for i in s: \n",
    "    if i in ('a','b','c'):\n",
    "        diccount[i]+=1 \n",
    "print(diccount)"
   ]
  },
  {
   "cell_type": "code",
   "execution_count": 2,
   "metadata": {},
   "outputs": [
    {
     "name": "stdout",
     "output_type": "stream",
     "text": [
      " It is a truth universally acknowledged, that a single man in possession of a good fortune,  must be in want of a wife.\n"
     ]
    },
    {
     "name": "stdout",
     "output_type": "stream",
     "text": [
      "{'a': 9, 'c': 1, 'b': 1}\n"
     ]
    }
   ],
   "source": [
    "#方法二：\n",
    "s=input()\n",
    "dict={}\n",
    "for i in s:\n",
    "    if i in ('a','b','c'):\n",
    "        dict[i]=dict.get(i,0)+1         #get方法，第二个参数0 ==> 即是设置： 次数的初值为0\n",
    "    \n",
    "print(dict)"
   ]
  },
  {
   "cell_type": "markdown",
   "metadata": {},
   "source": [
    "#### 练习1，输入字符串s，统计s中每种字符的出现频率：\n",
    "\n",
    "    输入样例：\n",
    "    It is a truth universally acknowledged, that a single man in possession of a good fortune, must be in want of a wife. However little known the feelings or views of such a man may be on his first entering a neighbourhood,this truth is so well fixed in the minds of the surrounding families, that he is considered the rightful property of some one or other of their daughters.\n",
    "    \n",
    "    输出样例：(key是字符，value是出现的次数)\n",
    "    {'I': 1, 't': 26, ' ': 68, 'i': 26, 's': 23, 'a': 16, 'r': 19, 'u': 11, 'h': 18, 'n': 23, 'v': 3, 'e': 34, 'l': 11, 'y': 3, 'c': 3, 'k': 2, 'o': 27, 'w': 7, 'd': 10, 'g': 9, ',': 4, 'm': 7, 'p': 3, 'f': 13, 'b': 3, '.': 2, 'H': 1, 'x': 1}"
   ]
  },
  {
   "cell_type": "code",
   "execution_count": 2,
   "metadata": {},
   "outputs": [
    {
     "name": "stdout",
     "output_type": "stream",
     "text": [
      "{'I': 1, 't': 26, ' ': 68, 'i': 26, 's': 23, 'a': 16, 'r': 19, 'u': 11, 'h': 18, 'n': 23, 'v': 3, 'e': 34, 'l': 11, 'y': 3, 'c': 3, 'k': 2, 'o': 27, 'w': 7, 'd': 10, 'g': 9, ',': 4, 'm': 7, 'p': 3, 'f': 13, 'b': 3, '.': 2, 'H': 1, 'x': 1}\n"
     ]
    }
   ],
   "source": [
    "s=input()\n",
    "dict={}\n",
    "for i in s:\n",
    "    dict[i]=dict.get(i,0)+1\n",
    "print(dict)"
   ]
  },
  {
   "cell_type": "markdown",
   "metadata": {},
   "source": [
    "### （3）其它常用操作\n",
    "\n",
    "<table align='center'>\n",
    "<tr><td>len(d)  </td><td style=\"vertical-align:middle; text-align:left;\">     字典d中元素的个数.</td></tr>\n",
    "<tr><td>key in d  </td><td style=\"vertical-align:middle; text-align:left;\">    当d有名为key的键时，返回 True , 否则返回 False.</td></tr>\n",
    "<tr><td>clear()   </td><td style=\"vertical-align:middle; text-align:left;\">  删除字典中所有元素.</td></tr>\n",
    "<tr><td>copy()  </td><td style=\"vertical-align:middle; text-align:left;\">   字典复制</td></tr>\n",
    "\n",
    "</table>\n"
   ]
  },
  {
   "cell_type": "code",
   "execution_count": 4,
   "metadata": {},
   "outputs": [
    {
     "name": "stdout",
     "output_type": "stream",
     "text": [
      "a的长度= 3\n",
      "True\n",
      "False\n"
     ]
    }
   ],
   "source": [
    "a={'one': 1, 'two': 2, 'three': 3}\n",
    "\n",
    "print(\"a的长度=\",len(a))\n",
    "print('one' in a)           #只在key中查找\n",
    "print( 1 in a)                    #s的key中没有1"
   ]
  }
 ],
 "metadata": {
  "kernelspec": {
   "display_name": "Python 3",
   "language": "python",
   "name": "python3"
  },
  "language_info": {
   "codemirror_mode": {
    "name": "ipython",
    "version": 3
   },
   "file_extension": ".py",
   "mimetype": "text/x-python",
   "name": "python",
   "nbconvert_exporter": "python",
   "pygments_lexer": "ipython3",
   "version": "3.12.8"
  }
 },
 "nbformat": 4,
 "nbformat_minor": 4
}
