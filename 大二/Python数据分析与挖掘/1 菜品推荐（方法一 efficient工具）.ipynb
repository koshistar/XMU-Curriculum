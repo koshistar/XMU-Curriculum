{
 "cells": [
  {
   "cell_type": "markdown",
   "metadata": {},
   "source": [
    "# 一、sklearn 工具包中没有关联规则挖掘 Apriori算法，需要别安装工具包。可以选用efficient-apriori 或 mlxtend\n",
    "\n",
    "（1）efficient-apriori 和 mlxtend 都可以与 sklearn 结合使用，但它们在功能上各有侧重\n",
    "\n",
    "（2）efficient-apriori 则专注于高效的关联规则挖掘，适用于特定的市场篮分析和推荐系统场景\n",
    "\n",
    "（3）mlxtend 通过提供额外的特征选择、集成学习方法、模型评估工具等，对 sklearn 进行了有效的补充"
   ]
  },
  {
   "cell_type": "markdown",
   "metadata": {},
   "source": [
    "### 1.1、若选用 efficient-apriori 工具包的方法，则先安装 efficient-apriori 工具包\n",
    "（1）打开 Anaconda Prompt，在命令窗口输入命令\n",
    "\n",
    "（2）pip install efficient-apriori"
   ]
  },
  {
   "cell_type": "markdown",
   "metadata": {},
   "source": [
    "### 1.2、若选用mlxtend的方法，则先安装mlxtend\n",
    "\n",
    "（1） 打开 Anaconda Prompt，在命令窗口输入命令\n",
    "\n",
    "（2）pip install mlxtend\n"
   ]
  },
  {
   "attachments": {},
   "cell_type": "markdown",
   "metadata": {},
   "source": [
    "# 二、关联规则中常见概念\n",
    "\n",
    "支持度：项集A、B同时发生的概率称为关联规则的支持度。\n",
    "\n",
    "置信度：项集A发生，则项集B发生的概率为关联规则的置信度\n",
    "\n",
    "最小支持度（min_support）：用户定义的衡量支持度的一个阈值；\n",
    "\n",
    "最小置信度（min_confidence）：用户定义的衡量置信度的一个阈值，表示关联规则的最低可靠性。\n",
    "\n",
    "同时满足最小支持度阈值和最小置信度阈值的规则称作强规则。"
   ]
  },
  {
   "cell_type": "markdown",
   "metadata": {},
   "source": [
    "###\n",
    "### 例1：挖掘关联规则"
   ]
  },
  {
   "cell_type": "code",
   "execution_count": 1,
   "metadata": {},
   "outputs": [],
   "source": [
    "from efficient_apriori import apriori                            #导入apriori函数\n",
    "#举例，列表中元素是元组\n",
    "data = [('A', 'B', 'C'),                                #数据必须放在列表中：每一条交易是一个元组（或集合），所有交易放在一个列表中\n",
    "        ('B', 'A'),\n",
    "        ('C'),\n",
    "        ('B')]"
   ]
  },
  {
   "cell_type": "code",
   "execution_count": 2,
   "metadata": {},
   "outputs": [],
   "source": [
    "#举例，列表中元素可以是集合\n",
    "data = [{'A', 'B', 'C'},                                #数据必须放在列表中：每一条交易是一个元组（或集合），所有交易放在一个列表中\n",
    "        {'B', 'A'},\n",
    "        {'C'},\n",
    "        {'B'}]"
   ]
  },
  {
   "cell_type": "code",
   "execution_count": 3,
   "metadata": {},
   "outputs": [],
   "source": [
    "#apriori函数求支持度>=0.5并置信度>=0.6的频繁项集与关联规则，item_sets保存频繁项集，rules保存规则\n",
    "item_sets, rules = apriori(data, min_support=0.5, min_confidence=0.6)    "
   ]
  },
  {
   "cell_type": "code",
   "execution_count": 4,
   "metadata": {},
   "outputs": [
    {
     "data": {
      "text/plain": [
       "{1: {('A',): 2, ('C',): 2, ('B',): 3}, 2: {('A', 'B'): 2}}"
      ]
     },
     "execution_count": 4,
     "metadata": {},
     "output_type": "execute_result"
    }
   ],
   "source": [
    "item_sets                                                           #满足最小支持度的频繁项集"
   ]
  },
  {
   "cell_type": "code",
   "execution_count": 5,
   "metadata": {},
   "outputs": [
    {
     "data": {
      "text/plain": [
       "[{B} -> {A}, {A} -> {B}]"
      ]
     },
     "execution_count": 5,
     "metadata": {},
     "output_type": "execute_result"
    }
   ],
   "source": [
    "rules                                                                 #满足最小置信度的规则"
   ]
  },
  {
   "cell_type": "markdown",
   "metadata": {},
   "source": [
    "###\n",
    "\n",
    "### 例2 挖掘顾客菜单中各菜品的关联关系"
   ]
  },
  {
   "cell_type": "code",
   "execution_count": 6,
   "metadata": {},
   "outputs": [],
   "source": [
    "from efficient_apriori import apriori                            #导入apriori\n",
    "\n",
    "data = [('上海青', '碳烧茄子', '啤酒'),                                #数据必须放在列表中：每一条交易是一个元组，所有交易放在一个列表中\n",
    "        ('可乐', '碳烧茄子', '炝炒土豆丝', '西兰花'),\n",
    "        ('上海青', '炝炒土豆丝', '可乐', '鸡蛋'),\n",
    "        ('碳烧茄子', '上海青', '炝炒土豆丝', '可乐'),\n",
    "        ('碳烧茄子', '西兰花', '炝炒土豆丝', '可乐')]\n",
    "\n",
    "item_sets, rules = apriori(data, min_support=0.5, min_confidence=1)    #求频繁项集与关联规则"
   ]
  },
  {
   "cell_type": "code",
   "execution_count": 7,
   "metadata": {},
   "outputs": [
    {
     "data": {
      "text/plain": [
       "{1: {('上海青',): 3, ('碳烧茄子',): 4, ('可乐',): 4, ('炝炒土豆丝',): 4},\n",
       " 2: {('可乐', '炝炒土豆丝'): 4, ('可乐', '碳烧茄子'): 3, ('炝炒土豆丝', '碳烧茄子'): 3},\n",
       " 3: {('可乐', '炝炒土豆丝', '碳烧茄子'): 3}}"
      ]
     },
     "execution_count": 7,
     "metadata": {},
     "output_type": "execute_result"
    }
   ],
   "source": [
    "item_sets                                                           #满足最小支持度的频繁项集"
   ]
  },
  {
   "cell_type": "code",
   "execution_count": 8,
   "metadata": {},
   "outputs": [
    {
     "data": {
      "text/plain": [
       "[{炝炒土豆丝} -> {可乐},\n",
       " {可乐} -> {炝炒土豆丝},\n",
       " {炝炒土豆丝, 碳烧茄子} -> {可乐},\n",
       " {可乐, 碳烧茄子} -> {炝炒土豆丝}]"
      ]
     },
     "execution_count": 8,
     "metadata": {},
     "output_type": "execute_result"
    }
   ],
   "source": [
    "rules                                                              #满足最小置信度的规则"
   ]
  },
  {
   "cell_type": "markdown",
   "metadata": {},
   "source": [
    "## 三、考虑提升度"
   ]
  },
  {
   "cell_type": "code",
   "execution_count": 9,
   "metadata": {},
   "outputs": [
    {
     "data": {
      "text/plain": [
       "[{炝炒土豆丝} -> {可乐},\n",
       " {可乐} -> {炝炒土豆丝},\n",
       " {炝炒土豆丝, 碳烧茄子} -> {可乐},\n",
       " {可乐, 碳烧茄子} -> {炝炒土豆丝}]"
      ]
     },
     "execution_count": 9,
     "metadata": {},
     "output_type": "execute_result"
    }
   ],
   "source": [
    "#提升度阈值\n",
    "lift_threshold = 1.2\n",
    "\n",
    "# 筛选出提升度大于阈值的规则\n",
    "filtered_rules = [rule for rule in rules if rule.lift > lift_threshold]\n",
    "filtered_rules"
   ]
  },
  {
   "cell_type": "code",
   "execution_count": 10,
   "metadata": {},
   "outputs": [
    {
     "name": "stdout",
     "output_type": "stream",
     "text": [
      "Rule: {炝炒土豆丝} -> {可乐} (conf: 1.000, supp: 0.800, lift: 1.250, conv: 200000000.000) with lift: 1.25\n",
      "Rule: {可乐} -> {炝炒土豆丝} (conf: 1.000, supp: 0.800, lift: 1.250, conv: 200000000.000) with lift: 1.25\n",
      "Rule: {炝炒土豆丝, 碳烧茄子} -> {可乐} (conf: 1.000, supp: 0.600, lift: 1.250, conv: 200000000.000) with lift: 1.25\n",
      "Rule: {可乐, 碳烧茄子} -> {炝炒土豆丝} (conf: 1.000, supp: 0.600, lift: 1.250, conv: 200000000.000) with lift: 1.25\n"
     ]
    }
   ],
   "source": [
    "# 打印筛选后的规则\n",
    "for rule in filtered_rules:\n",
    "    print(f\"Rule: {rule} with lift: {rule.lift}\")\n",
    "\n",
    "#conv 通常指的是 置信度提升（Conviction），在规则的后件（consequent）不发生时，规则的前件（antecedent）发生的概率。\n",
    "#Conviction > 1：规则 A→B 是一个强规则，即规则的前件 A 发生时，后件 B 有很大概率发生。"
   ]
  },
  {
   "cell_type": "code",
   "execution_count": null,
   "metadata": {},
   "outputs": [],
   "source": []
  }
 ],
 "metadata": {
  "kernelspec": {
   "display_name": "Python 3",
   "language": "python",
   "name": "python3"
  },
  "language_info": {
   "codemirror_mode": {
    "name": "ipython",
    "version": 3
   },
   "file_extension": ".py",
   "mimetype": "text/x-python",
   "name": "python",
   "nbconvert_exporter": "python",
   "pygments_lexer": "ipython3",
   "version": "3.12.8"
  }
 },
 "nbformat": 4,
 "nbformat_minor": 4
}
