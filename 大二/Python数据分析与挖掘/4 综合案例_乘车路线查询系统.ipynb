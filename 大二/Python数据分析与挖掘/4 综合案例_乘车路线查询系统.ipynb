{
 "cells": [
  {
   "cell_type": "markdown",
   "metadata": {},
   "source": [
    "### 先阅读最下面完整的main、tranfer_two(s1,s2)函数，再完成练习1-2"
   ]
  },
  {
   "cell_type": "markdown",
   "metadata": {},
   "source": [
    "#### 练习1，编写direct(s1,s2)函数，判断两站点s1与s2之间能否直达，可以，则返回可直达的线路，否则返回False。\n",
    "将函数程序补充完整。\n",
    "```\n",
    "输入样例：\n",
    "  火车站\n",
    "  中山公园\n",
    "输出样例：\n",
    "  1路 3路 直达\n",
    "```"
   ]
  },
  {
   "cell_type": "code",
   "execution_count": 6,
   "metadata": {},
   "outputs": [
    {
     "name": "stdout",
     "output_type": "stream",
     "text": [
      "1路 3路 直达\n"
     ]
    }
   ],
   "source": [
    "line={'1路': ['火车站', '金榜公园', '文灶', '将军祠', '文化宫', '中山公园', '镇海路', '博物馆', '厦大'], \\\n",
    "      '759路': ['厦大西村', '软件园', '高林', '厦大翔安校区'],\\\n",
    "      '30路': ['会展中心', '瑞景商业广场', '火车站'],\\\n",
    "      '3路': ['文化宫', '火车站', '文灶', '中山公园', '轮渡'], \\\n",
    "      '100路': ['轮渡', '东渡', '海沧', '']}\n",
    "linename=['1路', '759路', '30路', '3路', '100路']\n",
    "\n",
    "choose_line=[]                                      #用于保存可直达的线路名\n",
    "\n",
    "def direct(s1,s2):              #请填写函数\n",
    "    for key,value in line.items():\n",
    "        if s1 in value and s2 in value:\n",
    "            choose_line.append(key)\n",
    "    return choose_line\n",
    "s1=input(\"起点：\") \n",
    "s2=input(\"终点：\")   \n",
    "temp0=direct(s1,s2)            #调用direct(s1,s2)，判断是否可以直达\n",
    "\n",
    "if temp0==False:\n",
    "    print(\"无法直接\")\n",
    "else:\n",
    "    print(*temp0,\"直达\")       #输出可直达的线路"
   ]
  },
  {
   "cell_type": "markdown",
   "metadata": {},
   "source": [
    "### 请参考tranfer_two(s1,s2)函数，完成练习2"
   ]
  },
  {
   "cell_type": "markdown",
   "metadata": {
    "scrolled": true
   },
   "source": [
    "#### 练习2，编写tranfer_one(s1,s2)函数，判断两站点s1与s2之间，换乘一次是否可达，是，返回True，否，返回False\n",
    "\n",
    "```\n",
    "输入样例：将军祠\n",
    "          轮渡\n",
    "输出样例：('1路', '火车站') 中转 3路\n",
    "\n",
    "```   \n",
    "* 提示：可以调用direct(s1,s2)函数"
   ]
  },
  {
   "cell_type": "code",
   "execution_count": 11,
   "metadata": {
    "scrolled": true
   },
   "outputs": [
    {
     "name": "stdout",
     "output_type": "stream",
     "text": [
      "('1路', '火车站') 中转 3路\n"
     ]
    }
   ],
   "source": [
    "choose_line=[]                                       #保存中转线路\n",
    "choose_line_station=[]                                #保存(中转线路,站点名)\n",
    "\n",
    "\n",
    "#请填写函数\n",
    "\n",
    "def tranfer_one(s1,s2):                              #s1是起点，s2是终点\n",
    "    for k,v in line.items():\n",
    "        if s1 in v:\n",
    "            for station in v:\n",
    "                if station!=s1 and direct(station,s2):\n",
    "                    choose_line_station.append((k,station))  #保存(中转线路,站点名)\n",
    "                    return True\n",
    "                else:\n",
    "                    choose_line.pop()\n",
    "    return False\n",
    "s1=input(\"起点：\")                        \n",
    "s2=input(\"终点：\")   \n",
    "temp0=tranfer_one(s1,s2)              #调用tranfer_one函数，判断是否中转一次可达\n",
    "\n",
    "if temp0==False:\n",
    "    print(\"中转一次无法到达\")\n",
    "else:\n",
    "    print(*choose_line_station,\"中转\",*choose_line)    #输出中转线路与站在\n",
    " "
   ]
  },
  {
   "cell_type": "markdown",
   "metadata": {},
   "source": [
    "#### 阅读程序，编写tranfer_two(s1,s2)函数，判断两站点s1与s2之间，换乘二次是否可达，是，返回中转站名，否，返回False\n",
    "\n",
    "```\n",
    "输入样例：会展中心\n",
    "          东渡\n",
    "输出样例：('30路', '火车站') ('3路', '轮渡') 转 100路\n",
    "``` \n",
    "* 提示：可以调用tranfer_one(s1,s2)函数"
   ]
  },
  {
   "cell_type": "code",
   "execution_count": 9,
   "metadata": {},
   "outputs": [
    {
     "name": "stdout",
     "output_type": "stream",
     "text": [
      "起点：会展中心\n",
      "终点：东渡\n",
      "('30路', '火车站') ('3路', '轮渡') 转 100路\n"
     ]
    }
   ],
   "source": [
    "choose_line=[]\n",
    "choose_line_station=[]\n",
    "def tranfer_two(s1,s2):                            #s1是起点，s2是终点\n",
    "    for k,v in line.items():\n",
    "        if s1 in v :                              #如果s1是k线路中的站点\n",
    "            for station in v:                     #遍历k线路上其它站点\n",
    "                if station!=s1  and tranfer_one(station,s2):  #线路上有其它站在中转一次到s2，则该站点为中转站点\n",
    "                    choose_line_station.append((k,station))\n",
    "                    return True\n",
    "                \n",
    "    return False                                       #没有找到中转站点，返回False\n",
    "\n",
    "\n",
    "s1=input(\"起点：\")                        \n",
    "s2=input(\"终点：\")   \n",
    "temp0=tranfer_two(s1,s2)\n",
    "\n",
    "if temp0==False:\n",
    "    print(\"中转二次无法到达\")\n",
    "else:\n",
    "    print(*choose_line_station[::-1],\"转\",*choose_line) #靠近s2的中转站先加入choose_line_station，因此要用切片反向输出\n",
    " "
   ]
  },
  {
   "cell_type": "markdown",
   "metadata": {},
   "source": [
    "# 函数中的变量：\n",
    "### (1)  变量的判定：\n",
    "    局部变量：在函数内任意位置只要有为变量赋值的操作，该变量在函数内就是局部变量\n",
    "    全部变量：在函数之外赋值，或用global定义\n",
    "### (2)  变量的作用域：\n",
    "    全局变量可以被多个函数引用，局部变量仅本函数内可使用。\n",
    "### (3)  优点：\n",
    "    局部变量独立性好，不同函数内变量名可以相同，互不影响。局部变量的引用比全局变量速度快，应优先考虑使用。\n",
    "    全局变量可以跨函数传递数据。\n",
    "        例如，tranfer_two中的choose_line_station、choose_line是全局变量，tranfer_one函数与direct函数都可以引用并修改数据。\n",
    "        \n",
    "### (4)  同名规则：\n",
    "    如果局部变量和全局变量同名，同名局部量屏蔽全局变量：在局部变量作用范围内，全局变量不起作用。\n",
    "    \n",
    "    常见问题：\n",
    "    问：在函数体中，如果要为全局变量重新赋值，怎么办？\n",
    "    答：\n",
    "    方法一：可以使用global语句，表明函数内的该变量是全局变量。\n",
    "    方法二：在内层函数中用nonlocal语句说明变量，就可以让解释器在外层函数中修改变量的值。\n",
    " \n",
    " 例题见PPT课件：(3 变量的作用域_局部变量与全局变量.pptx)"
   ]
  },
  {
   "cell_type": "markdown",
   "metadata": {},
   "source": [
    "### 例题，编写main函数，调用direct、tranfer_one、tranfer_two的函数，实现公交查询系统\n",
    "```\n",
    "输入起点、终点，查询：\n",
    "是否公交可直达？\n",
    "若不能，判断是否中转一次、或中转二次可达？可以，则输出中转线路与中转站。\n",
    "```"
   ]
  },
  {
   "cell_type": "code",
   "execution_count": null,
   "metadata": {},
   "outputs": [
    {
     "name": "stdout",
     "output_type": "stream",
     "text": [
      "('1路', '火车站') ('3路', '轮渡')\n"
     ]
    }
   ],
   "source": [
    "line={'1路': ['火车站', '金榜公园', '文灶', '将军祠', '文化宫', '中山公园', '镇海路', '博物馆', '厦大'], '759路': ['厦大西村', '软件园', '高林', '厦大翔安校区'], '30路': ['会展中心', '瑞景商业广场', '火车站'], '3路': ['文化宫', '火车站', '文灶', '中山公园', '轮渡'], '100路': ['轮渡', '东渡', '海沧', '']}\n",
    "linename=['1路', '759路', '30路', '3路', '100路']\n",
    "def main():\n",
    "    s1=input(\"起点\")\n",
    "    s2=input(\"终点\") \n",
    "    global choose_line                  #注意必须为全局变量，此处用global声明为全局变量，则可在不同函数间引用，并修改其值\n",
    "    global choose_line_station\n",
    "    choose_line=[]\n",
    "    choose_line_station=[]\n",
    "    temp0=direct(s1,s2)               #调用direct函数，判断是否能直达\n",
    "    if temp0:\n",
    "        print(f\"{temp0}直达\")\n",
    "        return\n",
    "    else:\n",
    "        choose_line=[]                    #清空，以免残留direct的调用数据\n",
    "        choose_line_station=[]\n",
    "        temp1=tranfer_one(s1,s2)          #调用tranfer_one函数，判断是否中转一次能到达\n",
    "        if temp1:\n",
    "            print(*choose_line_station[::-1],(choose_line[0],s2))\n",
    "        else:\n",
    "            choose_line=[]\n",
    "            choose_line_station=[]\n",
    "            temp2=tranfer_two(s1,s2)       #调用tranfer_two 函数，判断是否中转两次能到达\n",
    "            if temp2:\n",
    "                print(*choose_line_station[::-1],(choose_line[0],s2))\n",
    "            else:\n",
    "                print(\"二次中转无法到达\")\n",
    "    \n",
    "main()"
   ]
  },
  {
   "cell_type": "code",
   "execution_count": null,
   "metadata": {},
   "outputs": [],
   "source": []
  }
 ],
 "metadata": {
  "kernelspec": {
   "display_name": "Python 3",
   "language": "python",
   "name": "python3"
  },
  "language_info": {
   "codemirror_mode": {
    "name": "ipython",
    "version": 3
   },
   "file_extension": ".py",
   "mimetype": "text/x-python",
   "name": "python",
   "nbconvert_exporter": "python",
   "pygments_lexer": "ipython3",
   "version": "3.12.8"
  }
 },
 "nbformat": 4,
 "nbformat_minor": 2
}
