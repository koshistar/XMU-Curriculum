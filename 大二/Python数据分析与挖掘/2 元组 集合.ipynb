{
 "cells": [
  {
   "cell_type": "markdown",
   "metadata": {},
   "source": [
    "### (1)元组\n",
    "* 圆括号括起来的一组元素，元素可以是变量，常量或者其他Python对象（object），元素之间用逗号分隔。\n",
    "* 与列表的区别是元组或其元素不可修改，使用方法类似于列表，但由于元组不可修改，所以列表的方法大多不可用。\n",
    "* 可通过内置函数list将元组转化为列表，也可通过tuple函数将列表转为元组。\n",
    "* 可以利用元组可以给多个变量赋值。"
   ]
  },
  {
   "cell_type": "code",
   "execution_count": 1,
   "metadata": {},
   "outputs": [
    {
     "name": "stdout",
     "output_type": "stream",
     "text": [
      "(1, 2, 3, 4, 1, 2, 3, 4)\n",
      "1 2 4\n",
      "1 2 3 4\n"
     ]
    },
    {
     "ename": "AttributeError",
     "evalue": "'tuple' object has no attribute 'append'",
     "output_type": "error",
     "traceback": [
      "\u001b[1;31m---------------------------------------------------------------------------\u001b[0m",
      "\u001b[1;31mAttributeError\u001b[0m                            Traceback (most recent call last)",
      "\u001b[1;32m<ipython-input-1-f1e922dcbc0e>\u001b[0m in \u001b[0;36m<module>\u001b[1;34m()\u001b[0m\n\u001b[0;32m      3\u001b[0m \u001b[0mprint\u001b[0m\u001b[1;33m(\u001b[0m\u001b[0ms\u001b[0m\u001b[1;33m[\u001b[0m\u001b[1;36m0\u001b[0m\u001b[1;33m]\u001b[0m\u001b[1;33m,\u001b[0m\u001b[0ms\u001b[0m\u001b[1;33m[\u001b[0m\u001b[1;36m1\u001b[0m\u001b[1;33m]\u001b[0m\u001b[1;33m,\u001b[0m\u001b[0ms\u001b[0m\u001b[1;33m[\u001b[0m\u001b[1;33m-\u001b[0m\u001b[1;36m1\u001b[0m\u001b[1;33m]\u001b[0m\u001b[1;33m)\u001b[0m\u001b[1;33m\u001b[0m\u001b[0m\n\u001b[0;32m      4\u001b[0m \u001b[0mprint\u001b[0m\u001b[1;33m(\u001b[0m\u001b[1;33m*\u001b[0m\u001b[0ms\u001b[0m\u001b[1;33m)\u001b[0m\u001b[1;33m\u001b[0m\u001b[0m\n\u001b[1;32m----> 5\u001b[1;33m \u001b[0ms\u001b[0m\u001b[1;33m.\u001b[0m\u001b[0mappend\u001b[0m\u001b[1;33m(\u001b[0m\u001b[1;36m5\u001b[0m\u001b[1;33m)\u001b[0m\u001b[1;33m\u001b[0m\u001b[0m\n\u001b[0m",
      "\u001b[1;31mAttributeError\u001b[0m: 'tuple' object has no attribute 'append'"
     ]
    }
   ],
   "source": [
    "s=(1,2,3,4)\n",
    "print(s+s)\n",
    "print(s[0],s[1],s[-1])\n",
    "print(*s)\n",
    "s.append(5)          #元组是不可修改的，没有append方法，该行执行时会报错"
   ]
  },
  {
   "cell_type": "markdown",
   "metadata": {},
   "source": [
    "### (2)集合\n",
    "* 集合是由大括号括起来的无重复值的无序序列，每个元素之间用逗号分隔，概念上类似与数学里的集合。\n",
    "* 两个集合可以执行联合、交集以及集合求差等操作。\n",
    "* 可以用同名内置函数set将列表等转化为集合。"
   ]
  },
  {
   "cell_type": "code",
   "execution_count": 2,
   "metadata": {
    "scrolled": true
   },
   "outputs": [
    {
     "name": "stdout",
     "output_type": "stream",
     "text": [
      "{1, 2, 3, 4, 5, 6}\n"
     ]
    }
   ],
   "source": [
    "#例题，将lista中的重复数字去掉，lista=[1,1,3,4,1,2,4,5,6,3,6]\n",
    "\n",
    "lista=[1,1,3,4,1,2,4,5,6,3,6]\n",
    "print(set(lista))"
   ]
  },
  {
   "cell_type": "markdown",
   "metadata": {},
   "source": [
    "#### 练习1 读取用户的输入的一行英文句子，统计句子中有多少不同的字符.\n",
    "    输入样例：The car is red.\n",
    "    输出样例：11"
   ]
  },
  {
   "cell_type": "code",
   "execution_count": 5,
   "metadata": {},
   "outputs": [
    {
     "name": "stdout",
     "output_type": "stream",
     "text": [
      "11\n"
     ]
    }
   ],
   "source": [
    "s=input(\"请输入一行英文句子:\")\n",
    "list = set()\n",
    "for letter in s:\n",
    "    list.add(letter)\n",
    "print(len(list))"
   ]
  },
  {
   "cell_type": "code",
   "execution_count": 3,
   "metadata": {},
   "outputs": [
    {
     "name": "stdout",
     "output_type": "stream",
     "text": [
      "s= {1, 2, 3, -1}\n",
      "t= {4, 5, 6}\n",
      "s.add(4), s= {1, 2, 3, 4, -1}\n",
      "s.add(1), s= {1, 2, 3, 4, -1}\n",
      "s.remove(-1), s= {1, 2, 3, 4}\n",
      "s1=s.copy(),s1=: {1, 2, 3, 4}\n",
      "s1.update(t), s1= {1, 2, 3, 4, 5, 6}\n",
      "s2=s.copy(),s2=: {1, 2, 3, 4}\n",
      "s2|=t, s2= {1, 2, 3, 4, 5, 6}\n",
      "len(s)= 4\n",
      "4 in s : True\n",
      "{4,5,6} < t: False\n",
      "{4,5,6} <= t: True\n",
      "{4,5,6,7} > t: True\n",
      "{1,2}.issubset(s): True\n",
      "s.issuperset({1,2}): True\n",
      "s.union(t): {1, 2, 3, 4, 5, 6}\n",
      "s.intersection(t): {4}\n",
      "s-t: {1, 2, 3}\n",
      "s^t: {1, 2, 3, 5, 6}\n"
     ]
    }
   ],
   "source": [
    "#集合的其它操作举例，有兴趣的同学自学\n",
    "s={-1,1,2,3}\n",
    "t={4,5,6}\n",
    "print('s=',s)\n",
    "print('t=',t)\n",
    "\n",
    "s.add(4)\n",
    "print('s.add(4), s=',s)\n",
    "s.add(1)\n",
    "print('s.add(1), s=',s)\n",
    "s.remove(-1)\n",
    "print('s.remove(-1), s=',s)\n",
    "\n",
    "s1=s.copy()\n",
    "print(\"s1=s.copy(),s1=:\",s1)\n",
    "s1.update(t)\n",
    "print('s1.update(t), s1=',s1)\n",
    "s2=s.copy()\n",
    "print(\"s2=s.copy(),s2=:\",s2)\n",
    "s2|=t\n",
    "print('s2|=t, s2=',s2)\n",
    "\n",
    "print('len(s)=',len(s))\n",
    "print('4 in s :',4 in s)\n",
    "\n",
    "print('{4,5,6} < t:',{4,5,6} < t)\n",
    "print('{4,5,6} <= t:',{4,5,6} <= t)\n",
    "print('{4,5,6,7} > t:',{4,5,6,7} > t)\n",
    "\n",
    "print('{1,2}.issubset(s):',{1,2}.issubset(s))\n",
    "print('s.issuperset({1,2}):',s.issuperset({1,2}))\n",
    "\n",
    "print(\"s.union(t):\",s.union(t))\n",
    "\n",
    "print(\"s.intersection(t):\",s.intersection(t))\n",
    "print('s-t:',s-t)\n",
    "print('s^t:',s^t)"
   ]
  }
 ],
 "metadata": {
  "kernelspec": {
   "display_name": "Python 3",
   "language": "python",
   "name": "python3"
  },
  "language_info": {
   "codemirror_mode": {
    "name": "ipython",
    "version": 3
   },
   "file_extension": ".py",
   "mimetype": "text/x-python",
   "name": "python",
   "nbconvert_exporter": "python",
   "pygments_lexer": "ipython3",
   "version": "3.12.8"
  }
 },
 "nbformat": 4,
 "nbformat_minor": 1
}
