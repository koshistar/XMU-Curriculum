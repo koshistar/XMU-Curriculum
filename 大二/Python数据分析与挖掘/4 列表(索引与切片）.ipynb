{
 "cells": [
  {
   "cell_type": "markdown",
   "metadata": {},
   "source": [
    "### 列表（list）\n",
    "* 方括号括起来的一组元素，元素可以是变量，常量或者其他Python对象（object），元素之间用逗号分隔。\n",
    "* 列表类似于数组，但是没有固定大小，元素也没有类型限制。\n",
    "* 可以利用[]和下标访问列表中的元素。\n",
    "\n",
    "\n",
    "#### 索引与切片\n",
    "* 下标的起始值为0，若为负数时，即为倒序引用。\n",
    "* 列表元素的值可以修改，也可以利用列表给多个变量赋值。\n",
    "* 列表元素也可以是列表或者其他的数据结构。\n",
    "<table>\n",
    "    <tr>\n",
    "      <td width=\"20%\"><p align=\"left\">  列表的索引与切片 </td>\n",
    "      <td width=\"80%\"><p align=\"left\">  功能 </td>\n",
    "    </tr>\n",
    "    <tr>\n",
    "      <td><p align=\"left\">  s[i] </td>\n",
    "      <td><p align=\"left\">s的第 i 个元素（从 0 开始计算）。 </td>\n",
    "    </tr>\n",
    "    <tr>\n",
    "      <td><p align=\"left\">  s[i:j] </td>\n",
    "      <td><p align=\"left\">从i 到 j 的切片（不包括j） </td>\n",
    "    </tr>\n",
    "    <tr>\n",
    "      <td><p align=\"left\">  s[i:j:k] </td>\n",
    "      <td><p align=\"left\">从i 到 j 的切片（不包括j），步长为k </td>\n",
    "    </tr>\n",
    " \n",
    "</table>\n"
   ]
  },
  {
   "cell_type": "code",
   "execution_count": 9,
   "metadata": {},
   "outputs": [
    {
     "name": "stdout",
     "output_type": "stream",
     "text": [
      "1 2 10\n",
      "[2, 3] [1, 2, 3] [4, 5, 6, 7, 8, 9, 10]\n"
     ]
    }
   ],
   "source": [
    "a=[1,2,3,4,5,6,7,8,9,10]\n",
    "print(a[0],a[1],a[-1])\n",
    "print(a[1:3],a[:3],a[3:])"
   ]
  },
  {
   "cell_type": "code",
   "execution_count": 10,
   "metadata": {},
   "outputs": [
    {
     "name": "stdout",
     "output_type": "stream",
     "text": [
      "1 2 True\n",
      "[2, 'a'] [1, 2, 'a'] ['abc', None, True]\n"
     ]
    }
   ],
   "source": [
    "a=[1,2,'a','abc',None,True]\n",
    "print(a[0],a[1],a[-1])\n",
    "print(a[1:3],a[:3],a[3:])"
   ]
  },
  {
   "cell_type": "markdown",
   "metadata": {},
   "source": [
    "#### 练习1，输入一个1到7的数字，输出对应的星期名的缩写\n",
    "```\n",
    "提示：可以先创建星期名的列表 [\"Mon\",\"Tue\",\"Wed\",\"Thu\",\"Fri\",\"Sat\", \"Sun\"]\n",
    "\n",
    "输入样例：1\n",
    "输出样例：Mon\n",
    "```"
   ]
  },
  {
   "cell_type": "code",
   "execution_count": 2,
   "metadata": {},
   "outputs": [
    {
     "name": "stdout",
     "output_type": "stream",
     "text": [
      "Mon\n"
     ]
    }
   ],
   "source": [
    "week=[\"Mon\",\"Tue\",\"Wed\",\"Thu\",\"Fri\",\"Sat\",\"Sun\"]\n",
    "x=int(input(\"请输入一个1-7的数字:\"))\n",
    "print(week[x-1])"
   ]
  },
  {
   "cell_type": "code",
   "execution_count": 29,
   "metadata": {},
   "outputs": [
    {
     "name": "stdout",
     "output_type": "stream",
     "text": [
      "Please input month and day: 3 8\n",
      "67\n"
     ]
    }
   ],
   "source": [
    "#例题：输入m(月)、n(日)，计算m月n日是一年的第几天，不考虑闰年。\n",
    "calendar=[0, 31 , 28, 31, 30, 31, 30, 31, 31, 30, 31, 30, 31]      #各月的天数\n",
    "m,n=input(\"Please input month and day: \").split()              #输入的两数之间用空格分隔\n",
    "month=int(m)\n",
    "day=int(n)\n",
    "result= sum(calendar[:month]) + day                           #用sum求前n-1个月天数之和\n",
    "print(result)\n"
   ]
  }
 ],
 "metadata": {
  "kernelspec": {
   "display_name": "Python 3",
   "language": "python",
   "name": "python3"
  },
  "language_info": {
   "codemirror_mode": {
    "name": "ipython",
    "version": 3
   },
   "file_extension": ".py",
   "mimetype": "text/x-python",
   "name": "python",
   "nbconvert_exporter": "python",
   "pygments_lexer": "ipython3",
   "version": "3.12.8"
  }
 },
 "nbformat": 4,
 "nbformat_minor": 1
}
