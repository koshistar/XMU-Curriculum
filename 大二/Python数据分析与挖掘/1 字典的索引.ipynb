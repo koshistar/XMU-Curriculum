{
 "cells": [
  {
   "cell_type": "markdown",
   "metadata": {},
   "source": [
    "### (1)创建字典\n",
    "* 字典 是大括号{}括起来的键（key）值（value）对的无序集合，键值对之间用逗号分隔，键和值之间用冒号分隔。\n",
    "* 向字典添加一个键的同时，必须为该键增添一个值。（之后可随时修改该值。）。\n",
    "* 可以用同名内置函数dict将列表，元组等转化为字典。"
   ]
  },
  {
   "cell_type": "code",
   "execution_count": 1,
   "metadata": {},
   "outputs": [
    {
     "name": "stdout",
     "output_type": "stream",
     "text": [
      "{'福州': 710.1, '南昌': 536, '厦门': 261.1, '成都': 1500.1}\n",
      "{'1路': ['火车站', '金榜公园', '文灶', '将军祠', '文化宫', '中山公园', '镇海路', '博物馆', '厦大'], '759路': ['厦大西村', '软件园', '高林', '厦大翔安校区'], '30路': ['会展中心', '瑞景商业广场', '火车站'], '3路': ['文化宫', '火车站', '文灶', '中山公园', '轮渡'], '100路': ['轮渡', '东渡', '海沧', '']}\n"
     ]
    }
   ],
   "source": [
    "#例题1，创建城市人口字典population\n",
    "population={\"福州\":710.1,\"南昌\":536,\"厦门\":261.1,\"成都\":1500.1}\n",
    "print(population)\n",
    "\n",
    "#例题2，创建公交线路字典\n",
    "dict1={\"1路\":\"火车站-厦大\",\"2路\":\"厦大-海沧\",\"快1\":\"轮渡-会展中心\"}\n",
    "#print(dict1)                                                       #删除行首的#注释号，可见输出结果\n",
    "\n",
    "#例题3，创建公交线路字典，包括1、759、30、3、100各路公交车途经的站点\n",
    "line={'1路': ['火车站', '金榜公园', '文灶', '将军祠', '文化宫', '中山公园', '镇海路', '博物馆', '厦大'],\\\n",
    "      '759路': ['厦大西村', '软件园', '高林', '厦大翔安校区'], \\\n",
    "      '30路': ['会展中心', '瑞景商业广场', '火车站'], \\\n",
    "      '3路': ['文化宫', '火车站', '文灶', '中山公园', '轮渡'], \\\n",
    "      '100路': ['轮渡', '东渡', '海沧', '']}\n",
    "print(line)                                                      #删除行首的#注释号，可见输出结果"
   ]
  },
  {
   "cell_type": "code",
   "execution_count": 2,
   "metadata": {},
   "outputs": [
    {
     "name": "stdout",
     "output_type": "stream",
     "text": [
      "{'one': 1, 'two': 2, 'three': 3}\n"
     ]
    }
   ],
   "source": [
    "a=dict(one=1, two=2, three=3)        #含键值对的元组转字典\n",
    "b={}                                 #空字典\n",
    "print(a)"
   ]
  },
  {
   "cell_type": "markdown",
   "metadata": {},
   "source": [
    "###  (2) 字典的索引： 字典名[关键字]\n",
    "\n",
    "<table align='center'>\n",
    "    <tr>\n",
    "      <td width=\"30%\"><p align=\"left\">  索引（d是字典名） </td>\n",
    "      <td width=\"70%\"><p align=\"left\"> 执行结果 </td>\n",
    "    </tr>\n",
    "<tr><td width=\"30%\"><p align=\"left\"> d[key] </td><td width=\"70%\" style=\"vertical-align:left; text-align:middle;\">返回key对应的value. 如果key不在d中，则抛出异常</td></tr>\n",
    "</table>\n"
   ]
  },
  {
   "cell_type": "code",
   "execution_count": 6,
   "metadata": {},
   "outputs": [
    {
     "name": "stdout",
     "output_type": "stream",
     "text": [
      "请输入要查的城市名:厦门\n",
      "261.1 万\n"
     ]
    }
   ],
   "source": [
    "#例题1：创建字典population，输入城市名，显示其人口数：\n",
    "population={\"福州\":710.1,\"南昌\":536,\"厦门\":261.1,\"成都\":1500.1}\n",
    "name=input(\"请输入要查的城市名:\")\n",
    "print(population[name],\"万\")"
   ]
  },
  {
   "cell_type": "code",
   "execution_count": 7,
   "metadata": {},
   "outputs": [
    {
     "name": "stdout",
     "output_type": "stream",
     "text": [
      "请输入要查的线路：1路\n",
      "火车站-厦大\n"
     ]
    }
   ],
   "source": [
    "#例题2：创建公交线路字典dict1，输入线路名称，输出该线路的起、终点站。\n",
    "dict1={\"1路\":\"火车站-厦大\",\"2路\":\"厦大-海沧\",\"快1\":\"轮渡-会展中心\"}\n",
    "line_name=input(\"请输入要查的线路：\")\n",
    "print(dict1[line_name])"
   ]
  },
  {
   "cell_type": "markdown",
   "metadata": {},
   "source": [
    "### 练习1\n",
    "\n",
    "    创建公交线路字典line，包括1、759、30、3、100各路公交车途经的站点。\n",
    "    输入线路名，输出该路车途经的站点。\n",
    "        \n",
    "    输入样例：\n",
    "        1路\n",
    "    输出样例：\n",
    "        ['火车站', '金榜公园', '文灶', '将军祠', '文化宫', '中山公园', '镇海路', '博物馆', '厦大']"
   ]
  },
  {
   "cell_type": "code",
   "execution_count": null,
   "metadata": {},
   "outputs": [
    {
     "name": "stdout",
     "output_type": "stream",
     "text": [
      "['火车站', '金榜公园', '文灶', '将军祠', '文化宫', '中山公园', '镇海路', '博物馆', '厦大']\n"
     ]
    }
   ],
   "source": [
    "line={'1路': ['火车站', '金榜公园', '文灶', '将军祠', '文化宫', '中山公园', '镇海路', '博物馆', '厦大'],\\\n",
    "      '759路': ['厦大西村', '软件园', '高林', '厦大翔安校区'], \\\n",
    "      '30路': ['会展中心', '瑞景商业广场', '火车站'], \\\n",
    "      '3路': ['文化宫', '火车站', '文灶', '中山公园', '轮渡'], \\\n",
    "      '100路': ['轮渡', '东渡', '海沧', '']}\n",
    "line_name=input(\"请输入要查询的线路名:\")\n",
    "if line_name in line.keys():\n",
    "    print(line[line_name])\n",
    "else:\n",
    "    print(\"错误的线路名。\")"
   ]
  },
  {
   "cell_type": "markdown",
   "metadata": {},
   "source": [
    "### 练习2\n",
    "    输入一个1到7的数字，输出对应的星期名的英文 缩写\n",
    "    \n",
    "    输入样例：1\n",
    "    输出样例：Mon\n",
    "* 提示：创建days={1:\"Mon\",2:\"Tue\",3:\"Wed\",4:\"Thu\",5:\"Fri\",6:\"Sat\", 7:\"Sun\"} ，使用字典的索引"
   ]
  },
  {
   "cell_type": "code",
   "execution_count": 6,
   "metadata": {},
   "outputs": [
    {
     "name": "stdout",
     "output_type": "stream",
     "text": [
      "Mon\n"
     ]
    }
   ],
   "source": [
    "days={1:\"Mon\",2:\"Tue\",3:\"Wed\",4:\"Thu\",5:\"Fri\",6:\"Sat\",7:\"Sun\"}\n",
    "x=int(input(\"请输入1-7的数字:\"))\n",
    "if x>=1 or x<=7:\n",
    "    print(days[x])\n",
    "else:\n",
    "    print(\"输入错误\")"
   ]
  },
  {
   "cell_type": "code",
   "execution_count": null,
   "metadata": {},
   "outputs": [],
   "source": []
  }
 ],
 "metadata": {
  "kernelspec": {
   "display_name": "Python 3",
   "language": "python",
   "name": "python3"
  },
  "language_info": {
   "codemirror_mode": {
    "name": "ipython",
    "version": 3
   },
   "file_extension": ".py",
   "mimetype": "text/x-python",
   "name": "python",
   "nbconvert_exporter": "python",
   "pygments_lexer": "ipython3",
   "version": "3.12.8"
  }
 },
 "nbformat": 4,
 "nbformat_minor": 4
}
