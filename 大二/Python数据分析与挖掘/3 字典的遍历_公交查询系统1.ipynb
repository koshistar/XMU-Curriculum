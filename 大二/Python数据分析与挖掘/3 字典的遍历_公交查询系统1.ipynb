{
 "cells": [
  {
   "cell_type": "markdown",
   "metadata": {},
   "source": [
    "# 字典相关知识：\n",
    "\n",
    "####  (1) 提取字典的所有的关键字、所有值、或（关键字,值）：\n",
    "    字典名.keys()：  返回一个包含字典所有关键字的可迭代对象。\n",
    "    字典名.values()：返回一个包含字典所有值的可迭代对象。\n",
    "    字典名.items()： 返回字典的items对象，包含所有(key, value) 对\n",
    "（见例题1）\n",
    "####  (2) 循环遍历字典的所有的关键字、所有值、或（关键字,值）：\n",
    "    for i in 字典对象，可用遍历所有的键\n",
    "    for k in 字典名.keys()，可用遍历所有的键\n",
    "    for v in 字典名.values()，可用遍历所有的值\n",
    "    for k,v in 字典名.items()，可用遍历所有的（关键字,值）对\n",
    "（见例题3）"
   ]
  },
  {
   "cell_type": "code",
   "execution_count": 3,
   "metadata": {},
   "outputs": [
    {
     "name": "stdout",
     "output_type": "stream",
     "text": [
      "{'1路': '火车站-厦大', '2路': '厦大-海沧', '快1': '轮渡-会展中心'}\n",
      "dict_keys(['1路', '2路', '快1'])\n",
      "dict_values(['火车站-厦大', '厦大-海沧', '轮渡-会展中心'])\n",
      "dict_items([('1路', '火车站-厦大'), ('2路', '厦大-海沧'), ('快1', '轮渡-会展中心')])\n"
     ]
    }
   ],
   "source": [
    "#例题1\n",
    "dict1={\"1路\":\"火车站-厦大\",\"2路\":\"厦大-海沧\",\"快1\":\"轮渡-会展中心\"}\n",
    "print(dict1)\n",
    "print(dict1.keys())\n",
    "print(dict1.values())\n",
    "print(dict1.items())"
   ]
  },
  {
   "cell_type": "code",
   "execution_count": 17,
   "metadata": {},
   "outputs": [
    {
     "name": "stdout",
     "output_type": "stream",
     "text": [
      "请输入查询的线路名称：1路\n",
      "火车站-厦大\n"
     ]
    }
   ],
   "source": [
    "#例题2：编写站点查询函数，调用该函数，输入线路名，输出该线路的起终点。\n",
    "#输入样例：1路\n",
    "#输出样例：火车站-厦大\n",
    "\n",
    "dict1={\"1路\":\"火车站-厦大\",\"2路\":\"厦大-海沧\",\"快1\":\"轮渡-会展中心\"}\n",
    "def 样例_findLine():\n",
    "    name=input(\"请输入查询的线路名称：\")\n",
    "    if name in dict1.keys():               #用in运算，判断dict1的key内是否有该线路名\n",
    "        print(dict1[name])                 #根据key提取值\n",
    "    else:\n",
    "        print(\"输入错误，无此线路\")\n",
    "\n",
    "样例_findLine()"
   ]
  },
  {
   "cell_type": "markdown",
   "metadata": {},
   "source": [
    "#### 练习1，编写站点查询findline函数，调用该函数，输入线路名，输出线路经过的站点名\n",
    "下面字典line中key是线路名称，value是列表（线路经过的站点名）\n",
    "\n",
    "    输入样例：759路\n",
    "    输出样例：['厦大西村', '软件园', '高林', '厦大翔安校区']"
   ]
  },
  {
   "cell_type": "code",
   "execution_count": 1,
   "metadata": {},
   "outputs": [
    {
     "name": "stdout",
     "output_type": "stream",
     "text": [
      "['厦大西村', '软件园', '高林', '厦大翔安校区']\n"
     ]
    }
   ],
   "source": [
    "line={'1路': ['火车站', '金榜公园', '文灶', '将军祠', '文化宫', '中山公园', '镇海路', '博物馆', '厦大'],\\\n",
    "      '759路': ['厦大西村', '软件园', '高林', '厦大翔安校区'],\\\n",
    "      '30路': ['会展中心', '瑞景商业广场', '火车站'],\\\n",
    "      '3路': ['文化宫', '火车站', '文灶', '中山公园', '轮渡'], \\\n",
    "      '100路': ['轮渡', '东渡', '海沧', '']}\n",
    "\n",
    "def findLine():                   #请填写函数\n",
    "      line_name=input(\"请输入查询的线路名称\")\n",
    "      if line_name in line:\n",
    "            print(line[line_name])\n",
    "      else:\n",
    "            print(\"输入错误，无此线路\")\n",
    "findLine()                     #函数调用"
   ]
  },
  {
   "cell_type": "code",
   "execution_count": 15,
   "metadata": {},
   "outputs": [
    {
     "name": "stdout",
     "output_type": "stream",
     "text": [
      "-----------------遍历提取 键值，并输出-----------------\n",
      "1路\n",
      "2路\n",
      "快1\n",
      "\n",
      "-----------------遍历提取 值，并输出---------------\n",
      "火车站-厦大\n",
      "厦大-海沧\n",
      "轮渡-会展中心\n",
      "\n",
      "-----------------遍历提取 (键,值)对，并输出-----------\n",
      "('1路', '火车站-厦大')\n",
      "('2路', '厦大-海沧')\n",
      "('快1', '轮渡-会展中心')\n",
      "\n",
      " -----------------k遍历提取'键'、v遍历提取'值'，可分开使用-----------\n",
      "1路的起终点是：火车站-厦大\n",
      "2路的起终点是：厦大-海沧\n",
      "快1的起终点是：轮渡-会展中心\n"
     ]
    }
   ],
   "source": [
    "#例题3\n",
    "print(\"-----------------遍历提取 键值，并输出-----------------\")\n",
    "for i in dict1.keys():\n",
    "    print(i)\n",
    "    \n",
    "print(\"\\n-----------------遍历提取 值，并输出---------------\")    \n",
    "for i in dict1.values():\n",
    "    print(i)\n",
    "    \n",
    "print(\"\\n-----------------遍历提取 (键,值)对，并输出-----------\")       \n",
    "for i in dict1.items():\n",
    "    print(i)\n",
    "    \n",
    "print(\"\\n -----------------k遍历提取'键'、v遍历提取'值'，可分开使用-----------\")  \n",
    "i=0\n",
    "for k,v in dict1.items():                  #循环中同时需要key、value及其对应关系时使用\n",
    "    print(f\"{k}的起终点是：{v}\")      #{变量}是占位符，此处输出 变量的值\n",
    "    i+=1\n",
    "    "
   ]
  },
  {
   "cell_type": "code",
   "execution_count": 20,
   "metadata": {},
   "outputs": [
    {
     "name": "stdout",
     "output_type": "stream",
     "text": [
      "请输入查询的站点名称：轮渡\n",
      "['快1', '19路']\n"
     ]
    }
   ],
   "source": [
    "#例题4：编写站点查询函数，调用该函数，输入站点，输出起、终点在该站点的线路。\n",
    "#输入样例：厦大\n",
    "#输出样例：['1路', '2路']\n",
    "\n",
    "dict1={\"1路\":\"火车站-厦大\",\"2路\":\"厦大-海沧\",\"快1\":\"轮渡-会展中心\",\"19路\":\"轮渡-会展中心\"}\n",
    "\n",
    "def 样例_findStation():\n",
    "    pass_line=[]                                                 #空列表，用于存经过的 线路名\n",
    "    stationname=input(\"请输入查询的站点名称：\")\n",
    "    for key,value in dict1.items():                              #循环中同时需要key、value\n",
    "        if stationname in value:                                 #字典的value（站点）中查找\n",
    "            pass_line.append(key)                                #添加对应的key（线路名）\n",
    "    print(pass_line)\n",
    "    \n",
    "样例_findStation()                                               #调用函数"
   ]
  },
  {
   "cell_type": "markdown",
   "metadata": {},
   "source": [
    "#### 练习2，模仿上面的例题，编写站点查询函数findStation()，调用该函数，输入站点，输出经过该站点的线路\n",
    "下面字典line中key是线路名称，value是列表（线路经过的站点名）\n",
    "\n",
    "    输入样例：火车站\n",
    "    输出样例：['1路', '30路', '3路']"
   ]
  },
  {
   "cell_type": "code",
   "execution_count": 2,
   "metadata": {},
   "outputs": [
    {
     "name": "stdout",
     "output_type": "stream",
     "text": [
      "['1路', '30路', '3路']\n"
     ]
    }
   ],
   "source": [
    "line={'1路': ['火车站', '金榜公园', '文灶', '将军祠', '文化宫', '中山公园', '镇海路', '博物馆', '厦大'], \\\n",
    "      '759路': ['厦大西村', '软件园', '高林', '厦大翔安校区'], \\\n",
    "      '30路': ['会展中心', '瑞景商业广场', '火车站'],\\\n",
    "      '3路': ['文化宫', '火车站', '文灶', '中山公园', '轮渡'],\\\n",
    "      '100路': ['轮渡', '东渡', '海沧', '']}\n",
    "\n",
    "def findStation():            #请填写函数\n",
    "      pass_line=[]\n",
    "      stationName=input(\"请输入查询的站点名称:\")\n",
    "      for key,value in line.items():\n",
    "            if stationName in value:\n",
    "                  pass_line.append(key)\n",
    "      print(pass_line)    \n",
    "findStation()"
   ]
  },
  {
   "cell_type": "markdown",
   "metadata": {},
   "source": [
    "### 例题：编写query函数，调用findStation与findLine，实现线路与站点查询功能\n",
    "    ---------------------1、线路查询------------------\n",
    "    \n",
    "    ---------------------2、站点查询------------------\n",
    "    \n",
    "    输入样例：\n",
    "    请输入您选择的功能序号（1 或 2 ）：1\n",
    "    请输入查询的线路名称：1路\n",
    "        \n",
    "    输出样例：\n",
    "    ['火车站', '金榜公园', '文灶', '将军祠', '文化宫', '中山公园', '镇海路', '博物馆', '厦大']"
   ]
  },
  {
   "cell_type": "code",
   "execution_count": 4,
   "metadata": {},
   "outputs": [
    {
     "name": "stdout",
     "output_type": "stream",
     "text": [
      "\n",
      "    ---------------------1、线路查询------------------\n",
      "    \n",
      "    ---------------------2、站点查询------------------\n",
      "    \n",
      "['1路', '30路', '3路']\n"
     ]
    }
   ],
   "source": [
    "def query():\n",
    "    menu='''\n",
    "    ---------------------1、线路查询------------------\n",
    "    \n",
    "    ---------------------2、站点查询------------------\n",
    "    '''\n",
    "    print(menu)\n",
    "    x=input(\"请输入您选择的功能序号（1 或 2 ）\")\n",
    "    if x=='1':\n",
    "        findLine()\n",
    "    elif x=='2':\n",
    "        findStation()\n",
    "    else:\n",
    "        print(\"功能选择错误\")\n",
    "        \n",
    "query()"
   ]
  },
  {
   "cell_type": "code",
   "execution_count": null,
   "metadata": {},
   "outputs": [],
   "source": []
  }
 ],
 "metadata": {
  "kernelspec": {
   "display_name": "Python 3",
   "language": "python",
   "name": "python3"
  },
  "language_info": {
   "codemirror_mode": {
    "name": "ipython",
    "version": 3
   },
   "file_extension": ".py",
   "mimetype": "text/x-python",
   "name": "python",
   "nbconvert_exporter": "python",
   "pygments_lexer": "ipython3",
   "version": "3.12.8"
  }
 },
 "nbformat": 4,
 "nbformat_minor": 2
}
