{
 "cells": [
  {
   "cell_type": "markdown",
   "metadata": {},
   "source": [
    "## 一、数据类型\n",
    "#### 创建不同类型的数据\n",
    "    整型  （int）  : 12\n",
    "    浮点型（float）: 12.3\n",
    "    字符串（str）  : 使用单引号、双引号和三引号（三个单引号或三个双引号）为定界符，用三引号括起来的字符串可以是多行的。\n",
    "                        例如，'a'   \"abc\"   '''abc'''\n",
    "    布尔  （bool） : True  False   \n",
    "    列表  （list） : 写在中括号之间、用逗号分隔的元素序列。  例如，[1,'a',True]  \n",
    "    元组  （tuple）: 写在小括号之间、用逗号隔开的元素序列。  例如，(1,'a',True)  \n",
    "    字典  （dict） : 写在大括号之间、用逗号分隔的“关键字:值”对元素集合。  例如，{'name':'brenden' , 'code':410012 , 'dept':'sales'} \n",
    "    集合  （set ） : 写在大括号之间、用逗号隔开的元素序列。   例如，{'Rose', 'Jim', 'Jack', 'Tom', 'Mary'}\n",
    "#### 查看对象的数据类型\n",
    "    type(对象)"
   ]
  },
  {
   "cell_type": "code",
   "execution_count": 6,
   "metadata": {},
   "outputs": [
    {
     "name": "stdout",
     "output_type": "stream",
     "text": [
      "12\n",
      "12.3\n",
      "<class 'int'> <class 'float'> <class 'str'>\n"
     ]
    }
   ],
   "source": [
    "#例题1：各种基本数据类型举例\n",
    "x=12\n",
    "y=12.3\n",
    "\n",
    "print(x,y,sep='\\n')                #输出各变量的值，用换行回车符分隔\n",
    "print(type(x),type(y))"
   ]
  },
  {
   "cell_type": "code",
   "execution_count": 1,
   "metadata": {},
   "outputs": [
    {
     "name": "stdout",
     "output_type": "stream",
     "text": [
      "abc\n",
      "\n",
      "\n",
      "                                          \n",
      "      hello                                 \n",
      "      world\n",
      "      !\n",
      "\n",
      "<class 'str'> <class 'str'>\n"
     ]
    }
   ],
   "source": [
    "#例题2，字符串\n",
    "s1='abc'\n",
    "s2=\"\\n\"\n",
    "#用三引号括起来的字符串可以是多行的。\n",
    "s3='''                                          \n",
    "      hello                                 \n",
    "      world\n",
    "      !\n",
    "'''\n",
    "print(s1,s2,s3,sep='\\n')                #输出各变量的值，用换行回车符分隔\n",
    "print(type(s1),type(s3))"
   ]
  },
  {
   "cell_type": "code",
   "execution_count": 8,
   "metadata": {},
   "outputs": [
    {
     "name": "stdout",
     "output_type": "stream",
     "text": [
      "True\n",
      "[]\n",
      "[1, 2, 3, 7, 0]\n",
      "[1, 'a', True, [4, 5], 0.3]\n",
      "(1, 2, 3, 7, 0)\n",
      "{'name': 'brenden', 'code': 410012, 'dept': 'sales'}\n",
      "{'Mary', 'Rose', 'Tom', 'Jim', 'Jack'}\n",
      "<class 'bool'> <class 'list'> <class 'tuple'> <class 'dict'> <class 'set'>\n"
     ]
    }
   ],
   "source": [
    "#例题3：各种python数据类型举例\n",
    "b=True\n",
    "l1=[]                                           #空列表\n",
    "l2=[1,2,3,7,0]                                  #只包含int元素的列表\n",
    "l3=[1,'a',True,[4,5],0.3]                      #列表中元素数据类型可以不一样，可以是任何类型\n",
    "t=(1,2,3,7,0)                                   #元组，不可变的序列\n",
    "d1={}                                                #空字典\n",
    "d={'name':'brenden' , 'code':410012 , 'dept':'sales'}    #字典\n",
    "set1={'Rose', 'Jim', 'Jack', 'Tom', 'Mary'}                #集合\n",
    "\n",
    "print(b,l1,l2,l3,t,d,set1,sep='\\n')                #输出各变量的值，用换行回车符分隔\n",
    "print(type(b),type(l2),type(t),type(d),type(set1))"
   ]
  },
  {
   "cell_type": "markdown",
   "metadata": {},
   "source": [
    "### 练习1：模仿上面的例题，在下面的cell中，每种数据类型各写一个例子。\n"
   ]
  },
  {
   "cell_type": "code",
   "execution_count": 1,
   "metadata": {},
   "outputs": [
    {
     "name": "stdout",
     "output_type": "stream",
     "text": [
      "114514\n",
      "3.1415926\n",
      "Wow, you can really dance.\n",
      "False\n",
      "[1, 'f', 6.66, True]\n",
      "(5, 1.2, 'tuple', False)\n",
      "{'name': 'ayachirenren', 'hobby': 0.721}\n",
      "{1, 2.33, '753'}\n",
      "<class 'int'> <class 'float'> <class 'str'> <class 'bool'> <class 'list'> <class 'tuple'> <class 'dict'> <class 'set'>\n"
     ]
    }
   ],
   "source": [
    "type_int=114514\n",
    "type_float=3.1415926\n",
    "type_str=\"Wow, you can really dance.\"\n",
    "type_bool=False\n",
    "type_list=[1,'f',6.66,True]\n",
    "type_tuple=(5,1.2,\"tuple\",False)\n",
    "type_dict={'name':'ayachirenren','hobby':0.721}\n",
    "type_set={1,\"753\",True,2.33}\n",
    "print(type_int,type_float,type_str,type_bool,type_list,type_tuple,type_dict,type_set,sep='\\n')\n",
    "print(type(type_int),type(type_float),type(type_str),type(type_bool),type(type_list),type(type_tuple),type(type_dict),type(type_set))"
   ]
  },
  {
   "cell_type": "markdown",
   "metadata": {},
   "source": [
    "## 二、输入与输出\n",
    "#### * 输入\n",
    "    (1) s=input([提示字符串])\n",
    "    功能：从标准输入设备（键盘）读取一行数据，并返回一个字符串（去掉结尾的换行符），赋值给s。\n",
    "        “提示字符串”是可选项。如果有“提示字符串”，则原样显示，提示用户输入数据。\n",
    "    (2) int(s) ：  将数字字符串或实数转为整数\n",
    "    (3) float(s) : 将数字字符串转为浮点数\n",
    "    (4) eval(s)  : 执行字符串的内容，可以用作去掉字符串的界定符（即去掉引号）\n",
    "#### * 输出\n",
    "    (1) print(value1, value2,……, valuen)\n",
    "    功能：将值输出到标准控制台（显示器），默认用空格分隔数据"
   ]
  },
  {
   "cell_type": "code",
   "execution_count": 2,
   "metadata": {},
   "outputs": [
    {
     "name": "stdout",
     "output_type": "stream",
     "text": [
      "请输入一个字符串3\n",
      "3 <class 'str'>\n"
     ]
    }
   ],
   "source": [
    "#例题2：输入一个字符串x\n",
    "x=input(\"请输入一个字符串\")\n",
    "\n",
    "#输出x的值与类型\n",
    "print(x,type(x))"
   ]
  },
  {
   "cell_type": "code",
   "execution_count": null,
   "metadata": {},
   "outputs": [],
   "source": [
    "#例题3：输入一个整数i，输出i的平方\n",
    "i=input(\"请输入一个整数\")                        #input的结果一定是字符串，输入12，i的值为\"12\"\n",
    "i=int(i)                                         #将i的值转为int型                                        \n",
    "print(i*i)"
   ]
  },
  {
   "cell_type": "code",
   "execution_count": null,
   "metadata": {},
   "outputs": [],
   "source": [
    "#例题4：输入一个浮点数f，输出f的平方\n",
    "f=input(\"请输入一个浮点数\")                        #input的结果一定是字符串，输入12.3，i的值为\"12.3\"\n",
    "f=float(f)                                         #将f的值转为float型                                        \n",
    "print(f*f)"
   ]
  },
  {
   "cell_type": "code",
   "execution_count": 3,
   "metadata": {},
   "outputs": [
    {
     "name": "stdout",
     "output_type": "stream",
     "text": [
      "25 0.2\n"
     ]
    }
   ],
   "source": [
    "#例题5：输入一个数n，输出n的平方、倒数\n",
    "n=input(\"请输入一个数\")                        #input的结果一定是字符串，输入12.3，i的值为\"12.3\"\n",
    "n=eval(n)                                         #将n的值转为int或float型                                        \n",
    "print(n*n,1/n)"
   ]
  },
  {
   "cell_type": "markdown",
   "metadata": {},
   "source": [
    "### 练习2：在下面的cell中编程，输入三角形边长a,b,c，输出周长\n",
    "\n",
    "    输入样例：（注：边长不一定是整数） \n",
    "    2\n",
    "    4.1\n",
    "    5\n",
    "    输出样例：\n",
    "    11.1"
   ]
  },
  {
   "cell_type": "code",
   "execution_count": 4,
   "metadata": {},
   "outputs": [
    {
     "name": "stdout",
     "output_type": "stream",
     "text": [
      "分别输入三角形的三边长。\n",
      "周长为： 11.1\n"
     ]
    }
   ],
   "source": [
    "print(\"分别输入三角形的三边长。\")\n",
    "a=eval(input(\"a: \"))\n",
    "b=eval(input(\"b: \"))\n",
    "c=eval(input(\"c: \"))\n",
    "print(\"周长为：\",(a+b+c))"
   ]
  },
  {
   "cell_type": "markdown",
   "metadata": {},
   "source": [
    "## 三、运算符\n",
    "#### 除法\n",
    "* / 运算符执行**浮点数除法**。即无论是否能整除，都将得到一个浮点数。\n",
    "* // 运算符执行**整数除法**。即无论是否能整除，都将得到一个整数（或者小数位为0的浮点数）。如果不能整除，则将小数位舍去（不是四舍五入），要特别注意这一点。\n",
    "* %为**求余运算符**。因为11除以4的余数是3，所以11%4的结果为3。\n"
   ]
  },
  {
   "cell_type": "code",
   "execution_count": 3,
   "metadata": {},
   "outputs": [
    {
     "name": "stdout",
     "output_type": "stream",
     "text": [
      "0.5 <class 'float'>\n",
      "0 <class 'int'>\n",
      "0.0 <class 'float'>\n",
      "3\n"
     ]
    }
   ],
   "source": [
    "s=1/2\n",
    "print(s,type(s))\n",
    "s=1//2\n",
    "print(s,type(s))\n",
    "s=1.0//2.0\n",
    "print(s,type(s))\n",
    "print(11%4)"
   ]
  },
  {
   "cell_type": "markdown",
   "metadata": {},
   "source": [
    "#### 乘法\n",
    "* \\* 为乘法运算符\n",
    "* ** 为幂运算符，a**n 相当于n个a相乘 。"
   ]
  },
  {
   "cell_type": "code",
   "execution_count": 4,
   "metadata": {},
   "outputs": [
    {
     "name": "stdout",
     "output_type": "stream",
     "text": [
      "9\n",
      "6561\n"
     ]
    }
   ],
   "source": [
    "print(3 ** 2)\n",
    "print(3**2**3)             # 等价于3**(2**3)"
   ]
  },
  {
   "cell_type": "markdown",
   "metadata": {},
   "source": [
    "#### 赋值运算\n",
    "* 变量=表达式\n",
    "* 复合赋值运算符：+=、-=、*=、/=、//=、%=、**=\n",
    "* 链式赋值语句：变量1=变量2=……=变量n=表达式\n",
    "* 同步赋值：变量1,变量2,……,变量n  =  表达式1,表达式2,……,表达式n"
   ]
  },
  {
   "cell_type": "code",
   "execution_count": 5,
   "metadata": {},
   "outputs": [
    {
     "name": "stdout",
     "output_type": "stream",
     "text": [
      "100 100 100\n",
      "1 2 3\n",
      "1,2,3\n",
      "1 2 3\n"
     ]
    }
   ],
   "source": [
    "# 例题6：a,b,c均赋值为100\n",
    "a=b=c=100\n",
    "print(a,b,c)\n",
    "# 例题7：用同步赋值法，将a,b,c分别赋值为1，2，3\n",
    "a,b,c=1,2,3\n",
    "print(a,b,c)\n",
    "#例题8：从键盘输入a,b,c的值\n",
    "a,b,c=eval(input())                                #输入时，数之间用逗号分隔\n",
    "print(a,b,c)"
   ]
  },
  {
   "cell_type": "markdown",
   "metadata": {},
   "source": [
    "#### 调用非内置函数:    import包含函数的模块，则可以调用其中的所有函数 \n",
    "\n",
    "    import 模块名 [as 别名]\n",
    "\n",
    " \n",
    "例如，导入标准库math\n",
    "\n",
    "    import math      \t\n",
    "* 求0.5的正弦：  math.sin(0.5)\n",
    "* 求4的平方根：  math.sqrt(4)   \n",
    "* 求$\\log{_2}8$：math.log2(8)"
   ]
  },
  {
   "cell_type": "code",
   "execution_count": 6,
   "metadata": {},
   "outputs": [
    {
     "name": "stdout",
     "output_type": "stream",
     "text": [
      "0.479425538604203\n"
     ]
    }
   ],
   "source": [
    "import math            #导入math库所有函数\n",
    "x=math.sin(0.5)\n",
    "\n",
    "print(x)"
   ]
  },
  {
   "cell_type": "markdown",
   "metadata": {},
   "source": [
    "### 练习3 ： 根据用户输入的两个点坐标，求解它们之间的距离？\n",
    "\n",
    "* 输入样例：两点坐标，$(x1,y1)$和$(x2,y2)$\n",
    "\n",
    "    1.1,1.2\n",
    "    \n",
    "    0.1,0.2\n",
    "* 输出样例：两点之间的距离\n",
    "\n",
    "    0.14142135623730942\n",
    "    _这里是不是写错了_\n",
    "    \n",
    "* 方法：根据输入的坐标点，利用距离公式$D=\\sqrt{(x1-x2)^2+(y1-y2)^2}$求解"
   ]
  },
  {
   "cell_type": "code",
   "execution_count": 7,
   "metadata": {},
   "outputs": [
    {
     "name": "stdout",
     "output_type": "stream",
     "text": [
      "输入两点坐标\n",
      "两点间距离为：  1.4142135623730951\n"
     ]
    }
   ],
   "source": [
    "import math\n",
    "print(\"输入两点坐标\")\n",
    "x1=eval(input(\"x1: \"))\n",
    "y1=eval(input(\"y1: \"))\n",
    "x2=eval(input(\"x2: \"))\n",
    "y2=eval(input(\"y2: \"))\n",
    "print(\"两点间距离为： \",math.sqrt((x1-x2)*(x1-x2)+(y1-y2)*(y1-y2)))"
   ]
  },
  {
   "cell_type": "markdown",
   "metadata": {},
   "source": [
    "#### 关系运算符\n",
    "*  \\>，  <，    ==，   <= ，   >=， 功能与C语言的运算符基本一致。\n",
    "\n",
    "#### 逻辑运算符\n",
    "*  and， or， not，  功能与C语言的并且、或者，非运算基本一致。"
   ]
  },
  {
   "cell_type": "code",
   "execution_count": 8,
   "metadata": {},
   "outputs": [
    {
     "name": "stdout",
     "output_type": "stream",
     "text": [
      "False\n",
      "True False\n"
     ]
    }
   ],
   "source": [
    "a=5\n",
    "b=6\n",
    "s=a>10 and b<10\n",
    "print(s)\n",
    "s=a>10 or b<10\n",
    "print(s, not s)"
   ]
  }
 ],
 "metadata": {
  "kernelspec": {
   "display_name": "Python 3",
   "language": "python",
   "name": "python3"
  },
  "language_info": {
   "codemirror_mode": {
    "name": "ipython",
    "version": 3
   },
   "file_extension": ".py",
   "mimetype": "text/x-python",
   "name": "python",
   "nbconvert_exporter": "python",
   "pygments_lexer": "ipython3",
   "version": "3.12.8"
  }
 },
 "nbformat": 4,
 "nbformat_minor": 2
}
