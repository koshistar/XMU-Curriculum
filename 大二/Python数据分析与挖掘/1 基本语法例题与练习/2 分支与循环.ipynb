{
 "cells": [
  {
   "cell_type": "markdown",
   "metadata": {},
   "source": [
    "## if条件结构    \n",
    "### 语法\n",
    "``` python\n",
    "    if <test1> :\n",
    "        <statement1>\n",
    "    elif <test2> :\n",
    "        <statement2>\n",
    "    elif <test3> :\n",
    "        <statement3>\n",
    "    ……\n",
    "    else :\n",
    "        <statementN>\n",
    "```\n",
    "* 注意缩进，statements必须比if/elif /else多缩进一层，以表明他们属于if语句的一部分。**Python依赖缩进识别if语句到哪里结束**\n",
    "* 不要忘了冒号。\n",
    "* 如果statement只有一行语句可以将其写在冒号后面，但最好不要这样。\n",
    "* 缩进时可以用tab，也可以用空格，但在同一段代码里不要混用这两种方法"
   ]
  },
  {
   "cell_type": "code",
   "execution_count": null,
   "metadata": {},
   "outputs": [],
   "source": [
    "x=eval(input('请输入一个数：'))\n",
    "if x<0:\n",
    "    print('x是负数')\n",
    "elif x==0:\n",
    "    print('x是0')\n",
    "else:\n",
    "    print('x是正数')\n",
    "    "
   ]
  },
  {
   "cell_type": "code",
   "execution_count": null,
   "metadata": {},
   "outputs": [],
   "source": [
    "x=eval(input('请输入一个数：'))\n",
    "if x%2==0:\n",
    "    print('x可以被2整除')\n",
    "    print('所以x是偶数')\n",
    "    if x%3==0:\n",
    "        print('x是3的倍数')\n",
    "else:\n",
    "    print('x不能被2整除')\n",
    "    print('所以x是奇数')\n",
    "    "
   ]
  },
  {
   "cell_type": "markdown",
   "metadata": {},
   "source": [
    "### 练习1：输入三条边a,b,c，判断它们是否能组成三角形。\n",
    "* 输入样例1：\n",
    "\n",
    "        请输入a：3    \n",
    "        请输入b：4    \n",
    "        请输入c：5    \n",
    "\n",
    "* 输出样例1：\n",
    "\n",
    "        可以组成三角形\n",
    "    \n",
    "    \n",
    "* 输入样例2：\n",
    "\n",
    "        请输入a：3    \n",
    "        请输入b：1    \n",
    "        请输入c：5    \n",
    "\n",
    "* 输出样例2：\n",
    "\n",
    "        不可以组成三角形\n"
   ]
  },
  {
   "cell_type": "code",
   "execution_count": 4,
   "metadata": {},
   "outputs": [
    {
     "name": "stdout",
     "output_type": "stream",
     "text": [
      "输入三条边，判断能否构成三角形\n",
      "不可以组成三角形\n"
     ]
    }
   ],
   "source": [
    "print(\"输入三条边，判断能否构成三角形\")\n",
    "a=eval(input(\"a: \"))\n",
    "b=eval(input(\"b: \"))\n",
    "c=eval(input(\"c: \"))\n",
    "flag=True\n",
    "if a+b<c:\n",
    "    flag=False\n",
    "elif a+c<c:\n",
    "    flag=False\n",
    "elif b+c<a:\n",
    "    flag=False\n",
    "if flag==True:\n",
    "    print(\"可以组成三角形\")\n",
    "else:\n",
    "    print(\"不可以组成三角形\")"
   ]
  },
  {
   "cell_type": "markdown",
   "metadata": {
    "collapsed": true
   },
   "source": [
    "## while 循环结构\n",
    "### 语法\n",
    "```python\n",
    "    while <test>:\n",
    "        <statement1>\n",
    "    [else:\n",
    "        <statement2>]\n",
    "```\n",
    "* 若test不等于0，True，非空字符串或数据结构，反复执行statement1，否则结束循环执行else分支（若有else）或者下一条语句。\n",
    "* break, 结束整个循环语句，执行循环语句之后的第一条语句。\n",
    "* continue， 结束当前一轮的循环，回到循环的首行。\n",
    "* pass，相当于空行，什么也不做。\n",
    "* else, 循环正常结束时（非break退出），进入else分支。该分支可以省略\n"
   ]
  },
  {
   "cell_type": "code",
   "execution_count": 5,
   "metadata": {},
   "outputs": [
    {
     "name": "stdout",
     "output_type": "stream",
     "text": [
      "3-2-1-"
     ]
    }
   ],
   "source": [
    "#例题：输出比x小的正数，每个数后有一个 - 号\n",
    "x=3\n",
    "while x>0:\n",
    "    print(x,end='-')                    #end设置：print输出时 每行结束的符号\n",
    "    x-=1"
   ]
  },
  {
   "cell_type": "code",
   "execution_count": null,
   "metadata": {},
   "outputs": [],
   "source": [
    "#例题：输出比x小的正数，每个数后有一个 - 号\n",
    "x=3\n",
    "while True:\n",
    "    print(x,end='-')\n",
    "    x-=1\n",
    "    if x==0:\n",
    "        break"
   ]
  },
  {
   "cell_type": "code",
   "execution_count": null,
   "metadata": {},
   "outputs": [
    {
     "name": "stdout",
     "output_type": "stream",
     "text": [
      "113 是质数\n"
     ]
    }
   ],
   "source": [
    "#例题3：判断117是否是质数。\n",
    "\n",
    "y=117\n",
    "x=y//2\n",
    "while x>1:\n",
    "    if y%x==0:\n",
    "        print(y,'不是质数')\n",
    "        break\n",
    "    x-=1\n",
    "else:\n",
    "    print(y,'是质数')"
   ]
  },
  {
   "cell_type": "markdown",
   "metadata": {},
   "source": [
    "### 练习2\n",
    "* 计算$\\pi=4*(1-\\frac{1}{3}+\\frac{1}{5}-\\frac{1}{7}+...+\\frac{(-1)^{i+1}}{2i-1})$，当加项的绝对值<0.0001时结束\n",
    "\n",
    "(结果是：3.141392653591791)"
   ]
  },
  {
   "cell_type": "code",
   "execution_count": 10,
   "metadata": {},
   "outputs": [
    {
     "name": "stdout",
     "output_type": "stream",
     "text": [
      "3.141392653591791\n"
     ]
    }
   ],
   "source": [
    "i=1\n",
    "pi=0\n",
    "flag=1\n",
    "while 1.0/i>=0.0001:\n",
    "    pi+=flag*1.0/i\n",
    "    flag=-flag\n",
    "    i+=2\n",
    "print(4*pi)"
   ]
  },
  {
   "cell_type": "markdown",
   "metadata": {},
   "source": [
    "## for 循环结构\n",
    "### 语法\n",
    "```python\n",
    "    for <var> in <object>:\n",
    "       <statements>\n",
    "    [else:\n",
    "       <statements>]\n",
    "```       \n",
    " \n",
    "* target是变量，object是列表，元组，range或其他的序列类型。var取object中的不同元素，对针var每个，执行一次statements\n",
    "* else可以省略\n",
    "* 若循环正常结束（非break退出），则执行else中的statements"
   ]
  },
  {
   "cell_type": "markdown",
   "metadata": {},
   "source": [
    "### range(start, stop[, step]) \n",
    "* 构造的序列从start(可省略，默认为0)开始，每次递增step（可省略，默认为1），一直到stop-1（不含stop）为止\n",
    "* 左闭右开区间 [start, stop) 中数字组成的序列，通常用于循环。\n",
    "* 与list相比，range采用了特殊的技术（迭代器），所以占用内存极少。\n",
    "* 可通过内置函数list将其转化为列表。"
   ]
  },
  {
   "cell_type": "code",
   "execution_count": 11,
   "metadata": {},
   "outputs": [
    {
     "name": "stdout",
     "output_type": "stream",
     "text": [
      "0 1 2 3 4 5 6 7 8 9 "
     ]
    }
   ],
   "source": [
    "for i in range(10):\n",
    "    print(i,end=' ')"
   ]
  },
  {
   "cell_type": "markdown",
   "metadata": {},
   "source": [
    "### 练习3\n",
    "* 输入n，计算$ \\frac{1}{1}+\\frac{1}{2}+\\frac{1}{3}+...+\\frac{1}{n}$\n",
    "\n",
    "（输入10，输出 2.9289682539682538）"
   ]
  },
  {
   "cell_type": "code",
   "execution_count": 13,
   "metadata": {},
   "outputs": [
    {
     "name": "stdout",
     "output_type": "stream",
     "text": [
      "2.9289682539682538\n"
     ]
    }
   ],
   "source": [
    "n=int(input())\n",
    "sum=0.0\n",
    "for i in range(n):\n",
    "    sum+=1.0/(i+1)\n",
    "print(sum)"
   ]
  },
  {
   "cell_type": "markdown",
   "metadata": {},
   "source": [
    "### 练习4\n",
    "* 计算 $e=1+\\frac{1}{1!}+\\frac{1}{2!}+\\frac{1}{3!}+...+\\frac{1}{i!}$，当$\\frac{1}{i!}<0.000001$时，结束求和。\n",
    "\n",
    "输入结果：2.7182815255731922"
   ]
  },
  {
   "cell_type": "code",
   "execution_count": 16,
   "metadata": {},
   "outputs": [
    {
     "name": "stdout",
     "output_type": "stream",
     "text": [
      "2.7182815255731922\n"
     ]
    }
   ],
   "source": [
    "sum=1.0\n",
    "i=1\n",
    "factor=1\n",
    "while True:\n",
    "    sum+=1.0/factor\n",
    "    i+=1\n",
    "    factor*=i\n",
    "    if(1.0/factor<0.000001):\n",
    "        break\n",
    "# sum+=1.0/factor\n",
    "print(sum)"
   ]
  },
  {
   "cell_type": "markdown",
   "metadata": {},
   "source": [
    "### 练习5\n",
    "输出：\n",
    "\n",
    "1×1=1\t\t\t\t\t\t\t\t\n",
    "1×2=2\t2×2=4\t\t\t\t\t\t\t\n",
    "1×3=3\t2×3=6\t3×3=9\t\t\t\t\t\t\n",
    "1×4=4\t2×4=8\t3×4=12\t4×4=16\t\t\t\t\t\n",
    "1×5=5\t2×5=10\t3×5=15\t4×5=20\t5×5=25\t\t\t\t\n",
    "1×6=6\t2×6=12\t3×6=16\t4×6=24\t5×6=30\t6×6=36\t\t\t\n",
    "1×7=7\t2×7=14\t3×7=21\t4×7=28\t5×7=35\t6×7=42\t7×7=49\t\t\n",
    "1×8=8\t2×8=16\t3×8=24\t4×8=32\t5×8=40\t6×8=48\t7×8=56\t8×8=64\t\n",
    "1×9=8\t2×9=18\t3×9=27\t4×9=36\t5×9=45\t6×9=36\t7×9=63\t8×9=72\t9×9=81"
   ]
  },
  {
   "cell_type": "code",
   "execution_count": 20,
   "metadata": {},
   "outputs": [
    {
     "name": "stdout",
     "output_type": "stream",
     "text": [
      "1 × 1 = 1\t\n",
      "1 × 2 = 2\t2 × 2 = 4\t\n",
      "1 × 3 = 3\t2 × 3 = 6\t3 × 3 = 9\t\n",
      "1 × 4 = 4\t2 × 4 = 8\t3 × 4 = 12\t4 × 4 = 16\t\n",
      "1 × 5 = 5\t2 × 5 = 10\t3 × 5 = 15\t4 × 5 = 20\t5 × 5 = 25\t\n",
      "1 × 6 = 6\t2 × 6 = 12\t3 × 6 = 18\t4 × 6 = 24\t5 × 6 = 30\t6 × 6 = 36\t\n",
      "1 × 7 = 7\t2 × 7 = 14\t3 × 7 = 21\t4 × 7 = 28\t5 × 7 = 35\t6 × 7 = 42\t7 × 7 = 49\t\n",
      "1 × 8 = 8\t2 × 8 = 16\t3 × 8 = 24\t4 × 8 = 32\t5 × 8 = 40\t6 × 8 = 48\t7 × 8 = 56\t8 × 8 = 64\t\n",
      "1 × 9 = 9\t2 × 9 = 18\t3 × 9 = 27\t4 × 9 = 36\t5 × 9 = 45\t6 × 9 = 54\t7 × 9 = 63\t8 × 9 = 72\t9 × 9 = 81\t\n"
     ]
    }
   ],
   "source": [
    "for i in range(9):\n",
    "    for j in range(i+1):\n",
    "        print(j+1,\"×\",i+1,\"=\",(j+1)*(i+1),end=\"\t\")\n",
    "    print(\"\")"
   ]
  }
 ],
 "metadata": {
  "kernelspec": {
   "display_name": "Python 3",
   "language": "python",
   "name": "python3"
  },
  "language_info": {
   "codemirror_mode": {
    "name": "ipython",
    "version": 3
   },
   "file_extension": ".py",
   "mimetype": "text/x-python",
   "name": "python",
   "nbconvert_exporter": "python",
   "pygments_lexer": "ipython3",
   "version": "3.12.8"
  }
 },
 "nbformat": 4,
 "nbformat_minor": 1
}
