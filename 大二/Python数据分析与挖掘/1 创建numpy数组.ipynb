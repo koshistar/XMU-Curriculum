{
 "cells": [
  {
   "cell_type": "code",
   "execution_count": 2,
   "metadata": {},
   "outputs": [],
   "source": [
    "import numpy as np"
   ]
  },
  {
   "cell_type": "code",
   "execution_count": 19,
   "metadata": {},
   "outputs": [
    {
     "name": "stdout",
     "output_type": "stream",
     "text": [
      "[[5.2 3.  4.5]\n",
      " [9.1 0.1 0.3]]\n"
     ]
    },
    {
     "data": {
      "text/plain": [
       "(2, 3)"
      ]
     },
     "execution_count": 19,
     "metadata": {},
     "output_type": "execute_result"
    }
   ],
   "source": [
    "#嵌套的二维列表\n",
    "data2_py=[[5.2,3.0,4.5],[9.1,0.1,0.3]]\n",
    "#转为数组\n",
    "data2_np=np.array(data2_py)\n",
    "print(data2_np)\n",
    "data2_np.shape                                     #查看数组形状"
   ]
  },
  {
   "cell_type": "code",
   "execution_count": 22,
   "metadata": {},
   "outputs": [
    {
     "name": "stdout",
     "output_type": "stream",
     "text": [
      "[[[0. 1. 2. 3. 4. 5. 6. 7. 8. 9.]]]\n"
     ]
    },
    {
     "data": {
      "text/plain": [
       "(1, 1, 10)"
      ]
     },
     "execution_count": 22,
     "metadata": {},
     "output_type": "execute_result"
    }
   ],
   "source": [
    "n1=np.array(range(0,10),dtype=np.float64,ndmin=3)\n",
    "print(n1)\n",
    "n1.shape"
   ]
  },
  {
   "cell_type": "code",
   "execution_count": 20,
   "metadata": {},
   "outputs": [
    {
     "name": "stdout",
     "output_type": "stream",
     "text": [
      "[  1.    25.75  50.5   75.25 100.  ]\n"
     ]
    },
    {
     "data": {
      "text/plain": [
       "(5,)"
      ]
     },
     "execution_count": 20,
     "metadata": {},
     "output_type": "execute_result"
    }
   ],
   "source": [
    "#创建[1,100]内的等差数组，有5个元素，各元素为float16型\n",
    "data3_np=np.linspace(1,100,num=5,dtype=\"float16\")\n",
    "print(data3_np)\n",
    "data3_np.shape"
   ]
  },
  {
   "cell_type": "code",
   "execution_count": 17,
   "metadata": {},
   "outputs": [
    {
     "name": "stdout",
     "output_type": "stream",
     "text": [
      "[    3     9    27    81   243   729  2187  6561 19683 59049]\n"
     ]
    }
   ],
   "source": [
    "#创建指数在[1,10]内、底数为3的等比数组，有10个元素，各元素为int型\n",
    "data4_np=np.logspace(1,10,num=10,dtype=int,base=3)\n",
    "print(data4_np)"
   ]
  },
  {
   "cell_type": "markdown",
   "metadata": {},
   "source": [
    "#### 生成随机数"
   ]
  },
  {
   "cell_type": "code",
   "execution_count": null,
   "metadata": {},
   "outputs": [],
   "source": [
    "#用rand生成2行3列的数组，每个元素是(0,1)内的随机小数\n",
    "rand1=np.random.rand(2, 3)\n",
    "rand1\n",
    "#print(type(rand1))"
   ]
  },
  {
   "cell_type": "code",
   "execution_count": 26,
   "metadata": {},
   "outputs": [
    {
     "data": {
      "text/plain": [
       "array([[0.16344333, 0.36988987, 0.92042423, 0.15805866, 0.61373117],\n",
       "       [0.18947543, 0.40909584, 0.38115403, 0.88399902, 0.88639257]])"
      ]
     },
     "execution_count": 26,
     "metadata": {},
     "output_type": "execute_result"
    }
   ],
   "source": [
    "#用random生成2行5列的数组，每个元素是(0,1)内的随机小数\n",
    "rand4=np.random.random(size=(2,5))\n",
    "rand4\n",
    "#print(type(rand4))"
   ]
  },
  {
   "cell_type": "code",
   "execution_count": null,
   "metadata": {},
   "outputs": [],
   "source": [
    "#用randint生成1行5列的数组，每个元素是[1,100]内的随机整数\n",
    "rand3=np.random.randint(1, 100,size=5)\n",
    "print(rand3)"
   ]
  },
  {
   "cell_type": "code",
   "execution_count": 21,
   "metadata": {},
   "outputs": [
    {
     "data": {
      "text/plain": [
       "array([[0.74070162, 0.09270834],\n",
       "       [0.54515396, 0.72837081],\n",
       "       [0.16411505, 0.7980653 ],\n",
       "       [0.9563887 , 0.54332539]])"
      ]
     },
     "execution_count": 21,
     "metadata": {},
     "output_type": "execute_result"
    }
   ],
   "source": [
    "#用uniform生成4行2列的均匀分布的数组，每个元素是(0,1)内的随机小数\n",
    "rand1=np.random.uniform(low=0.0, high=1.0, size=(4,2))\n",
    "rand1"
   ]
  },
  {
   "cell_type": "markdown",
   "metadata": {},
   "source": [
    "### 练习1：使用PPT上面的每一个函数，各生成一个数组"
   ]
  },
  {
   "cell_type": "code",
   "execution_count": null,
   "metadata": {},
   "outputs": [
    {
     "name": "stdout",
     "output_type": "stream",
     "text": [
      "[0 1 2 3 4 5 6 7 8 9]\n",
      "[ 0  2  4  6  8 10 12 14 16 18]\n",
      "[ 0.    3.75  7.5  11.25 15.   18.75 22.5  26.25 30.  ]\n",
      "[   2    4    8   16   32   64  128  256  512 1024]\n",
      "[0.77861203 0.09742858 0.02315248 0.11041331 0.40564032 0.47062667\n",
      " 0.24480738 0.45492095 0.98235102 0.39495757]\n",
      "[0.95269982 0.69470818 0.88818312 0.18512605 0.34040652 0.54927594\n",
      " 0.99887908 0.60209553 0.11541891 0.23553614]\n",
      "[7 4 2 1 1 9 6 2 7 8]\n",
      "[2.34725141 1.60590956 0.84684765 5.2019075  5.42225532 1.06494193\n",
      " 8.99300497 7.1041522  7.22469548 0.84852417]\n",
      "[15.38937783  4.61662166  5.30084629  8.45764354  2.49279698 27.62358745\n",
      "  4.51176881 -2.66672536 11.57646031  1.86112397]\n"
     ]
    }
   ],
   "source": [
    "print(np.array(range(0,10),dtype=None,ndmin=1))\n",
    "print(np.arange(0,20,2,dtype=None))\n",
    "print(np.linspace(0,30,9,dtype=None))\n",
    "print(np.logspace(1,10,num=10,base=2,dtype=int))\n",
    "print(np.random.rand(10))\n",
    "print(np.random.random(size=10))\n",
    "print(np.random.randint(0,10,size=10,dtype=int))\n",
    "print(np.random.uniform(0,10,size=10))s\n",
    "print(np.random.normal(5,10,size=10))"
   ]
  },
  {
   "cell_type": "code",
   "execution_count": 31,
   "metadata": {},
   "outputs": [
    {
     "name": "stdout",
     "output_type": "stream",
     "text": [
      "z1是： [[0. 0. 0. 0.]\n",
      " [0. 0. 0. 0.]\n",
      " [0. 0. 0. 0.]]\n",
      "\n",
      "e1是： [0. 0. 0.]\n"
     ]
    }
   ],
   "source": [
    "#创建特殊数组\n",
    "z1=np.zeros((3,4))                #3行4列的0数组\n",
    "e1=np.empty(3)                    #空数组\n",
    "print(\"z1是：\",z1)\n",
    "print(\"\\ne1是：\",e1)"
   ]
  },
  {
   "cell_type": "markdown",
   "metadata": {},
   "source": [
    "### 练习2：使用PPT上的zeros、ones、eye、identity等函数，各生成一个特殊数组"
   ]
  },
  {
   "cell_type": "code",
   "execution_count": 40,
   "metadata": {},
   "outputs": [
    {
     "name": "stdout",
     "output_type": "stream",
     "text": [
      "[[0. 0. 0.]\n",
      " [0. 0. 0.]]\n",
      "[[1. 0. 0.]\n",
      " [0. 1. 0.]]\n",
      "[[1. 0.]\n",
      " [0. 1.]]\n",
      "[[1. 1. 1.]\n",
      " [1. 1. 1.]]\n",
      "[[6 6 6]\n",
      " [6 6 6]]\n"
     ]
    }
   ],
   "source": [
    "print(np.zeros((2,3)))\n",
    "print(np.eye(2,3))\n",
    "# print(np.empty((3,3)))\n",
    "print(np.identity(2))\n",
    "print(np.ones((2,3)))\n",
    "print(np.full((2,3), 6))"
   ]
  },
  {
   "cell_type": "code",
   "execution_count": null,
   "metadata": {},
   "outputs": [],
   "source": [
    "#导入random模块\n",
    "from numpy import random"
   ]
  },
  {
   "cell_type": "code",
   "execution_count": 20,
   "metadata": {},
   "outputs": [
    {
     "name": "stdout",
     "output_type": "stream",
     "text": [
      "[0.30579963 0.93965437 0.28795076 0.47371309 0.35428845 0.67955427\n",
      " 0.80004615 0.80060018 0.62978614 0.35927705]\n",
      "[25 45 18 48 34]\n",
      "[ 0.19873622  0.07182165 -0.34907678  0.94686499 -1.22584169 -1.49276417\n",
      "  2.39012915 -0.990622  ]\n"
     ]
    }
   ],
   "source": [
    "print(random.rand(10))                     #导入random模块，再使用其中的函数，则不用写np\n",
    "print(random.randint(0,50,5))\n",
    "\n",
    "s=random.normal(0,1,1000)                #正态分布数组\n",
    "print(s)\n",
    "print(random.standard_normal(8))         #标准正态分布数组\n"
   ]
  }
 ],
 "metadata": {
  "kernelspec": {
   "display_name": "Python 3",
   "language": "python",
   "name": "python3"
  },
  "language_info": {
   "codemirror_mode": {
    "name": "ipython",
    "version": 3
   },
   "file_extension": ".py",
   "mimetype": "text/x-python",
   "name": "python",
   "nbconvert_exporter": "python",
   "pygments_lexer": "ipython3",
   "version": "3.12.8"
  }
 },
 "nbformat": 4,
 "nbformat_minor": 2
}
